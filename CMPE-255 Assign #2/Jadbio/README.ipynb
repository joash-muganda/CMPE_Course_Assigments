{
  "nbformat": 4,
  "nbformat_minor": 0,
  "metadata": {
    "colab": {
      "provenance": []
    },
    "kernelspec": {
      "name": "python3",
      "display_name": "Python 3"
    },
    "language_info": {
      "name": "python"
    }
  },
  "cells": [
    {
      "cell_type": "code",
      "execution_count": null,
      "metadata": {
        "id": "8aGATz0Vy-L2"
      },
      "outputs": [],
      "source": []
    },
    {
      "cell_type": "markdown",
      "source": [
        "# Data Science Assignment: JadBio\n",
        "\n",
        "## Overview\n",
        "\n",
        "This repository will, in the future, demonstrate the capabilities of AutoMLs without the need for coding through data and task descriptions for various data science tasks as part of an assignment. Here's a summary of the tasks and experiences during the assignment.\n",
        "\n",
        "## Challenges Encountered\n",
        "\n",
        "### Data Upload and Cleaning\n",
        "\n",
        "- Several attempts were made to upload the dataset into JadBio.\n",
        "- Different dataset sizes and cleaned data variations were tested.\n",
        "- Issues were encountered, and datasets could not be successfully created.\n",
        "\n",
        "### Exploring AutoML Solutions\n",
        "\n",
        "- In the search for alternative AutoML solutions, Google's Vertex AI was considered.\n",
        "- Dataset upload and preprocessing were successful with Vertex AI.\n",
        "- However, training models on three different datasets using Vertex AI failed.\n",
        "\n",
        "## Ongoing Exploration\n",
        "\n",
        "- Despite the challenges faced with previous AutoML solutions, the search for a suitable AutoML platform continues.\n",
        "- The goal is to find a platform that can effectively handle dataset upload, preprocessing, and model training for various data science tasks.\n",
        "\n",
        "Feel free to explore the code and data in this repository as part of the ongoing journey to find the right AutoML solution for the assignment.\n"
      ],
      "metadata": {
        "id": "MlLM-hkRzkG_"
      }
    }
  ]
}