{
  "nbformat": 4,
  "nbformat_minor": 0,
  "metadata": {
    "colab": {
      "provenance": []
    },
    "kernelspec": {
      "name": "python3",
      "display_name": "Python 3"
    },
    "language_info": {
      "name": "python"
    },
    "widgets": {
      "application/vnd.jupyter.widget-state+json": {
        "807d2591dc7e4a6e92a79ac4076918d4": {
          "model_module": "@jupyter-widgets/controls",
          "model_name": "HBoxModel",
          "model_module_version": "1.5.0",
          "state": {
            "_dom_classes": [],
            "_model_module": "@jupyter-widgets/controls",
            "_model_module_version": "1.5.0",
            "_model_name": "HBoxModel",
            "_view_count": null,
            "_view_module": "@jupyter-widgets/controls",
            "_view_module_version": "1.5.0",
            "_view_name": "HBoxView",
            "box_style": "",
            "children": [
              "IPY_MODEL_a9954970a7e94d6f8e5708a2a9738f2d",
              "IPY_MODEL_3219381ad4a64fffaf18a22c041fa43e",
              "IPY_MODEL_c24ec385b627496c97f51f1ae3b403d0"
            ],
            "layout": "IPY_MODEL_7715aad0ba16474fa386b70d9b78ffac"
          }
        },
        "a9954970a7e94d6f8e5708a2a9738f2d": {
          "model_module": "@jupyter-widgets/controls",
          "model_name": "HTMLModel",
          "model_module_version": "1.5.0",
          "state": {
            "_dom_classes": [],
            "_model_module": "@jupyter-widgets/controls",
            "_model_module_version": "1.5.0",
            "_model_name": "HTMLModel",
            "_view_count": null,
            "_view_module": "@jupyter-widgets/controls",
            "_view_module_version": "1.5.0",
            "_view_name": "HTMLView",
            "description": "",
            "description_tooltip": null,
            "layout": "IPY_MODEL_78a59dae18024d5080a2b51e136bb74f",
            "placeholder": "​",
            "style": "IPY_MODEL_340c1146d16f4a40a3592f14f6a73692",
            "value": "Processing:   0%"
          }
        },
        "3219381ad4a64fffaf18a22c041fa43e": {
          "model_module": "@jupyter-widgets/controls",
          "model_name": "FloatProgressModel",
          "model_module_version": "1.5.0",
          "state": {
            "_dom_classes": [],
            "_model_module": "@jupyter-widgets/controls",
            "_model_module_version": "1.5.0",
            "_model_name": "FloatProgressModel",
            "_view_count": null,
            "_view_module": "@jupyter-widgets/controls",
            "_view_module_version": "1.5.0",
            "_view_name": "ProgressView",
            "bar_style": "",
            "description": "",
            "description_tooltip": null,
            "layout": "IPY_MODEL_5444ac0f82984388adc701fb7b17b90b",
            "max": 3,
            "min": 0,
            "orientation": "horizontal",
            "style": "IPY_MODEL_ddc5c5455ce448f9b24dd56c18d368e1",
            "value": 3
          }
        },
        "c24ec385b627496c97f51f1ae3b403d0": {
          "model_module": "@jupyter-widgets/controls",
          "model_name": "HTMLModel",
          "model_module_version": "1.5.0",
          "state": {
            "_dom_classes": [],
            "_model_module": "@jupyter-widgets/controls",
            "_model_module_version": "1.5.0",
            "_model_name": "HTMLModel",
            "_view_count": null,
            "_view_module": "@jupyter-widgets/controls",
            "_view_module_version": "1.5.0",
            "_view_name": "HTMLView",
            "description": "",
            "description_tooltip": null,
            "layout": "IPY_MODEL_9e9edbe4c4e44edb826472504cb36c48",
            "placeholder": "​",
            "style": "IPY_MODEL_d2b0649a20644bafbada1c82a545617e",
            "value": " 0/3 [00:00&lt;?, ?it/s]"
          }
        },
        "7715aad0ba16474fa386b70d9b78ffac": {
          "model_module": "@jupyter-widgets/base",
          "model_name": "LayoutModel",
          "model_module_version": "1.2.0",
          "state": {
            "_model_module": "@jupyter-widgets/base",
            "_model_module_version": "1.2.0",
            "_model_name": "LayoutModel",
            "_view_count": null,
            "_view_module": "@jupyter-widgets/base",
            "_view_module_version": "1.2.0",
            "_view_name": "LayoutView",
            "align_content": null,
            "align_items": null,
            "align_self": null,
            "border": null,
            "bottom": null,
            "display": null,
            "flex": null,
            "flex_flow": null,
            "grid_area": null,
            "grid_auto_columns": null,
            "grid_auto_flow": null,
            "grid_auto_rows": null,
            "grid_column": null,
            "grid_gap": null,
            "grid_row": null,
            "grid_template_areas": null,
            "grid_template_columns": null,
            "grid_template_rows": null,
            "height": null,
            "justify_content": null,
            "justify_items": null,
            "left": null,
            "margin": null,
            "max_height": null,
            "max_width": null,
            "min_height": null,
            "min_width": null,
            "object_fit": null,
            "object_position": null,
            "order": null,
            "overflow": null,
            "overflow_x": null,
            "overflow_y": null,
            "padding": null,
            "right": null,
            "top": null,
            "visibility": "hidden",
            "width": null
          }
        },
        "78a59dae18024d5080a2b51e136bb74f": {
          "model_module": "@jupyter-widgets/base",
          "model_name": "LayoutModel",
          "model_module_version": "1.2.0",
          "state": {
            "_model_module": "@jupyter-widgets/base",
            "_model_module_version": "1.2.0",
            "_model_name": "LayoutModel",
            "_view_count": null,
            "_view_module": "@jupyter-widgets/base",
            "_view_module_version": "1.2.0",
            "_view_name": "LayoutView",
            "align_content": null,
            "align_items": null,
            "align_self": null,
            "border": null,
            "bottom": null,
            "display": null,
            "flex": null,
            "flex_flow": null,
            "grid_area": null,
            "grid_auto_columns": null,
            "grid_auto_flow": null,
            "grid_auto_rows": null,
            "grid_column": null,
            "grid_gap": null,
            "grid_row": null,
            "grid_template_areas": null,
            "grid_template_columns": null,
            "grid_template_rows": null,
            "height": null,
            "justify_content": null,
            "justify_items": null,
            "left": null,
            "margin": null,
            "max_height": null,
            "max_width": null,
            "min_height": null,
            "min_width": null,
            "object_fit": null,
            "object_position": null,
            "order": null,
            "overflow": null,
            "overflow_x": null,
            "overflow_y": null,
            "padding": null,
            "right": null,
            "top": null,
            "visibility": null,
            "width": null
          }
        },
        "340c1146d16f4a40a3592f14f6a73692": {
          "model_module": "@jupyter-widgets/controls",
          "model_name": "DescriptionStyleModel",
          "model_module_version": "1.5.0",
          "state": {
            "_model_module": "@jupyter-widgets/controls",
            "_model_module_version": "1.5.0",
            "_model_name": "DescriptionStyleModel",
            "_view_count": null,
            "_view_module": "@jupyter-widgets/base",
            "_view_module_version": "1.2.0",
            "_view_name": "StyleView",
            "description_width": ""
          }
        },
        "5444ac0f82984388adc701fb7b17b90b": {
          "model_module": "@jupyter-widgets/base",
          "model_name": "LayoutModel",
          "model_module_version": "1.2.0",
          "state": {
            "_model_module": "@jupyter-widgets/base",
            "_model_module_version": "1.2.0",
            "_model_name": "LayoutModel",
            "_view_count": null,
            "_view_module": "@jupyter-widgets/base",
            "_view_module_version": "1.2.0",
            "_view_name": "LayoutView",
            "align_content": null,
            "align_items": null,
            "align_self": null,
            "border": null,
            "bottom": null,
            "display": null,
            "flex": null,
            "flex_flow": null,
            "grid_area": null,
            "grid_auto_columns": null,
            "grid_auto_flow": null,
            "grid_auto_rows": null,
            "grid_column": null,
            "grid_gap": null,
            "grid_row": null,
            "grid_template_areas": null,
            "grid_template_columns": null,
            "grid_template_rows": null,
            "height": null,
            "justify_content": null,
            "justify_items": null,
            "left": null,
            "margin": null,
            "max_height": null,
            "max_width": null,
            "min_height": null,
            "min_width": null,
            "object_fit": null,
            "object_position": null,
            "order": null,
            "overflow": null,
            "overflow_x": null,
            "overflow_y": null,
            "padding": null,
            "right": null,
            "top": null,
            "visibility": null,
            "width": null
          }
        },
        "ddc5c5455ce448f9b24dd56c18d368e1": {
          "model_module": "@jupyter-widgets/controls",
          "model_name": "ProgressStyleModel",
          "model_module_version": "1.5.0",
          "state": {
            "_model_module": "@jupyter-widgets/controls",
            "_model_module_version": "1.5.0",
            "_model_name": "ProgressStyleModel",
            "_view_count": null,
            "_view_module": "@jupyter-widgets/base",
            "_view_module_version": "1.2.0",
            "_view_name": "StyleView",
            "bar_color": null,
            "description_width": ""
          }
        },
        "9e9edbe4c4e44edb826472504cb36c48": {
          "model_module": "@jupyter-widgets/base",
          "model_name": "LayoutModel",
          "model_module_version": "1.2.0",
          "state": {
            "_model_module": "@jupyter-widgets/base",
            "_model_module_version": "1.2.0",
            "_model_name": "LayoutModel",
            "_view_count": null,
            "_view_module": "@jupyter-widgets/base",
            "_view_module_version": "1.2.0",
            "_view_name": "LayoutView",
            "align_content": null,
            "align_items": null,
            "align_self": null,
            "border": null,
            "bottom": null,
            "display": null,
            "flex": null,
            "flex_flow": null,
            "grid_area": null,
            "grid_auto_columns": null,
            "grid_auto_flow": null,
            "grid_auto_rows": null,
            "grid_column": null,
            "grid_gap": null,
            "grid_row": null,
            "grid_template_areas": null,
            "grid_template_columns": null,
            "grid_template_rows": null,
            "height": null,
            "justify_content": null,
            "justify_items": null,
            "left": null,
            "margin": null,
            "max_height": null,
            "max_width": null,
            "min_height": null,
            "min_width": null,
            "object_fit": null,
            "object_position": null,
            "order": null,
            "overflow": null,
            "overflow_x": null,
            "overflow_y": null,
            "padding": null,
            "right": null,
            "top": null,
            "visibility": null,
            "width": null
          }
        },
        "d2b0649a20644bafbada1c82a545617e": {
          "model_module": "@jupyter-widgets/controls",
          "model_name": "DescriptionStyleModel",
          "model_module_version": "1.5.0",
          "state": {
            "_model_module": "@jupyter-widgets/controls",
            "_model_module_version": "1.5.0",
            "_model_name": "DescriptionStyleModel",
            "_view_count": null,
            "_view_module": "@jupyter-widgets/base",
            "_view_module_version": "1.2.0",
            "_view_name": "StyleView",
            "description_width": ""
          }
        }
      }
    }
  },
  "cells": [
    {
      "cell_type": "markdown",
      "source": [
        "**Anamoly Detection: Using GDP**"
      ],
      "metadata": {
        "id": "ix8o-UQlbYtZ"
      }
    },
    {
      "cell_type": "code",
      "source": [
        "!pip install pycaret\n"
      ],
      "metadata": {
        "id": "Au0L5EEWbhF4"
      },
      "execution_count": null,
      "outputs": []
    },
    {
      "cell_type": "code",
      "source": [
        "from google.colab import files\n",
        "da = files.upload()"
      ],
      "metadata": {
        "colab": {
          "base_uri": "https://localhost:8080/",
          "height": 73
        },
        "id": "6ESdTSUPcRGc",
        "outputId": "6e1fad2c-e4fd-4475-ec01-ffe29588c5ce"
      },
      "execution_count": 3,
      "outputs": [
        {
          "output_type": "display_data",
          "data": {
            "text/plain": [
              "<IPython.core.display.HTML object>"
            ],
            "text/html": [
              "\n",
              "     <input type=\"file\" id=\"files-035eb015-4021-4df7-91b5-de756619b878\" name=\"files[]\" multiple disabled\n",
              "        style=\"border:none\" />\n",
              "     <output id=\"result-035eb015-4021-4df7-91b5-de756619b878\">\n",
              "      Upload widget is only available when the cell has been executed in the\n",
              "      current browser session. Please rerun this cell to enable.\n",
              "      </output>\n",
              "      <script>// Copyright 2017 Google LLC\n",
              "//\n",
              "// Licensed under the Apache License, Version 2.0 (the \"License\");\n",
              "// you may not use this file except in compliance with the License.\n",
              "// You may obtain a copy of the License at\n",
              "//\n",
              "//      http://www.apache.org/licenses/LICENSE-2.0\n",
              "//\n",
              "// Unless required by applicable law or agreed to in writing, software\n",
              "// distributed under the License is distributed on an \"AS IS\" BASIS,\n",
              "// WITHOUT WARRANTIES OR CONDITIONS OF ANY KIND, either express or implied.\n",
              "// See the License for the specific language governing permissions and\n",
              "// limitations under the License.\n",
              "\n",
              "/**\n",
              " * @fileoverview Helpers for google.colab Python module.\n",
              " */\n",
              "(function(scope) {\n",
              "function span(text, styleAttributes = {}) {\n",
              "  const element = document.createElement('span');\n",
              "  element.textContent = text;\n",
              "  for (const key of Object.keys(styleAttributes)) {\n",
              "    element.style[key] = styleAttributes[key];\n",
              "  }\n",
              "  return element;\n",
              "}\n",
              "\n",
              "// Max number of bytes which will be uploaded at a time.\n",
              "const MAX_PAYLOAD_SIZE = 100 * 1024;\n",
              "\n",
              "function _uploadFiles(inputId, outputId) {\n",
              "  const steps = uploadFilesStep(inputId, outputId);\n",
              "  const outputElement = document.getElementById(outputId);\n",
              "  // Cache steps on the outputElement to make it available for the next call\n",
              "  // to uploadFilesContinue from Python.\n",
              "  outputElement.steps = steps;\n",
              "\n",
              "  return _uploadFilesContinue(outputId);\n",
              "}\n",
              "\n",
              "// This is roughly an async generator (not supported in the browser yet),\n",
              "// where there are multiple asynchronous steps and the Python side is going\n",
              "// to poll for completion of each step.\n",
              "// This uses a Promise to block the python side on completion of each step,\n",
              "// then passes the result of the previous step as the input to the next step.\n",
              "function _uploadFilesContinue(outputId) {\n",
              "  const outputElement = document.getElementById(outputId);\n",
              "  const steps = outputElement.steps;\n",
              "\n",
              "  const next = steps.next(outputElement.lastPromiseValue);\n",
              "  return Promise.resolve(next.value.promise).then((value) => {\n",
              "    // Cache the last promise value to make it available to the next\n",
              "    // step of the generator.\n",
              "    outputElement.lastPromiseValue = value;\n",
              "    return next.value.response;\n",
              "  });\n",
              "}\n",
              "\n",
              "/**\n",
              " * Generator function which is called between each async step of the upload\n",
              " * process.\n",
              " * @param {string} inputId Element ID of the input file picker element.\n",
              " * @param {string} outputId Element ID of the output display.\n",
              " * @return {!Iterable<!Object>} Iterable of next steps.\n",
              " */\n",
              "function* uploadFilesStep(inputId, outputId) {\n",
              "  const inputElement = document.getElementById(inputId);\n",
              "  inputElement.disabled = false;\n",
              "\n",
              "  const outputElement = document.getElementById(outputId);\n",
              "  outputElement.innerHTML = '';\n",
              "\n",
              "  const pickedPromise = new Promise((resolve) => {\n",
              "    inputElement.addEventListener('change', (e) => {\n",
              "      resolve(e.target.files);\n",
              "    });\n",
              "  });\n",
              "\n",
              "  const cancel = document.createElement('button');\n",
              "  inputElement.parentElement.appendChild(cancel);\n",
              "  cancel.textContent = 'Cancel upload';\n",
              "  const cancelPromise = new Promise((resolve) => {\n",
              "    cancel.onclick = () => {\n",
              "      resolve(null);\n",
              "    };\n",
              "  });\n",
              "\n",
              "  // Wait for the user to pick the files.\n",
              "  const files = yield {\n",
              "    promise: Promise.race([pickedPromise, cancelPromise]),\n",
              "    response: {\n",
              "      action: 'starting',\n",
              "    }\n",
              "  };\n",
              "\n",
              "  cancel.remove();\n",
              "\n",
              "  // Disable the input element since further picks are not allowed.\n",
              "  inputElement.disabled = true;\n",
              "\n",
              "  if (!files) {\n",
              "    return {\n",
              "      response: {\n",
              "        action: 'complete',\n",
              "      }\n",
              "    };\n",
              "  }\n",
              "\n",
              "  for (const file of files) {\n",
              "    const li = document.createElement('li');\n",
              "    li.append(span(file.name, {fontWeight: 'bold'}));\n",
              "    li.append(span(\n",
              "        `(${file.type || 'n/a'}) - ${file.size} bytes, ` +\n",
              "        `last modified: ${\n",
              "            file.lastModifiedDate ? file.lastModifiedDate.toLocaleDateString() :\n",
              "                                    'n/a'} - `));\n",
              "    const percent = span('0% done');\n",
              "    li.appendChild(percent);\n",
              "\n",
              "    outputElement.appendChild(li);\n",
              "\n",
              "    const fileDataPromise = new Promise((resolve) => {\n",
              "      const reader = new FileReader();\n",
              "      reader.onload = (e) => {\n",
              "        resolve(e.target.result);\n",
              "      };\n",
              "      reader.readAsArrayBuffer(file);\n",
              "    });\n",
              "    // Wait for the data to be ready.\n",
              "    let fileData = yield {\n",
              "      promise: fileDataPromise,\n",
              "      response: {\n",
              "        action: 'continue',\n",
              "      }\n",
              "    };\n",
              "\n",
              "    // Use a chunked sending to avoid message size limits. See b/62115660.\n",
              "    let position = 0;\n",
              "    do {\n",
              "      const length = Math.min(fileData.byteLength - position, MAX_PAYLOAD_SIZE);\n",
              "      const chunk = new Uint8Array(fileData, position, length);\n",
              "      position += length;\n",
              "\n",
              "      const base64 = btoa(String.fromCharCode.apply(null, chunk));\n",
              "      yield {\n",
              "        response: {\n",
              "          action: 'append',\n",
              "          file: file.name,\n",
              "          data: base64,\n",
              "        },\n",
              "      };\n",
              "\n",
              "      let percentDone = fileData.byteLength === 0 ?\n",
              "          100 :\n",
              "          Math.round((position / fileData.byteLength) * 100);\n",
              "      percent.textContent = `${percentDone}% done`;\n",
              "\n",
              "    } while (position < fileData.byteLength);\n",
              "  }\n",
              "\n",
              "  // All done.\n",
              "  yield {\n",
              "    response: {\n",
              "      action: 'complete',\n",
              "    }\n",
              "  };\n",
              "}\n",
              "\n",
              "scope.google = scope.google || {};\n",
              "scope.google.colab = scope.google.colab || {};\n",
              "scope.google.colab._files = {\n",
              "  _uploadFiles,\n",
              "  _uploadFilesContinue,\n",
              "};\n",
              "})(self);\n",
              "</script> "
            ]
          },
          "metadata": {}
        },
        {
          "output_type": "stream",
          "name": "stdout",
          "text": [
            "Saving Cleaned_Data_Africa.csv to Cleaned_Data_Africa.csv\n"
          ]
        }
      ]
    },
    {
      "cell_type": "code",
      "execution_count": 4,
      "metadata": {
        "id": "-gxBdA_-bEpe"
      },
      "outputs": [],
      "source": [
        "import pandas as pd\n",
        "df = pd.read_csv(\"Cleaned_Data_Africa.csv\")\n"
      ]
    },
    {
      "cell_type": "code",
      "source": [
        "#Setup Anomaly Detection\n",
        "from pycaret.anomaly import *\n",
        "s = setup(df, session_id = 123)\n"
      ],
      "metadata": {
        "colab": {
          "base_uri": "https://localhost:8080/",
          "height": 551
        },
        "id": "tHx_7h4nchuz",
        "outputId": "12d4fb1f-930d-40bb-cfe2-e435752c0b81"
      },
      "execution_count": 5,
      "outputs": [
        {
          "output_type": "display_data",
          "data": {
            "text/plain": [
              "<pandas.io.formats.style.Styler at 0x7d6ae7aed090>"
            ],
            "text/html": [
              "<style type=\"text/css\">\n",
              "#T_448cc_row5_col1 {\n",
              "  background-color: lightgreen;\n",
              "}\n",
              "</style>\n",
              "<table id=\"T_448cc\" class=\"dataframe\">\n",
              "  <thead>\n",
              "    <tr>\n",
              "      <th class=\"blank level0\" >&nbsp;</th>\n",
              "      <th id=\"T_448cc_level0_col0\" class=\"col_heading level0 col0\" >Description</th>\n",
              "      <th id=\"T_448cc_level0_col1\" class=\"col_heading level0 col1\" >Value</th>\n",
              "    </tr>\n",
              "  </thead>\n",
              "  <tbody>\n",
              "    <tr>\n",
              "      <th id=\"T_448cc_level0_row0\" class=\"row_heading level0 row0\" >0</th>\n",
              "      <td id=\"T_448cc_row0_col0\" class=\"data row0 col0\" >Session id</td>\n",
              "      <td id=\"T_448cc_row0_col1\" class=\"data row0 col1\" >123</td>\n",
              "    </tr>\n",
              "    <tr>\n",
              "      <th id=\"T_448cc_level0_row1\" class=\"row_heading level0 row1\" >1</th>\n",
              "      <td id=\"T_448cc_row1_col0\" class=\"data row1 col0\" >Original data shape</td>\n",
              "      <td id=\"T_448cc_row1_col1\" class=\"data row1 col1\" >(1179, 6)</td>\n",
              "    </tr>\n",
              "    <tr>\n",
              "      <th id=\"T_448cc_level0_row2\" class=\"row_heading level0 row2\" >2</th>\n",
              "      <td id=\"T_448cc_row2_col0\" class=\"data row2 col0\" >Transformed data shape</td>\n",
              "      <td id=\"T_448cc_row2_col1\" class=\"data row2 col1\" >(1179, 62)</td>\n",
              "    </tr>\n",
              "    <tr>\n",
              "      <th id=\"T_448cc_level0_row3\" class=\"row_heading level0 row3\" >3</th>\n",
              "      <td id=\"T_448cc_row3_col0\" class=\"data row3 col0\" >Numeric features</td>\n",
              "      <td id=\"T_448cc_row3_col1\" class=\"data row3 col1\" >4</td>\n",
              "    </tr>\n",
              "    <tr>\n",
              "      <th id=\"T_448cc_level0_row4\" class=\"row_heading level0 row4\" >4</th>\n",
              "      <td id=\"T_448cc_row4_col0\" class=\"data row4 col0\" >Categorical features</td>\n",
              "      <td id=\"T_448cc_row4_col1\" class=\"data row4 col1\" >2</td>\n",
              "    </tr>\n",
              "    <tr>\n",
              "      <th id=\"T_448cc_level0_row5\" class=\"row_heading level0 row5\" >5</th>\n",
              "      <td id=\"T_448cc_row5_col0\" class=\"data row5 col0\" >Preprocess</td>\n",
              "      <td id=\"T_448cc_row5_col1\" class=\"data row5 col1\" >True</td>\n",
              "    </tr>\n",
              "    <tr>\n",
              "      <th id=\"T_448cc_level0_row6\" class=\"row_heading level0 row6\" >6</th>\n",
              "      <td id=\"T_448cc_row6_col0\" class=\"data row6 col0\" >Imputation type</td>\n",
              "      <td id=\"T_448cc_row6_col1\" class=\"data row6 col1\" >simple</td>\n",
              "    </tr>\n",
              "    <tr>\n",
              "      <th id=\"T_448cc_level0_row7\" class=\"row_heading level0 row7\" >7</th>\n",
              "      <td id=\"T_448cc_row7_col0\" class=\"data row7 col0\" >Numeric imputation</td>\n",
              "      <td id=\"T_448cc_row7_col1\" class=\"data row7 col1\" >mean</td>\n",
              "    </tr>\n",
              "    <tr>\n",
              "      <th id=\"T_448cc_level0_row8\" class=\"row_heading level0 row8\" >8</th>\n",
              "      <td id=\"T_448cc_row8_col0\" class=\"data row8 col0\" >Categorical imputation</td>\n",
              "      <td id=\"T_448cc_row8_col1\" class=\"data row8 col1\" >mode</td>\n",
              "    </tr>\n",
              "    <tr>\n",
              "      <th id=\"T_448cc_level0_row9\" class=\"row_heading level0 row9\" >9</th>\n",
              "      <td id=\"T_448cc_row9_col0\" class=\"data row9 col0\" >Maximum one-hot encoding</td>\n",
              "      <td id=\"T_448cc_row9_col1\" class=\"data row9 col1\" >-1</td>\n",
              "    </tr>\n",
              "    <tr>\n",
              "      <th id=\"T_448cc_level0_row10\" class=\"row_heading level0 row10\" >10</th>\n",
              "      <td id=\"T_448cc_row10_col0\" class=\"data row10 col0\" >Encoding method</td>\n",
              "      <td id=\"T_448cc_row10_col1\" class=\"data row10 col1\" >None</td>\n",
              "    </tr>\n",
              "    <tr>\n",
              "      <th id=\"T_448cc_level0_row11\" class=\"row_heading level0 row11\" >11</th>\n",
              "      <td id=\"T_448cc_row11_col0\" class=\"data row11 col0\" >CPU Jobs</td>\n",
              "      <td id=\"T_448cc_row11_col1\" class=\"data row11 col1\" >-1</td>\n",
              "    </tr>\n",
              "    <tr>\n",
              "      <th id=\"T_448cc_level0_row12\" class=\"row_heading level0 row12\" >12</th>\n",
              "      <td id=\"T_448cc_row12_col0\" class=\"data row12 col0\" >Use GPU</td>\n",
              "      <td id=\"T_448cc_row12_col1\" class=\"data row12 col1\" >False</td>\n",
              "    </tr>\n",
              "    <tr>\n",
              "      <th id=\"T_448cc_level0_row13\" class=\"row_heading level0 row13\" >13</th>\n",
              "      <td id=\"T_448cc_row13_col0\" class=\"data row13 col0\" >Log Experiment</td>\n",
              "      <td id=\"T_448cc_row13_col1\" class=\"data row13 col1\" >False</td>\n",
              "    </tr>\n",
              "    <tr>\n",
              "      <th id=\"T_448cc_level0_row14\" class=\"row_heading level0 row14\" >14</th>\n",
              "      <td id=\"T_448cc_row14_col0\" class=\"data row14 col0\" >Experiment Name</td>\n",
              "      <td id=\"T_448cc_row14_col1\" class=\"data row14 col1\" >anomaly-default-name</td>\n",
              "    </tr>\n",
              "    <tr>\n",
              "      <th id=\"T_448cc_level0_row15\" class=\"row_heading level0 row15\" >15</th>\n",
              "      <td id=\"T_448cc_row15_col0\" class=\"data row15 col0\" >USI</td>\n",
              "      <td id=\"T_448cc_row15_col1\" class=\"data row15 col1\" >7a4c</td>\n",
              "    </tr>\n",
              "  </tbody>\n",
              "</table>\n"
            ]
          },
          "metadata": {}
        }
      ]
    },
    {
      "cell_type": "code",
      "source": [
        "iso_forest = create_model('iforest')\n"
      ],
      "metadata": {
        "colab": {
          "base_uri": "https://localhost:8080/",
          "height": 17,
          "referenced_widgets": [
            "807d2591dc7e4a6e92a79ac4076918d4",
            "a9954970a7e94d6f8e5708a2a9738f2d",
            "3219381ad4a64fffaf18a22c041fa43e",
            "c24ec385b627496c97f51f1ae3b403d0",
            "7715aad0ba16474fa386b70d9b78ffac",
            "78a59dae18024d5080a2b51e136bb74f",
            "340c1146d16f4a40a3592f14f6a73692",
            "5444ac0f82984388adc701fb7b17b90b",
            "ddc5c5455ce448f9b24dd56c18d368e1",
            "9e9edbe4c4e44edb826472504cb36c48",
            "d2b0649a20644bafbada1c82a545617e"
          ]
        },
        "id": "lpG2AMIzcrq2",
        "outputId": "33f9c9db-e472-478b-c869-317d260d775b"
      },
      "execution_count": 7,
      "outputs": [
        {
          "output_type": "display_data",
          "data": {
            "text/plain": [
              "<IPython.core.display.HTML object>"
            ],
            "text/html": []
          },
          "metadata": {}
        },
        {
          "output_type": "display_data",
          "data": {
            "text/plain": [
              "<IPython.core.display.HTML object>"
            ],
            "text/html": []
          },
          "metadata": {}
        },
        {
          "output_type": "display_data",
          "data": {
            "text/plain": [
              "Processing:   0%|          | 0/3 [00:00<?, ?it/s]"
            ],
            "application/vnd.jupyter.widget-view+json": {
              "version_major": 2,
              "version_minor": 0,
              "model_id": "807d2591dc7e4a6e92a79ac4076918d4"
            }
          },
          "metadata": {
            "application/vnd.jupyter.widget-view+json": {
              "colab": {
                "custom_widget_manager": {
                  "url": "https://ssl.gstatic.com/colaboratory-static/widgets/colab-cdn-widget-manager/b3e629b1971e1542/manager.min.js"
                }
              }
            }
          }
        },
        {
          "output_type": "display_data",
          "data": {
            "text/plain": [
              "<IPython.core.display.HTML object>"
            ],
            "text/html": []
          },
          "metadata": {}
        }
      ]
    },
    {
      "cell_type": "code",
      "source": [
        "#Assign Anomaly Labels\n",
        "results = assign_model(iso_forest)\n"
      ],
      "metadata": {
        "id": "ZxtAScElc34g"
      },
      "execution_count": 8,
      "outputs": []
    },
    {
      "cell_type": "code",
      "source": [
        "#show Anamolies\n",
        "anomalies = results[results['Anomaly'] == 1]\n",
        "print(anomalies)\n"
      ],
      "metadata": {
        "colab": {
          "base_uri": "https://localhost:8080/"
        },
        "id": "l-0Ccvt6dExb",
        "outputId": "6e41a5f9-0ea8-4ee7-e572-0bbd501b6500"
      },
      "execution_count": 9,
      "outputs": [
        {
          "output_type": "stream",
          "name": "stdout",
          "text": [
            "        ID  Year       Country       Continent  Population      GDP (USD)  \\\n",
            "366    437  2022      Ethiopia     East Africa    119346275  1.267835e+11   \n",
            "432    518  2011         Egypt    North Africa     83652513  2.359897e+11   \n",
            "433    519  2012         Egypt    North Africa     85480918  2.791167e+11   \n",
            "434    520  2013         Egypt    North Africa     87421593  2.884341e+11   \n",
            "435    521  2014         Egypt    North Africa     89422961  3.055954e+11   \n",
            "436    522  2015         Egypt    North Africa     91441901  3.293666e+11   \n",
            "437    523  2016         Egypt    North Africa     93450287  3.324417e+11   \n",
            "438    524  2017         Egypt    North Africa     95453031  2.483628e+11   \n",
            "439    525  2018         Egypt    North Africa     97441237  2.625886e+11   \n",
            "440    526  2019         Egypt    North Africa     99413912  3.186788e+11   \n",
            "441    527  2020         Egypt    North Africa    101366557  3.838178e+11   \n",
            "442    528  2021         Egypt    North Africa    103578375  4.246718e+11   \n",
            "443    529  2022         Egypt    North Africa    105838455  4.767477e+11   \n",
            "605    714  2000  South Africa    South Africa     44654851  1.517528e+11   \n",
            "606    715  2001  South Africa    South Africa     45271973  1.354299e+11   \n",
            "607    716  2002  South Africa    South Africa     45863475  1.290876e+11   \n",
            "608    717  2003  South Africa    South Africa     46437393  1.970190e+11   \n",
            "609    718  2004  South Africa    South Africa     47006970  2.558069e+11   \n",
            "610    719  2005  South Africa    South Africa     47588523  2.888672e+11   \n",
            "611    720  2006  South Africa    South Africa     48187532  3.038587e+11   \n",
            "612    721  2007  South Africa    South Africa     48807205  3.330771e+11   \n",
            "613    722  2008  South Africa    South Africa     49451421  3.161312e+11   \n",
            "614    723  2009  South Africa    South Africa     50131109  3.297541e+11   \n",
            "615    724  2010  South Africa    South Africa     50850031  4.173638e+11   \n",
            "616    725  2011  South Africa    South Africa     51613596  4.581995e+11   \n",
            "617    726  2012  South Africa    South Africa     52420474  4.344006e+11   \n",
            "618    727  2013  South Africa    South Africa     53263404  4.008860e+11   \n",
            "619    728  2014  South Africa    South Africa     54119177  3.811989e+11   \n",
            "620    729  2015  South Africa    South Africa     54968738  3.467098e+11   \n",
            "621    730  2016  South Africa    South Africa     55799253  3.235855e+11   \n",
            "622    731  2017  South Africa    South Africa     56611996  3.814488e+11   \n",
            "623    732  2018  South Africa    South Africa     57404352  4.041589e+11   \n",
            "624    733  2019  South Africa    South Africa     58178540  3.885312e+11   \n",
            "625    734  2020  South Africa    South Africa     58935529  3.376196e+11   \n",
            "626    735  2021  South Africa    South Africa     59572622  4.190156e+11   \n",
            "627    736  2022  South Africa    South Africa     60216602  4.058697e+11   \n",
            "674    783  2000      Cameroon  Central Africa     15314368  1.056658e+10   \n",
            "675    784  2001      Cameroon  Central Africa     15723132  1.095349e+10   \n",
            "676    785  2002      Cameroon  Central Africa     16145019  1.241725e+10   \n",
            "1087  1220  2000       Nigeria     West Africa    120780216  6.944897e+10   \n",
            "1091  1224  2004       Nigeria     West Africa    133619871  1.357647e+11   \n",
            "1092  1225  2005       Nigeria     West Africa    137107284  1.756705e+11   \n",
            "1093  1226  2006       Nigeria     West Africa    140716755  2.384549e+11   \n",
            "1094  1227  2007       Nigeria     West Africa    144454761  2.782608e+11   \n",
            "1095  1228  2008       Nigeria     West Africa    148315533  3.394762e+11   \n",
            "1096  1229  2009       Nigeria     West Africa    152313946  2.950088e+11   \n",
            "1097  1230  2010       Nigeria     West Africa    156431242  3.669905e+11   \n",
            "1098  1231  2011       Nigeria     West Africa    160671820  4.144665e+11   \n",
            "1099  1232  2012       Nigeria     West Africa    165029028  4.639710e+11   \n",
            "1100  1233  2013       Nigeria     West Africa    169515956  5.201172e+11   \n",
            "1101  1234  2014       Nigeria     West Africa    174104440  5.741838e+11   \n",
            "1102  1235  2015       Nigeria     West Africa    178790641  4.930268e+11   \n",
            "1103  1236  2016       Nigeria     West Africa    183562026  4.046491e+11   \n",
            "1104  1237  2017       Nigeria     West Africa    188436936  3.757457e+11   \n",
            "1105  1238  2018       Nigeria     West Africa    193394520  4.217392e+11   \n",
            "1106  1239  2019       Nigeria     West Africa    198440057  4.745175e+11   \n",
            "1107  1240  2020       Nigeria     West Africa    203565737  4.321989e+11   \n",
            "1108  1241  2021       Nigeria     West Africa    208994835  4.408336e+11   \n",
            "1109  1242  2022       Nigeria     West Africa    214568727  4.773861e+11   \n",
            "\n",
            "      Anomaly  Anomaly_Score  \n",
            "366         1       0.001840  \n",
            "432         1       0.003717  \n",
            "433         1       0.003244  \n",
            "434         1       0.002926  \n",
            "435         1       0.010060  \n",
            "436         1       0.014875  \n",
            "437         1       0.017130  \n",
            "438         1       0.011156  \n",
            "439         1       0.014810  \n",
            "440         1       0.019751  \n",
            "441         1       0.023965  \n",
            "442         1       0.031493  \n",
            "443         1       0.038474  \n",
            "605         1       0.008923  \n",
            "606         1       0.001022  \n",
            "607         1       0.000759  \n",
            "608         1       0.004046  \n",
            "609         1       0.012143  \n",
            "610         1       0.011643  \n",
            "611         1       0.018089  \n",
            "612         1       0.018644  \n",
            "613         1       0.016576  \n",
            "614         1       0.018087  \n",
            "615         1       0.025261  \n",
            "616         1       0.030262  \n",
            "617         1       0.024983  \n",
            "618         1       0.020779  \n",
            "619         1       0.021890  \n",
            "620         1       0.018212  \n",
            "621         1       0.019666  \n",
            "622         1       0.020524  \n",
            "623         1       0.023895  \n",
            "624         1       0.027412  \n",
            "625         1       0.024896  \n",
            "626         1       0.031401  \n",
            "627         1       0.026548  \n",
            "674         1       0.009816  \n",
            "675         1       0.002438  \n",
            "676         1       0.001649  \n",
            "1087        1       0.002134  \n",
            "1091        1       0.001627  \n",
            "1092        1       0.009802  \n",
            "1093        1       0.015373  \n",
            "1094        1       0.013752  \n",
            "1095        1       0.021995  \n",
            "1096        1       0.019035  \n",
            "1097        1       0.020054  \n",
            "1098        1       0.026325  \n",
            "1099        1       0.030548  \n",
            "1100        1       0.033465  \n",
            "1101        1       0.042072  \n",
            "1102        1       0.043310  \n",
            "1103        1       0.038173  \n",
            "1104        1       0.035919  \n",
            "1105        1       0.042999  \n",
            "1106        1       0.053593  \n",
            "1107        1       0.048062  \n",
            "1108        1       0.049241  \n",
            "1109        1       0.057817  \n"
          ]
        }
      ]
    },
    {
      "cell_type": "code",
      "source": [
        "#Visualize anamolies\n",
        "plot_model(iso_forest)\n"
      ],
      "metadata": {
        "colab": {
          "base_uri": "https://localhost:8080/",
          "height": 817
        },
        "id": "mS-G7yGPdQa-",
        "outputId": "ec31799a-009c-481d-f759-8dc87f1df550"
      },
      "execution_count": 10,
      "outputs": [
        {
          "output_type": "display_data",
          "data": {
            "text/plain": [
              "<IPython.core.display.HTML object>"
            ],
            "text/html": []
          },
          "metadata": {}
        },
        {
          "output_type": "display_data",
          "data": {
            "text/html": [
              "<html>\n",
              "<head><meta charset=\"utf-8\" /></head>\n",
              "<body>\n",
              "    <div>            <script src=\"https://cdnjs.cloudflare.com/ajax/libs/mathjax/2.7.5/MathJax.js?config=TeX-AMS-MML_SVG\"></script><script type=\"text/javascript\">if (window.MathJax && window.MathJax.Hub && window.MathJax.Hub.Config) {window.MathJax.Hub.Config({SVG: {font: \"STIX-Web\"}});}</script>                <script type=\"text/javascript\">window.PlotlyConfig = {MathJaxConfig: 'local'};</script>\n",
              "        <script charset=\"utf-8\" src=\"https://cdn.plot.ly/plotly-2.24.1.min.js\"></script>                <div id=\"f369d387-e9fe-4d6b-b175-291c392bf5d0\" class=\"plotly-graph-div\" style=\"height:800px; width:900px;\"></div>            <script type=\"text/javascript\">                                    window.PLOTLYENV=window.PLOTLYENV || {};                                    if (document.getElementById(\"f369d387-e9fe-4d6b-b175-291c392bf5d0\")) {                    Plotly.newPlot(                        \"f369d387-e9fe-4d6b-b175-291c392bf5d0\",                        [{\"customdata\":[[1],[2],[3],[4],[5],[6],[7],[8],[9],[10],[11],[12],[13],[14],[15],[16],[17],[18],[19],[20],[21],[22],[23],[24],[25],[26],[27],[28],[29],[30],[31],[32],[33],[34],[35],[36],[37],[38],[39],[40],[41],[42],[43],[44],[45],[46],[47],[48],[49],[50],[51],[52],[53],[54],[55],[56],[57],[58],[59],[60],[61],[62],[63],[64],[65],[66],[67],[68],[69],[70],[71],[72],[73],[74],[75],[76],[77],[78],[79],[80],[81],[82],[83],[84],[85],[86],[87],[88],[89],[90],[91],[92],[93],[94],[95],[96],[97],[98],[99],[100],[101],[102],[103],[104],[105],[106],[107],[108],[109],[110],[111],[112],[113],[114],[115],[116],[117],[118],[119],[120],[121],[122],[123],[124],[125],[126],[127],[128],[129],[130],[131],[132],[133],[134],[135],[136],[137],[138],[139],[140],[141],[142],[143],[144],[145],[146],[147],[148],[149],[150],[151],[152],[153],[154],[155],[156],[157],[158],[159],[160],[161],[162],[163],[164],[165],[166],[167],[168],[169],[170],[171],[172],[173],[174],[175],[176],[177],[178],[179],[180],[181],[182],[183],[184],[185],[186],[187],[188],[189],[190],[191],[192],[193],[194],[195],[196],[197],[198],[199],[200],[201],[202],[203],[204],[205],[206],[207],[231],[232],[233],[234],[235],[236],[237],[238],[239],[240],[241],[242],[243],[244],[245],[246],[247],[248],[249],[250],[251],[252],[253],[254],[255],[256],[257],[258],[259],[260],[261],[262],[263],[264],[265],[266],[267],[268],[269],[270],[271],[272],[273],[274],[275],[276],[300],[301],[302],[303],[304],[305],[306],[307],[308],[309],[310],[311],[312],[313],[314],[315],[316],[317],[318],[319],[320],[321],[322],[323],[324],[325],[326],[327],[328],[329],[330],[331],[332],[333],[334],[335],[336],[337],[338],[339],[340],[341],[342],[343],[344],[345],[359],[360],[361],[362],[363],[364],[365],[366],[367],[368],[369],[370],[371],[372],[373],[374],[375],[376],[377],[378],[379],[380],[381],[382],[383],[384],[385],[386],[387],[388],[389],[390],[391],[392],[393],[394],[395],[396],[397],[398],[399],[400],[401],[402],[403],[415],[416],[417],[418],[419],[420],[421],[422],[423],[424],[425],[426],[427],[428],[429],[430],[431],[432],[433],[434],[435],[436],[437],[446],[447],[448],[449],[450],[451],[452],[453],[461],[462],[463],[464],[465],[466],[467],[468],[469],[470],[471],[472],[473],[474],[475],[476],[477],[478],[479],[480],[481],[482],[483],[484],[485],[486],[487],[488],[489],[490],[491],[492],[493],[494],[495],[496],[497],[498],[499],[500],[501],[502],[503],[504],[505],[506],[507],[508],[509],[510],[511],[512],[513],[514],[515],[516],[517],[518],[519],[520],[521],[522],[523],[524],[525],[526],[527],[528],[529],[553],[554],[555],[556],[557],[558],[559],[560],[561],[562],[563],[564],[565],[566],[567],[568],[569],[570],[571],[572],[573],[574],[575],[576],[577],[578],[579],[580],[581],[582],[583],[584],[585],[586],[587],[588],[589],[590],[591],[592],[593],[594],[595],[596],[597],[598],[599],[600],[601],[602],[603],[604],[605],[606],[607],[608],[609],[610],[611],[612],[613],[614],[615],[616],[617],[618],[619],[620],[621],[622],[623],[624],[625],[626],[627],[628],[629],[630],[631],[632],[633],[634],[635],[636],[637],[638],[639],[640],[641],[642],[643],[644],[645],[646],[647],[648],[649],[650],[651],[652],[653],[654],[655],[656],[657],[658],[659],[660],[661],[662],[663],[664],[665],[666],[667],[668],[669],[670],[671],[672],[673],[674],[675],[676],[677],[678],[679],[680],[681],[682],[683],[684],[685],[686],[687],[688],[689],[690],[691],[692],[693],[694],[695],[696],[697],[698],[699],[700],[701],[702],[703],[704],[705],[706],[707],[708],[709],[710],[711],[712],[713],[714],[715],[716],[717],[718],[719],[720],[721],[722],[723],[724],[725],[726],[727],[728],[729],[730],[731],[732],[733],[734],[735],[736],[737],[738],[739],[740],[741],[742],[743],[744],[745],[746],[747],[748],[749],[750],[751],[752],[753],[754],[755],[756],[757],[758],[759],[760],[761],[762],[763],[764],[765],[766],[767],[768],[769],[770],[771],[772],[773],[774],[775],[776],[777],[778],[779],[780],[781],[782],[783],[784],[785],[786],[787],[788],[789],[790],[791],[792],[793],[794],[795],[796],[797],[798],[799],[800],[801],[802],[803],[804],[805],[806],[807],[808],[809],[810],[811],[812],[813],[814],[815],[816],[817],[818],[819],[820],[821],[822],[823],[824],[825],[826],[827],[828],[829],[830],[831],[832],[833],[834],[835],[836],[837],[838],[839],[840],[841],[842],[843],[844],[845],[846],[847],[848],[849],[850],[851],[853],[854],[855],[856],[857],[858],[859],[860],[861],[862],[863],[864],[865],[866],[867],[868],[869],[870],[871],[872],[873],[874],[875],[876],[877],[878],[879],[880],[881],[882],[883],[884],[885],[886],[887],[888],[889],[890],[891],[892],[893],[894],[895],[896],[897],[898],[899],[900],[901],[902],[903],[904],[905],[906],[907],[908],[909],[910],[911],[912],[913],[914],[915],[916],[917],[918],[919],[920],[921],[922],[923],[924],[925],[926],[927],[928],[929],[930],[931],[932],[933],[934],[935],[936],[937],[938],[939],[940],[941],[942],[943],[944],[945],[946],[947],[948],[949],[950],[951],[952],[953],[954],[955],[956],[957],[958],[959],[960],[961],[962],[963],[964],[965],[966],[967],[968],[969],[970],[971],[972],[973],[974],[975],[976],[977],[978],[979],[980],[981],[982],[983],[984],[985],[986],[987],[988],[989],[990],[991],[992],[993],[994],[995],[996],[997],[998],[999],[1000],[1001],[1002],[1003],[1004],[1005],[1006],[1007],[1008],[1009],[1010],[1011],[1012],[1013],[1014],[1015],[1016],[1017],[1018],[1019],[1020],[1021],[1022],[1023],[1024],[1025],[1026],[1027],[1028],[1029],[1030],[1031],[1032],[1033],[1034],[1035],[1036],[1037],[1038],[1039],[1040],[1041],[1042],[1043],[1044],[1045],[1046],[1047],[1048],[1049],[1050],[1051],[1052],[1053],[1054],[1055],[1056],[1057],[1058],[1059],[1060],[1061],[1062],[1063],[1064],[1065],[1066],[1067],[1068],[1069],[1070],[1071],[1072],[1073],[1074],[1075],[1076],[1077],[1078],[1079],[1080],[1081],[1082],[1083],[1084],[1085],[1086],[1087],[1088],[1089],[1090],[1091],[1092],[1093],[1094],[1095],[1096],[1097],[1098],[1099],[1100],[1101],[1102],[1103],[1104],[1128],[1129],[1130],[1131],[1132],[1133],[1134],[1135],[1136],[1137],[1138],[1139],[1140],[1141],[1142],[1143],[1144],[1145],[1146],[1147],[1148],[1149],[1150],[1151],[1152],[1153],[1154],[1155],[1156],[1157],[1158],[1159],[1160],[1161],[1162],[1163],[1164],[1165],[1166],[1167],[1168],[1169],[1170],[1171],[1172],[1173],[1174],[1175],[1176],[1177],[1178],[1179],[1180],[1181],[1182],[1183],[1184],[1185],[1186],[1187],[1188],[1189],[1190],[1191],[1192],[1193],[1194],[1195],[1196],[1197],[1198],[1199],[1200],[1201],[1202],[1203],[1204],[1205],[1206],[1207],[1208],[1209],[1210],[1211],[1212],[1213],[1214],[1215],[1216],[1217],[1218],[1219],[1220],[1221],[1222],[1223],[1224],[1225],[1226],[1227],[1228],[1229],[1230],[1231],[1232],[1233],[1234],[1235],[1236],[1237],[1238],[1239],[1240],[1241],[1242],[1266],[1267],[1268],[1269],[1270],[1271],[1272],[1273],[1274],[1275],[1276],[1277],[1278],[1279],[1280],[1281],[1282],[1283],[1284],[1285],[1286],[1287],[1288],[1289],[1290],[1291],[1292],[1293],[1294],[1295],[1296],[1297],[1298],[1299],[1300],[1301],[1302],[1303],[1304],[1305],[1306],[1307],[1308],[1309],[1310],[1311],[1312],[1313],[1314],[1315],[1316],[1317],[1318],[1319],[1320],[1321],[1322],[1323],[1324],[1325],[1326],[1327],[1328],[1329],[1330],[1331],[1332],[1333],[1334]],\"hovertemplate\":\"0=%{x}\\u003cbr\\u003e1=%{y}\\u003cbr\\u003e2=%{z}\\u003cbr\\u003eFeature=%{customdata[0]}\\u003cbr\\u003eAnomaly=%{marker.color}\\u003cextra\\u003e\\u003c\\u002fextra\\u003e\",\"legendgroup\":\"\",\"marker\":{\"color\":[0,0,0,0,0,0,0,0,0,0,0,0,0,0,0,0,0,0,0,0,0,0,0,0,0,0,0,0,0,0,0,0,0,0,0,0,0,0,0,0,0,0,0,0,0,0,0,0,0,0,0,0,0,0,0,0,0,0,0,0,0,0,0,0,0,0,0,0,0,0,0,0,0,0,0,0,0,0,0,0,0,0,0,0,0,0,0,0,0,0,0,0,0,0,0,0,0,0,0,0,0,0,0,0,0,0,0,0,0,0,0,0,0,0,0,0,0,0,0,0,0,0,0,0,0,0,0,0,0,0,0,0,0,0,0,0,0,0,0,0,0,0,0,0,0,0,0,0,0,0,0,0,0,0,0,0,0,0,0,0,0,0,0,0,0,0,0,0,0,0,0,0,0,0,0,0,0,0,0,0,0,0,0,0,0,0,0,0,0,0,0,0,0,0,0,0,0,0,0,0,0,0,0,0,0,0,0,0,0,0,0,0,0,0,0,0,0,0,0,0,0,0,0,0,0,0,0,0,0,0,0,0,0,0,0,0,0,0,0,0,0,0,0,0,0,0,0,0,0,0,0,0,0,0,0,0,0,0,0,0,0,0,0,0,0,0,0,0,0,0,0,0,0,0,0,0,0,0,0,0,0,0,0,0,0,0,0,0,0,0,0,0,0,0,0,0,0,0,0,0,0,0,0,0,0,0,0,0,0,0,0,0,0,0,0,0,0,0,0,0,0,0,0,0,0,0,0,0,0,0,0,0,0,0,0,0,0,0,0,0,0,0,0,0,0,0,0,0,0,0,0,0,0,0,0,0,0,0,0,0,0,0,0,0,0,0,1,0,0,0,0,0,0,0,0,0,0,0,0,0,0,0,0,0,0,0,0,0,0,0,0,0,0,0,0,0,0,0,0,0,0,0,0,0,0,0,0,0,0,0,0,0,0,0,0,0,0,0,0,0,0,0,0,0,0,0,0,0,0,0,0,0,1,1,1,1,1,1,1,1,1,1,1,1,0,0,0,0,0,0,0,0,0,0,0,0,0,0,0,0,0,0,0,0,0,0,0,0,0,0,0,0,0,0,0,0,0,0,0,0,0,0,0,0,0,0,0,0,0,0,0,0,0,0,0,0,0,0,0,0,0,0,0,0,0,0,0,0,0,0,0,0,0,0,0,0,0,0,0,0,0,0,0,0,0,0,0,0,0,0,0,0,0,0,0,0,0,0,0,0,0,0,0,0,0,0,0,0,0,0,0,0,0,0,0,0,0,0,0,0,0,0,0,0,0,0,0,0,0,0,0,0,0,0,0,0,0,0,0,0,0,0,0,0,0,0,0,0,0,0,0,0,0,0,0,0,0,0,0,0,0,0,0,0,0,1,1,1,1,1,1,1,1,1,1,1,1,1,1,1,1,1,1,1,1,1,1,1,0,0,0,0,0,0,0,0,0,0,0,0,0,0,0,0,0,0,0,0,0,0,0,0,0,0,0,0,0,0,0,0,0,0,0,0,0,0,0,0,0,0,0,0,0,0,1,1,1,0,0,0,0,0,0,0,0,0,0,0,0,0,0,0,0,0,0,0,0,0,0,0,0,0,0,0,0,0,0,0,0,0,0,0,0,0,0,0,0,0,0,0,0,0,0,0,0,0,0,0,0,0,0,0,0,0,0,0,0,0,0,0,0,0,0,0,0,0,0,0,0,0,0,0,0,0,0,0,0,0,0,0,0,0,0,0,0,0,0,0,0,0,0,0,0,0,0,0,0,0,0,0,0,0,0,0,0,0,0,0,0,0,0,0,0,0,0,0,0,0,0,0,0,0,0,0,0,0,0,0,0,0,0,0,0,0,0,0,0,0,0,0,0,0,0,0,0,0,0,0,0,0,0,0,0,0,0,0,0,0,0,0,0,0,0,0,0,0,0,0,0,0,0,0,0,0,0,0,0,0,0,0,0,0,0,0,0,0,0,0,0,0,0,0,0,0,0,0,0,0,0,0,0,0,0,0,0,0,0,0,0,0,0,0,0,0,0,0,0,0,0,0,0,0,0,0,0,0,0,0,0,0,0,0,0,0,0,0,0,0,0,0,0,0,0,0,0,0,0,0,0,0,0,0,0,0,0,0,0,0,0,0,0,0,0,0,0,0,0,0,0,0,0,0,0,0,0,0,0,0,0,0,0,0,0,0,0,0,0,0,0,0,0,0,0,0,0,0,0,0,0,0,0,0,0,0,0,0,0,0,0,0,0,0,0,0,0,0,0,0,0,0,0,0,0,0,0,0,0,0,0,0,0,0,0,0,0,0,0,0,0,0,0,0,0,0,0,0,0,0,0,0,0,0,0,0,0,0,0,0,0,0,0,0,0,0,0,0,0,0,0,0,0,0,0,0,0,0,0,0,0,0,0,0,0,0,0,0,0,0,0,0,0,0,0,0,0,0,0,0,0,0,0,0,0,0,0,0,0,1,0,0,0,1,1,1,1,1,1,1,1,1,1,1,1,1,1,1,1,1,1,1,0,0,0,0,0,0,0,0,0,0,0,0,0,0,0,0,0,0,0,0,0,0,0,0,0,0,0,0,0,0,0,0,0,0,0,0,0,0,0,0,0,0,0,0,0,0,0,0,0,0,0,0,0,0,0,0,0,0,0,0,0,0,0,0,0,0,0,0,0],\"coloraxis\":\"coloraxis\",\"opacity\":0.7,\"symbol\":\"circle\"},\"mode\":\"markers\",\"name\":\"\",\"scene\":\"scene\",\"showlegend\":false,\"x\":[-8.164637,-8.570664,-8.570666,-7.379214,-3.911079,-0.9007359,0.3910108,4.7752633,7.526524,9.211499,9.439439,9.651499,9.4664955,9.828713,10.486186,10.434842,9.880795,10.174393,10.5378895,10.894915,11.198702,11.571491,12.413806,-17.784994,-17.846016,-17.32439,-16.897305,-18.16487,-18.7122,-18.147753,-17.711372,-15.842461,-14.2833805,-11.500404,-9.067555,-8.124925,-7.1541204,-6.1718125,-5.8651376,-6.32801,-6.13486,-6.2648463,-6.5406117,-6.313443,-6.0433903,-5.857134,-14.4943695,-14.704338,-14.894397,-15.197557,-15.658426,-16.106138,-16.731642,-17.560349,-18.626041,-18.75458,-18.68176,-18.296566,-17.726145,-11.359842,-9.286082,-7.343373,-6.446602,-6.064404,-5.8952875,-5.860883,-5.902887,-6.104879,-6.3265705,-6.4740434,-7.359866,-7.528381,-8.602787,-8.127895,-2.8928485,6.45934,7.4292393,7.871601,7.622456,8.356699,8.936423,9.269809,9.683166,9.521852,8.555364,8.497833,9.324247,9.392557,8.913995,7.9103107,8.725857,9.986158,-7.168056,-6.932969,-7.9451723,-8.655848,-8.603387,-8.64021,-8.7827635,-8.790668,-7.928092,-0.20914696,5.0796666,7.443902,7.755709,8.114684,8.196603,8.294391,8.416396,7.8153853,10.719745,8.666955,8.605779,9.735083,8.442333,6.3817744,6.7711034,6.936364,7.5903606,7.6691475,8.04269,9.316873,10.370701,10.971353,11.832443,12.378954,12.702556,14.477473,15.230683,16.268377,16.568508,17.271868,18.04257,18.80529,19.3466,19.36288,19.836351,20.005747,-12.86497,-13.038898,-13.373137,-14.451712,-15.317015,-15.524338,-15.997084,-17.01205,-18.166756,-18.08804,-18.109192,-18.699825,-18.6799,-18.713764,-18.621279,-18.477274,-18.672647,-18.768661,-18.484713,-18.462711,-18.352129,-18.032742,-18.28276,-8.336318,-8.256449,-8.544605,-8.593617,-7.448631,-7.656329,-6.2916045,-3.352937,0.41898742,-1.0890026,0.4504931,3.8654575,4.222877,5.6408234,6.865585,5.0070558,6.213043,7.283881,7.5710864,7.52582,3.6091597,3.7724953,6.663634,-8.281659,-8.784513,-8.797923,-7.8902874,-8.711336,-8.553055,-7.846035,-2.3619416,2.179512,-0.28813654,0.40254173,3.941649,4.0054426,5.9050584,6.094102,3.4387686,4.645426,6.959482,7.306308,7.446124,6.8421,7.545461,7.5952787,-6.6949196,-6.877064,-8.722299,-8.346275,-8.70841,-8.795137,-8.591832,-7.7347627,-4.4456296,-1.291815,0.76090413,4.1725726,-1.7660458,-3.6634247,-1.698718,-0.9342178,-3.990956,-1.4140348,0.18505162,2.8236597,5.110708,6.2257624,6.95052,-8.691963,-8.794252,-8.681586,-8.009525,-4.737975,-2.314732,-1.007274,1.5677762,6.150283,4.80246,2.9920962,7.514821,7.68808,7.741202,7.8352027,7.6599517,4.854171,6.9916887,7.5840173,7.6265273,7.460946,7.6500797,7.8597975,-10.958159,-12.124208,-12.131481,-10.167319,-7.7302494,-5.88081,-6.0383396,-7.3188486,-8.759969,-8.682874,-8.245446,-6.6553655,-4.675704,-4.243387,-3.1228533,-2.3103545,-1.946965,-0.8777112,-0.25716314,1.3103814,0.87539536,2.8884876,7.052856,-15.528006,-15.617156,-16.455835,-16.544428,-17.991203,-18.5392,-18.767046,-18.76882,-18.547752,-17.592093,-18.557373,-18.768435,-18.762447,-17.879677,-17.511202,-17.4856,-17.007483,-16.480148,-16.031597,-15.575836,-18.503918,-18.082062,-16.027325,-8.196795,-8.689894,-8.796763,-8.750811,-8.716096,-8.556093,-7.6639977,-6.6599264,-4.7460213,-3.4173255,7.0913787,7.2132735,7.4560585,7.615501,7.715037,7.9725575,8.024643,8.669134,9.668631,9.858497,10.380115,10.796476,11.457482,12.440377,13.384413,12.822364,13.34631,14.007909,14.560428,15.128983,15.93275,16.650942,17.384945,-16.082113,-16.560482,-16.322977,-17.782553,-18.730623,-18.752092,-18.404222,-17.916496,-17.559252,-13.513792,-16.018951,-11.002848,-3.1118002,-3.1386628,-4.1573124,-2.110414,0.76642686,5.861164,7.6193027,8.240827,9.5104885,10.456097,10.014266,10.369731,11.986678,12.889679,14.368761,15.7033,17.201513,18.018343,18.230225,19.076504,19.73364,19.913296,20.509003,7.5500903,5.5004973,7.5523777,7.5906305,4.840702,7.978371,7.390871,4.9859824,5.562048,7.6466126,7.91529,8.575376,9.435007,10.872099,12.348883,14.893378,15.741666,14.739927,17.181202,17.680796,15.4803505,15.927016,17.51108,18.283646,19.493847,20.592693,10.458787,10.449106,9.493126,10.73092,13.694943,14.252049,14.245487,14.526849,16.203255,18.31239,19.507776,20.153433,20.714172,21.21384,20.75875,21.127182,21.40031,21.445704,21.448523,21.467617,21.173262,21.114483,21.206953,21.242668,21.219984,20.904905,21.150152,21.353666,19.314596,19.12609,18.295334,17.874899,17.72072,18.615774,19.721663,20.610443,21.143766,21.335793,21.489807,21.562414,21.725973,21.75581,21.805666,21.8666,21.87462,21.613602,21.669615,21.839437,21.982008,22.200975,22.223185,11.284072,10.712819,8.4024315,9.385902,10.565473,12.812275,14.987421,16.229155,18.41331,15.094661,17.34521,13.00684,18.830315,17.341461,14.612266,13.125573,13.374407,16.095257,17.496342,16.427057,12.687904,11.477535,12.456039,11.938244,12.076909,12.754107,14.700993,15.940139,16.365152,17.405802,18.432196,19.430248,19.390715,19.374949,19.853165,19.69797,20.101627,20.241169,19.868193,19.92783,20.216883,20.525614,20.569794,20.328989,20.855787,20.699196,8.598094,8.711279,8.889332,9.665779,10.252047,10.421416,10.75427,11.363139,12.268352,12.011426,12.554513,12.998156,12.805102,13.120103,13.444335,12.462081,12.173159,11.804183,11.885442,11.764852,11.862294,12.662182,12.656673,-8.617912,-8.767639,-8.784386,-5.0304284,-1.3875355,0.2624648,0.26294097,1.840171,2.1918616,0.73312104,6.2796626,7.6078014,7.368091,7.490774,7.6314735,7.184537,7.6057606,7.6698346,7.7468967,7.7192383,7.595764,8.04244,8.375173,-17.942184,-17.327555,-16.803783,-18.594212,-16.619392,-15.259044,-14.089263,-15.261949,-14.437619,-14.703481,-9.078637,-6.531729,-6.986353,-7.8137226,-7.230976,-7.87734,-10.46022,-8.388115,-6.6170163,-7.2640953,-10.421528,-7.7574043,-6.62806,-7.0726266,-6.3985977,-6.0749583,-8.623307,-7.3727517,-5.6838646,-3.7421045,-1.6153502,-2.1492977,-1.4219102,3.6752706,6.0956097,6.8321204,5.0838914,5.9297376,3.4659123,2.1723037,6.6593843,7.2675557,6.127333,1.8754436,5.951715,6.234062,-14.729179,-16.380594,-17.206755,-9.468946,-6.0521884,-5.9006824,-6.0047193,-6.249543,-6.007604,-6.438999,-7.9706407,-8.522919,-8.588526,-8.22985,-7.9417133,-7.3063593,-6.883354,-7.9047303,-8.341418,-8.019358,-7.172362,-8.446827,-8.556903,21.004911,20.723555,20.574575,21.38356,21.643986,21.757256,21.801155,21.87624,21.83301,21.867655,22.020618,22.121574,22.0817,22.036469,21.979034,21.909876,21.851404,21.978853,22.028759,21.991535,21.887604,21.945837,22.031921,-1.0878105,-1.4275078,7.6195726,7.8522534,8.950134,11.116193,13.835904,15.809551,18.541462,16.597616,18.011889,19.822947,20.452244,20.68336,20.75929,18.450579,13.359438,16.38149,17.616684,16.43748,13.438572,15.874536,19.686638,-8.718761,-8.688792,-8.796844,-7.6054583,-4.376389,-0.34104183,1.2619628,5.9698405,7.6377516,5.2362275,7.5129924,7.930947,7.7620435,7.8167386,7.9296117,7.5151753,7.4160924,7.5927415,7.7315164,7.732137,7.6215377,8.346735,8.519981,1.8386835,2.6643205,5.8925066,7.6611757,8.060564,8.19956,8.488229,9.006115,9.683924,9.662413,9.652062,10.151989,10.056796,10.65219,11.039152,10.413587,10.666061,10.999645,11.501119,11.460398,11.607078,12.365411,12.170067,8.114136,-5.1967573,-1.8724424,-1.4234817,1.1851294,4.916481,7.528993,7.7202387,8.258091,8.024373,8.616292,9.3191595,9.898875,10.502197,10.973396,11.239427,11.137595,11.252263,12.870619,13.7167845,13.125467,14.332607,14.705933,-5.941103,-6.013047,-5.851278,-6.306898,-8.326319,-7.2706823,-3.555863,-1.7455127,4.176571,-0.111672625,6.9369264,7.642906,7.831411,7.8809104,7.8719764,4.7448416,0.99097395,2.9718182,7.2612805,6.44927,1.6472443,7.085654,7.554327,-11.690207,-11.705651,-11.737043,-11.763141,-11.816875,-11.833768,-11.853096,-11.992665,-11.991843,-12.032432,-12.1926,-12.28841,-12.563828,-12.838539,-12.657885,-12.832518,-13.019827,-13.275802,-13.384594,-13.76367,-14.2574005,-14.449684,-18.172855,-18.28091,-18.615662,-18.643864,-18.152533,-17.809832,-16.985458,-15.095443,-11.833389,-10.974085,-10.112342,-7.25188,-6.818217,-15.172859,-13.08788,-15.133124,-13.833395,-10.914909,-9.219387,-9.216003,-8.190281,-6.788529,-7.6775675,-17.506449,-14.991781,-11.799082,-6.0987597,-7.941398,-7.272367,-5.223031,-2.0518048,1.4294409,-0.8144357,2.053232,5.364753,5.793108,6.732552,7.3818507,2.6568394,0.6758701,0.44246343,3.26511,3.4216454,2.1573136,4.48347,6.37961,-18.750053,-16.98982,-14.019825,-6.9473577,-7.919021,-3.1776295,0.6507806,6.8635373,8.250061,7.6016192,7.6852612,8.576051,8.767897,8.689124,8.654459,6.966381,3.2689235,5.429646,6.887414,3.5290868,0.6809199,5.588589,4.5604014,-6.334695,-6.594842,-7.529285,-8.797787,-8.168255,-7.475855,-6.2775846,-3.3022494,0.00513028,-0.08459241,-0.41475677,2.1081736,3.068247,6.0855246,7.035391,3.5808012,4.578008,6.3757744,7.4875255,7.516897,7.6426687,7.8309827,7.789908,-5.8611903,-5.909461,-6.5141845,-8.437818,-8.780425,-8.22083,-7.5252447,-4.7518005,-0.5502267,-0.55145544,0.7094593,5.163123,6.1584706,7.1328006,7.382722,4.6051087,6.5729065,7.4457603,7.6565146,7.6749125,7.8760533,8.247415,8.072471,-16.878365,-15.883894,-14.762801,-13.891155,-18.45466,-18.71282,-18.761442,-18.11725,-16.230862,-17.075775,-16.37433,-17.364273,-17.326666,-17.590996,-18.33473,-17.575626,-16.818678,-16.668499,-15.361596,-13.949581,-13.964345,-11.2335005,-8.710454,-8.664567,-8.794504,-8.197617,-4.733694,-1.5313637,2.222453,8.483271,9.161455,9.788136,9.351518,10.4110155,11.415408,11.675526,15.419117,14.251091,13.270938,14.44573,15.033932,16.116283,16.273586,16.555117,17.75957,16.991684,-5.8530345,-5.972201,-5.870016,-6.212178,-6.5383058,-5.878506,-7.5757794,-8.041909,-6.4537816,-7.096422,-6.73491,-6.9134655,-4.720197,-2.7742867,-1.7544726,-1.7182037,-2.176643,1.2540331,4.6651,7.131897,7.465713,7.6689095,8.551052,-12.989643,-13.133985,-13.315746,-13.805575,-14.307499,-14.850195,-14.906289,-15.981749,-17.761395,-17.375053,-17.580366,-18.749985,-18.588655,-18.749956,-18.762995,-18.75378,-18.519934,-17.746004,-16.670605,-17.153065,-17.21069,-15.627674,-15.668756,-14.373549,-14.609367,-15.1822605,-17.193474,-18.231916,-18.511608,-18.734291,-15.541049,-12.2032585,-13.558405,-13.83596,-11.130334,-12.8405285,-11.438421,-11.232312,-14.609219,-13.584278,-11.800021,-9.387853,-8.769499,-13.284817,-10.710625,-8.3086405,-17.816893,-18.093037,-18.241919,-16.515152,-18.024767,-18.380344,-18.70662,-17.60901,-14.848041,-14.426851,-11.786664,-7.5482907,-6.019677,-5.900129,-5.939219,-5.9405317,-6.1427875,-6.1316147,-6.1794257,-6.038206,-5.8517118,-6.3161097,-7.2030044,-14.3022785,-14.646673,-14.327428,-11.224235,-7.854625,-5.8793,-7.068105,-7.804553,-8.769038,-8.406631,-8.706206,-6.9692974,-7.065945,-5.755995,-7.414517,-8.19685,-7.839623,-6.872692,-5.1172557,-3.57259,-2.693719,0.4328993,1.3836637,-5.8643603,-6.247784,-7.048672,-8.40605,-8.779525,-8.0917425,-6.6010327,-3.3355508,0.10090978,1.022244,2.099072,6.781155,5.9428844,7.0079355,7.511249,6.8951054,7.416789,7.6249456,7.750936,7.7753434,7.7977796,8.159162,8.060828,-9.008398,-7.173827,-6.0337644,-6.136498,-6.7735815,-7.8690577,-8.455182,-8.653805,-5.547358,-5.406481,-4.1565776,-1.7680038,-0.5912397,1.0047767,2.469225,-0.17888995,1.4415388,3.1562116,6.5365276,6.687411,7.2987924,7.5914154,7.393936,16.46071,17.165186,19.01708,19.58787,20.729155,21.248146,21.57307,21.723145,21.892105,21.77597,21.95342,22.051662,22.163105,22.371223,22.506935,22.288517,22.03071,21.969595,22.116983,22.218904,22.029163,22.049189,22.225977,-8.381169,-7.614462,-6.350623,-1.7776852,0.62418616,2.7844596,4.2936034,7.403854,7.7303433,7.6726527,7.670957,7.852566,7.8263106,8.079542,8.260031,7.8449736,8.104432,8.505119,8.885292,8.928224,9.108168,9.493686,9.553471,-15.339025,-18.770872,-18.308016,-17.629475,-17.221521,-15.721803,-13.457652,-10.309715,-7.1527433,-7.386612,-6.536591,-5.8817744,-6.831286,-8.6183605,-8.684331,-7.6365194,-6.9698086,-6.6945353,-7.3440523,-7.3295536,-7.3058934,-7.6312847,-7.1527863,-11.489771,-11.608041,-8.264614,-5.9263268,-5.856161,-5.8641543,-5.9138265,-6.5065312,-8.100853,-8.221189,-8.331786,-8.784461,-8.784723,-8.540139,-8.133445,-8.679367,-8.355829,-7.846108,-6.2906556,-6.3865995,-5.3154006,-2.887896,-3.4165065],\"y\":[-5.441214,-4.934747,-4.934803,-5.2976074,-1.1586503,1.132671,-0.07554513,-7.1856995,0.39030573,8.506676,7.8224583,7.1550136,7.5211143,6.54677,4.21469,4.3745613,6.370504,5.3518133,4.029094,2.6582794,1.4908906,0.10049284,-2.6718895,-8.059983,-7.9280257,-8.94552,-9.659492,-7.0709105,-2.1414673,0.7129054,2.1506152,6.0159593,8.261248,11.090664,12.195049,12.459174,12.473444,11.594918,9.559352,11.850362,11.52443,11.753372,12.118824,11.828122,11.300122,9.750955,-12.619767,-12.402843,-12.20648,-11.872799,-11.334916,-10.775649,-9.912071,-8.5132675,-4.9731684,-3.7171636,-1.9020523,0.14565215,2.1074686,11.11558,12.108757,12.51285,12.012556,11.359908,10.6448765,9.653705,9.078806,7.781366,6.8257394,6.287926,3.4118955,2.867829,-1.3717028,-5.4603906,0.07743331,-6.0522957,-1.221961,8.973764,3.6026788,10.105526,9.242694,8.344201,7.051252,7.605604,10.028614,10.072153,8.183724,7.989697,9.298489,9.194153,9.7329035,6.0087028,-5.1444783,-4.9405203,-5.4906826,-4.709107,-4.8732843,-4.7728667,-3.8013217,-3.227211,1.533733,0.6849096,-7.2444224,-1.0305858,7.658503,9.906132,10.020774,10.093116,10.102528,8.47195,3.3363788,9.853955,9.968431,6.8574553,10.097294,-6.2270904,-5.2447276,-4.673628,2.246794,5.5837903,9.7376995,8.204485,4.6524262,2.3645663,-0.8157543,-2.572459,-3.4725947,-6.658024,-7.3473206,-7.8811765,-7.8408127,-7.5949078,-6.9263425,-5.818722,-4.852717,-4.8198924,-3.76344,-3.3257136,-14.166676,-14.010442,-13.695227,-12.662525,-11.735473,-11.487457,-10.913935,-9.475266,-7.059465,-7.310768,-7.248298,-4.3737135,-4.5519385,-2.1628072,-1.481256,-5.8091245,-4.628544,-3.0317132,-0.7138795,-0.6013884,-0.08756079,1.1173636,0.20101166,0.0044313483,0.32744682,-1.0295221,-4.893173,-5.338367,-5.43801,-4.2430305,-0.44699612,-0.11717686,1.1868064,-0.16494973,-6.377804,-6.753886,-7.0938234,-4.945426,-7.2436867,-6.555408,-2.52779,1.609074,0.37308553,-6.063195,-6.269436,-5.546407,0.22652495,-3.7825983,-3.475616,-5.487826,-2.1713061,-4.966104,-5.484036,0.6139965,-3.5925083,0.7595367,-0.09278411,-6.4638014,-6.5329084,-6.9287004,-6.7484455,-5.8273025,-7.10655,-4.563275,-2.3474376,-1.0203216,-5.024342,0.85471654,2.429026,12.255057,12.36992,-2.2817535,-0.037483558,-2.1433604,-3.3484945,-4.8958273,-5.4625816,-1.8649882,1.2090291,-0.71592873,-6.704834,1.0910614,-0.83791673,1.1413571,1.1444168,-1.2668755,1.2086498,0.21697584,-4.8163495,-7.243446,-6.5316205,-4.6087174,-4.5137053,-3.6467323,-4.573837,-5.4896965,-2.2539258,0.6582423,1.1669741,-2.3338203,-6.659979,-7.1978955,-5.116013,0.1346559,6.1349144,7.4120398,8.6901455,5.263629,-7.2199454,-4.405079,2.0266738,3.7919157,-0.79765046,4.85943,8.901499,11.293787,10.416666,10.410956,11.697484,12.514986,10.532821,8.144296,3.5429246,-2.7268243,-4.566238,-5.3765984,-4.662212,-2.1710982,-1.5970567,-0.17514946,0.66255414,0.9768238,1.1237619,0.73105484,-1.7985127,-0.93520516,-4.934186,-4.072514,-11.483814,-11.3864765,-10.310814,-10.183396,-7.585959,-5.5030856,-2.9397254,-3.0348897,-5.4604993,-8.452,-5.4008126,-3.4611945,-2.752225,1.6232693,2.705417,2.7711787,3.8362358,4.870863,5.6901264,6.453928,-0.81316566,0.9482304,5.6985393,0.55651176,-1.9794859,-3.409171,-4.1124916,-4.366342,-4.9605393,-5.4406586,-4.667459,-2.2647083,-0.5261971,-3.8460796,-3.046911,-0.86154795,3.2785542,6.8384733,9.477214,9.6786375,9.849852,7.0964565,6.4455876,4.618414,3.0405822,0.5214399,-2.7502754,-4.9796457,-3.7853088,-4.909106,-6.0056343,-6.75337,-7.271674,-7.769234,-7.82137,-7.532925,-10.806819,-10.160495,-10.491006,-8.064483,-2.321187,-2.5572858,-0.31737238,1.5047119,2.5749865,9.109733,5.714256,11.271788,-0.15949117,-0.18962091,-1.4840213,0.85069054,-0.6873379,-6.9806013,3.4555001,10.062719,7.638183,4.3527675,5.9115953,4.655961,-1.3337107,-3.9433656,-6.523651,-7.6527867,-7.6282973,-6.9540052,-6.6974783,-5.3533874,-4.0209365,-3.5717704,-1.8966457,0.98471504,-7.1546936,1.0511898,2.2567616,-7.2116528,9.501596,-1.6130075,-7.242659,-7.1297455,4.705653,9.221772,10.008169,7.835419,2.7481475,-2.4811563,-7.079784,-7.673989,-6.937946,-7.6370783,-7.3011436,-7.517888,-7.7687287,-7.4452715,-6.6238594,-4.557643,-1.6404295,4.395572,4.3830104,7.6487894,3.2929037,-5.511918,-6.3649344,-6.355504,-6.7162175,-7.8749123,-6.587713,-4.529246,-2.9253745,-1.2203212,0.8350572,-1.0576689,0.4385954,1.8126487,2.0638506,2.0825613,2.1894872,0.6435055,0.38361248,0.8011834,0.98040843,0.8633703,-0.48468694,0.53866744,1.5627327,-4.914009,-5.264448,-6.6069746,-7.110401,-7.263529,-6.1306157,-4.049214,-1.5793029,0.51038843,1.4708377,2.3231115,2.75927,3.8231285,4.0310454,4.3971934,4.9130616,4.986063,3.0831358,3.4390357,4.6728406,6.1395187,6.8894925,7.6367874,1.1668844,3.362988,10.104526,8.011539,3.9219892,-3.7590954,-7.1588593,-7.875886,-6.4414835,-7.246129,-7.556456,-4.218781,-5.775343,-7.55855,-6.808302,-4.478137,-4.9602613,-7.835173,-7.4563284,-7.8626637,-3.4354131,0.44875526,-2.7973874,-1.1729966,-1.6280595,-3.600057,-6.900075,-7.7743006,-7.8702865,-7.519926,-6.4163027,-4.685116,-4.7618704,-4.7956314,-3.7150953,-4.105525,-3.069449,-2.6833467,-3.6724224,-3.535023,-2.751776,-1.8464931,-1.7084373,-2.4325542,-0.67952114,-1.2803137,9.979286,9.764688,9.359391,7.3665943,5.0770097,4.43658,3.2031038,0.8675067,-2.2313118,-1.4152588,-3.075357,-4.1950226,-3.7456887,-4.463057,-5.0868983,-2.8146417,-1.9357282,-0.71915126,-0.99636847,-0.5856568,-0.9176307,-3.3636196,-3.3486116,-4.841698,-3.9600375,-3.7844517,-2.640756,1.2095739,0.10945929,0.108749285,-2.8979635,-3.6168587,-0.6655303,-6.4348984,2.9342723,-1.8191426,-0.32881403,4.026303,-3.2449346,2.8475413,5.605552,7.5121613,6.941544,2.4474652,9.737076,10.105837,-7.707587,-8.939513,-9.803241,-1.315841,4.6043887,6.946213,8.492016,6.941904,8.077916,7.7337575,12.190733,12.108977,12.420868,12.506869,12.491842,12.498838,11.5549555,12.399572,12.191996,12.497298,11.574625,12.512449,12.2016115,4.328686,6.5554943,7.939634,-1.5001348,-5.2930293,-3.4842353,-0.93930167,1.1877035,0.81021416,1.2092358,-6.148296,-6.7475214,-5.056898,-7.2443757,-6.90943,-5.865192,-3.5777402,-5.5576878,-2.650977,-6.699286,-2.9720669,-6.892815,-6.5180264,7.697069,5.054679,3.4138484,12.029646,11.326019,9.09822,8.339638,7.1253753,8.320884,6.414551,1.3848064,-0.9109067,-1.2855247,0.4294961,1.4863136,3.58231,4.936001,1.6146712,-0.016987532,1.2128527,4.0124393,-0.50770324,-1.1017662,-0.07465356,-1.1841329,-1.693913,1.7228208,3.2718883,4.040586,4.3609385,5.001001,4.617737,4.922065,6.843656,7.4386983,7.044627,6.486138,6.0844913,5.3151517,4.7807508,6.0895147,6.547959,6.239545,5.108139,6.845594,6.5785823,1.1863887,1.2084433,3.466951,8.847518,9.208003,1.8078406,-5.7355275,-7.709866,-6.2482934,-7.834007,-6.9615607,-3.7972949,-2.062369,-1.3404595,-1.0553536,-6.386797,-4.9342017,-7.8672814,-7.3591323,-7.8612,-5.0765333,-7.741686,-4.1319094,-2.248271,-1.9703616,-3.4105976,-5.4174356,-1.773585,0.80501646,-1.7005341,-6.8797374,4.310064,-7.229076,0.09506953,9.29286,7.756933,8.490271,9.286469,0.14197484,-1.3612568,2.3362653,7.22024,7.233381,3.5593145,10.104819,10.056578,-2.8943505,-4.5224304,-6.9378867,5.3067336,9.790121,10.0239935,10.077617,9.062016,7.246761,7.1143284,7.450723,5.4300404,5.7629423,3.5895789,2.1020575,4.483975,3.5408757,2.2549026,0.36259693,0.51140183,-0.027379462,-2.5291588,-1.9245505,9.905116,-2.861526,1.0360299,1.2121824,-1.5433605,-7.249962,0.43949562,6.964444,10.07471,9.678307,9.949706,8.198127,6.3086185,4.172465,2.35667,1.3369845,1.7255623,1.2875438,-3.8973603,-5.546585,-4.47803,-6.475229,-6.9049854,8.761719,11.20201,9.984195,6.8998747,0.045795467,-5.223133,-0.6997428,1.1129794,-6.708558,0.5831356,-4.6701074,4.541471,8.65075,9.030916,8.976408,-7.1656904,-1.1583971,-5.0805683,-2.6982641,-6.075133,-2.4989119,-3.882258,1.1080886,-15.208206,-15.19338,-15.165325,-15.142406,-15.094721,-15.0786915,-15.062485,-14.937031,-14.937742,-14.907204,-14.765512,-14.676739,-14.436001,-14.191965,-14.355343,-14.19794,-14.027695,-13.793223,-13.684827,-13.327648,-12.852891,-12.66446,-7.0321283,-6.641547,-5.048465,-1.6266984,0.69508237,1.8450915,3.8795435,7.1852517,10.664358,11.284739,11.724724,12.494331,12.33615,7.0713253,9.524735,7.130654,8.777629,11.310903,12.136208,12.137538,12.445576,12.317773,12.518757,2.720885,7.3348727,10.692516,11.445708,1.4873446,-5.224354,-2.8904629,0.89598083,-2.0439134,1.0972155,-3.336717,-7.200075,-7.008539,-5.3532686,-1.6965443,-4.509421,-0.55865836,-0.15193027,-5.5668306,-5.802719,-3.5493488,-6.986243,-6.2310634,-3.7964056,3.8688474,8.570382,12.403811,1.5651374,-0.23752666,-0.5038058,-4.9552217,10.069067,2.674632,6.056293,10.007478,9.640429,9.810525,9.87861,-4.5287127,-5.572772,-7.180115,-4.8645706,-5.953761,-0.5655085,-7.118111,-7.0469656,6.793256,5.8803334,2.8649054,-3.465721,-5.438709,-5.353667,-4.2263484,-0.38526225,0.44801998,0.552956,0.86204684,-3.4499066,-5.2462897,-6.7602215,-4.1730356,-6.025069,-7.058092,-6.239366,-0.36368495,0.17862414,4.5308156,8.645969,8.166731,10.343212,9.01869,6.1521163,-0.46256796,-3.8288515,-5.399242,-5.379523,-2.2729652,0.953379,0.9541493,-0.6203333,-7.2390504,-6.646024,-3.5851336,-1.6872774,-7.077389,-5.7809362,-1.0112771,5.126137,5.765506,9.001038,10.0671625,9.820081,-9.688376,-11.060097,-12.343283,-13.1992035,-5.9150705,-4.257573,-3.5901418,0.8219379,5.3289237,3.6996262,5.066486,3.06296,3.1438644,2.4942772,-0.013451726,2.5403717,4.2158604,4.5123796,6.7913446,8.650218,8.633632,10.977414,12.312942,-1.7797688,-3.3258955,-5.418087,-2.2485192,1.1991248,-3.6778119,10.08042,8.643939,6.6841936,8.108458,4.4929037,0.6728096,-0.26892877,-7.478099,-6.363454,-4.767302,-6.6200633,-7.1973166,-7.844723,-7.881854,-7.841419,-7.226127,-7.7128434,10.198358,11.049176,10.442713,7.2792068,6.0705132,10.51383,2.7118075,-5.485686,-4.439208,-5.0876403,-4.74487,-4.91988,-2.2304997,0.20129047,1.1008337,1.130477,0.7852198,-1.6844575,-7.1178207,-3.590647,-0.71007246,5.57593,10.0325365,-14.053333,-13.923028,-13.754657,-13.281296,-12.804397,-12.25178,-12.193309,-10.935945,-8.107933,-8.855359,-8.474977,-2.5264153,-5.2204547,-3.7937005,-3.5698106,-3.7391257,-0.90059644,2.0467358,4.5083113,3.5324752,3.4065201,6.3694324,6.303325,-12.73691,-12.497589,-11.890525,-9.172882,-6.828882,-5.648796,-2.354735,6.510977,10.344859,9.065131,8.774905,11.027853,9.756848,11.020021,10.937438,7.8523936,9.038822,10.68974,12.065197,12.295483,9.335609,11.424957,12.41844,-7.985348,-7.2955317,-6.77891,-10.2249365,-7.499427,-6.241931,-2.1023595,2.447016,7.536142,8.093658,10.70025,12.524026,11.225711,9.1043625,8.776919,8.767621,7.6016793,7.6547103,7.4385858,8.145405,9.950014,6.8653703,3.914701,8.238363,7.801146,8.206709,11.255362,12.5019655,10.520013,4.3429284,1.9565521,-2.851169,-0.31254962,-4.429651,-4.973504,-5.0615997,-3.5759513,-5.317985,-5.418596,-5.483309,-4.8821898,-2.754866,-0.72046596,0.28429493,-0.13702868,-1.9492153,10.379955,7.1324415,4.405124,-0.30946386,-3.8376496,-5.4744434,-4.6042395,-0.42583722,0.3276346,-1.2194825,-3.431447,-5.214385,-6.899876,-4.3207054,0.061861165,-4.835599,-1.3519288,3.718592,7.5805745,7.9517226,8.276321,9.974332,9.790653,12.216725,12.479332,11.27025,7.631273,5.2895474,1.7376263,-0.55070674,-4.7186227,-3.3106334,-3.1303556,-1.4830658,1.090666,0.97813064,-1.1851499,-4.1539216,0.6542525,-2.0690105,-5.3925495,-5.869873,-5.4817486,-2.4079015,2.2849393,-1.5823671,-7.8582883,-7.6441274,-5.4554048,-4.357426,-1.1593232,1.0081345,2.8241982,3.8034222,5.151276,4.173565,5.767862,6.704654,7.5031238,7.9460244,8.120434,7.78139,6.5566864,5.964952,6.9360185,7.614018,7.031869,7.2014112,7.643072,-5.2137375,-5.421487,-4.3143187,1.085203,-0.45873174,-4.751008,-6.8216476,-1.4846655,7.1951027,5.694851,5.641224,8.850166,8.597437,9.836354,10.075763,8.788968,9.887638,10.067491,9.368587,9.263464,8.788386,7.2894273,7.285849,-11.708713,-3.0898728,0.098835595,2.3869553,3.3816903,6.2166147,9.165831,11.624473,12.472535,12.516967,12.113332,10.541145,5.103726,-1.4687196,-1.9320455,2.5130851,4.6576867,5.5501437,3.462315,3.5091014,3.5839465,2.5306141,4.074432,11.032281,10.846791,12.428583,10.835475,9.763754,9.581723,8.98251,6.1779494,0.9160283,0.46315935,0.023590928,-3.0995402,-3.104538,-4.9881334,-5.4577956,-4.5864496,-5.246671,-5.483874,-4.241798,-4.3572297,-3.0127363,0.08328724,-0.52635807],\"z\":[-0.5628927,1.6530061,1.6529438,-3.11573,-5.5699964,-0.70799345,2.4061332,0.41934657,-9.599077,3.0852733,4.0972905,4.8541737,4.5257263,5.400038,7.174157,7.098065,5.548796,6.3609715,7.274969,7.8950186,8.2915945,8.595841,8.589344,-1.2544246,-1.2709211,-1.1422799,-1.0492002,-1.3794795,-2.0397453,-2.503486,-2.757506,-3.4620132,-3.7295482,-3.2274187,-1.7988912,-0.8685026,0.4747597,3.031686,5.88044,2.4772694,3.1751707,2.6922219,1.8202586,2.527531,3.589329,5.6792874,-0.5705522,-0.6133445,-0.6510275,-0.7111482,-0.80293596,-0.8907192,-1.0152117,-1.1969652,-1.6464041,-1.8126956,-2.0760446,-2.4078329,-2.7488225,-3.095328,-1.9779532,0.1361614,2.0953264,3.4842646,4.5973372,5.782433,6.3408613,7.3227663,7.8293924,8.01794,8.405279,8.344321,6.5410585,-0.72358364,-4.624748,-4.615897,-9.029249,-6.3303165,-9.821096,-1.8001071,1.7863419,3.345323,4.9480786,4.3925505,-0.33202207,-0.7353327,3.5893366,3.871504,1.6743959,-5.899256,0.68447673,5.8455534,-3.586032,-4.0253477,-1.4286947,2.2714143,1.8584898,2.1295547,3.9246147,4.714282,8.069494,1.0557476,-0.33641058,-9.118885,-7.8727016,-3.8397307,-3.1132169,-2.2947886,-1.3403476,-7.0327697,7.6065774,0.36118823,-0.0031047093,5.1248264,-1.142178,-4.322276,-5.837023,-6.531798,-9.8815,-9.254642,-4.5226016,3.5583436,6.8778677,8.006742,8.688507,8.6048565,8.407511,6.020829,4.696477,2.7745783,2.203631,0.8776795,-0.50098854,-1.7046721,-2.464606,-2.4862618,-3.007667,-3.1496706,-0.23733056,-0.27306917,-0.3427182,-0.5620794,-0.7354902,-0.777704,-0.869677,-1.0736476,-1.3809909,-1.3485923,-1.3566214,-1.7238646,-1.7023259,-2.0366344,-2.141647,-1.5388452,-1.6925095,-1.9074969,-2.264174,-2.2825634,-2.368683,-2.5733976,-2.4169772,7.4710956,7.6260667,6.801349,1.795215,-2.942562,-2.375323,-4.8856993,-5.1824756,2.4604523,-1.1851304,2.5183687,2.1768413,1.5388259,-1.9006681,-6.2234874,-0.14688644,-3.7069623,-8.245024,-9.8143015,-9.594758,2.5846758,2.3296645,-5.406611,7.5801787,3.9560258,4.4100394,-1.6215008,5.844632,1.5441065,-1.7736895,-3.8203907,3.799526,0.86092615,2.4285398,2.046235,1.9342115,-2.6924353,-3.2901795,2.8212175,0.7003284,-6.6369305,-8.364769,-9.12493,-6.12641,-9.695981,-9.891601,1.4201965,1.004726,5.735331,7.4492793,5.872639,4.5686193,1.7850301,-2.1358569,-5.7670207,-1.6891387,2.9930265,1.6323538,-2.7705429,-5.4278398,-2.6376996,-0.79412705,-5.608694,-1.9850397,1.9738941,3.4542859,-0.4182412,-3.7531862,-6.5939646,2.659957,4.1715264,2.5426986,-1.1960952,-5.7880983,-3.7430558,-0.9791469,3.7047155,-3.485224,0.35518828,3.3156283,-9.530877,-8.952553,-8.091245,-6.7687497,-9.393803,0.23635349,-6.7865467,-9.863227,-9.792477,-9.216122,-9.532167,-6.466923,-3.0939512,-3.4951558,-3.496346,-2.609602,-0.39540908,4.7502623,7.0796323,8.414145,5.273021,2.5574698,-0.1704824,-4.4658237,-5.789862,-5.71046,-4.9298,-3.7356725,-3.1191554,-0.64888704,0.93918294,3.555259,3.1401455,3.4041321,-7.0773745,-0.77856636,-0.7946904,-0.9597291,-0.97764343,-1.3138757,-1.5783587,-1.9213158,-1.9070342,-1.5838827,-1.2047409,-1.590156,-1.8484155,-1.9503744,-2.6624134,-2.8582141,-2.87125,-3.0675602,-3.2610204,-3.4072773,-3.5357978,-2.248165,-2.5436797,-3.408433,7.7248363,6.027446,4.4946804,3.4016387,2.941735,1.5627332,-2.3501174,-4.459341,-5.7878118,-5.239258,-7.2659297,-7.8793554,-9.190038,-9.862241,-8.510599,-5.2362905,-4.700597,0.37331817,4.904524,5.4856153,6.901687,7.7387385,8.528122,8.577351,7.6580806,8.301837,7.709568,6.7530327,5.8811007,4.8799386,3.400885,2.049391,0.6668043,-0.8860262,-0.9808712,-0.933828,-1.25369,-2.0125842,-1.976465,-2.3297365,-2.6420214,-2.8338447,-3.7045057,-3.411233,-3.1194592,-4.923449,-4.957171,-5.685055,-3.412309,3.0841172,-2.5494452,-9.844421,-2.7344098,4.3407726,7.137346,5.923721,6.8759537,8.699472,8.24415,6.19735,3.8307962,1.0078404,-0.46009254,-0.816733,-2.0955963,-2.916652,-3.0733123,-3.4495244,-9.718861,-1.4954199,-9.730039,-9.882061,0.26395553,-5.174725,-8.818275,-0.09292175,-1.6711841,-9.577274,-5.8410296,-0.19520031,4.080986,7.859835,8.618667,5.3015165,3.7600825,5.57292,1.0456779,0.1304178,4.2402616,3.4139578,0.43314934,-0.9078496,-2.6519642,-3.480976,7.0342016,7.02512,4.3190093,7.628538,7.2195787,6.381834,6.3923316,5.9374676,2.9001014,-0.95042294,-2.6694713,-3.2534697,-3.4916894,-3.1554549,-3.478812,-3.2604709,-2.7891524,-2.6813416,-2.673183,-2.6263592,-3.2110057,-3.271143,-3.1663384,-3.1079383,-3.1460736,-3.4137928,-3.2369516,-2.8907378,-2.4225981,-2.1664057,-0.9283935,-0.21175815,0.059895393,-1.4249984,-2.9062319,-3.4863153,-3.2443922,-2.926142,-2.5659633,-2.362612,-1.836881,-1.7286614,-1.5343463,-1.2459897,-1.2043495,-2.2070184,-2.0314078,-1.3830374,-0.53178203,-0.033079576,0.3008737,8.382048,7.5945687,-1.4459505,3.8431938,7.32859,8.312283,5.1351185,2.8505251,-1.1146605,4.9416847,0.74186516,8.11774,-1.7419493,0.7487529,5.7949696,7.984724,7.6723685,3.096704,0.4597963,2.469951,8.420017,8.541309,8.569442,8.7003765,8.69218,8.365764,5.6403456,3.388821,2.5999,0.6282144,-1.1413449,-2.571701,-2.5242643,-2.5019894,-3.02448,-2.8807344,-3.2176857,-3.3087466,-3.0389915,-3.0858681,-3.2936263,-3.4563286,-3.4737618,-3.3610232,-3.4403946,-3.4938734,-0.046935577,0.6024588,1.5484458,4.512232,6.5702405,7.011063,7.667114,8.455218,8.647032,8.698262,8.515139,8.128981,8.3174095,7.9907737,7.5773597,8.56716,8.674114,8.683426,8.696722,8.67347,8.693054,8.442278,8.444785,1.9554852,3.6633744,3.9530566,-5.7459936,-1.9210994,2.1418364,2.1430278,3.7984946,3.796445,2.957021,-3.946722,-9.890062,-8.696617,-9.390854,-9.749165,-7.732108,-9.893733,-9.244014,-8.004522,-8.440218,-9.892498,-4.524355,-1.6573086,-1.2982955,-1.1429979,-1.0299314,-2.167617,-3.212354,-3.6067169,-3.7339168,-3.6061718,-3.7176392,-3.6948385,-1.808169,1.8464941,0.7799226,-0.500574,0.34492853,-0.5845292,-2.7955682,-1.1477836,1.6139369,0.28049123,-2.7717779,-0.42966154,1.5854005,8.395253,7.931989,7.2193074,6.4395413,-3.1295342,-5.3927593,-5.4775248,-2.4582403,-3.471324,-2.0060444,2.483656,-3.2952862,-6.0854383,-0.34748566,-2.7670803,2.7853286,3.8014414,-5.389835,-8.160858,-3.402795,3.8066704,-2.8349886,-3.7822583,-3.691197,-3.2948792,-2.9895976,-2.1175973,3.5440876,6.324071,6.94019,7.692652,6.9538183,7.977077,8.025725,6.8871593,6.608672,7.6705604,8.055933,8.4159565,8.315375,8.092082,7.4604034,7.9716525,8.417343,7.166225,6.747375,-3.3525481,-3.4871914,-3.4753242,-2.8263302,-2.114246,-1.7236965,-1.5538158,-1.1951815,-1.413802,-1.2405818,-0.21023558,0.19656776,0.10686865,-0.3258879,-0.5648111,-1.013515,-1.3224701,-0.56136096,-0.28430867,-0.4789149,-1.1335876,-0.12512144,-0.26655293,-1.1820583,-2.019118,-9.83986,-6.556081,1.853642,8.196901,7.012335,3.6344082,-1.3127444,2.1494458,-0.44864762,-2.9958987,-3.4253824,-3.4950306,-3.4785864,-1.1731207,7.691923,2.5592446,0.244792,2.4534025,7.585239,3.5122101,-2.8716006,5.768537,6.035825,4.4929924,-2.5223129,-5.7515545,0.72745305,3.5206597,-2.892027,-9.68548,-0.7561336,-9.519759,-5.6773944,-7.7797174,-7.0121593,-5.691505,-9.530705,-8.957414,-9.886206,-8.243184,-8.233284,-9.827709,-1.8780224,-0.5768784,3.7975843,3.5651479,-2.6533818,-9.376809,-4.3451605,-3.0877843,-0.80409485,2.125926,4.7304144,4.8883367,4.660062,6.3007627,6.0403004,7.4887595,8.099134,6.9855413,7.512723,8.046345,8.556514,8.529965,8.613317,8.61138,8.674929,-3.8451626,-5.6873646,-2.9872787,-2.011779,3.4629226,0.09441687,-9.612583,-8.426107,-2.5906072,-4.7028995,0.06413973,3.5670278,5.600242,7.195307,8.009845,8.336281,8.22199,8.349904,8.262154,7.1877904,7.9849324,6.2557797,5.6317635,6.613062,3.7544746,5.427353,7.7974,7.492139,-3.3668125,-5.3549743,-2.7243686,1.6252702,1.2917101,-6.530511,-9.624196,-6.8180904,-6.225038,-6.3259816,0.48432013,3.2726471,3.3333504,-8.127893,-4.5782194,3.7372873,-7.2365413,-9.739196,0.013828985,0.010691017,0.0033037635,-0.0025640638,-0.013919348,-0.018073032,-0.02194058,-0.052433457,-0.052252915,-0.0608963,-0.095332295,-0.11588793,-0.17425615,-0.23192312,-0.19390602,-0.23059158,-0.2690865,-0.32196692,-0.34492376,-0.4225139,-0.52310026,-0.5616532,-1.3848133,-1.4335812,-1.6366702,-2.1179388,-2.500496,-2.7010622,-3.0763147,-3.6357625,-3.4299524,-3.1029832,-2.5720115,0.30642092,1.1344452,-3.6222935,-3.6504025,-3.6292095,-3.7275667,-3.0696633,-1.9249364,-1.9222181,-0.9389408,1.2022216,-0.32741132,-2.8617477,-3.652535,-3.421733,3.3264825,8.05626,-3.3627589,-5.67507,-3.3001223,3.6325567,-0.48634735,3.8201697,-1.1112673,-2.3515887,-5.6848474,-8.771592,3.5693607,2.891771,2.5071208,3.0359914,2.8435807,3.8045437,1.0338572,-4.3141527,-1.8020197,-3.0740712,-3.733986,0.8584802,8.078508,-4.994929,2.8478088,-6.214273,-2.6580718,-9.896362,-8.99942,-0.19280195,0.9148979,0.48327178,0.2890993,-6.668931,3.031807,-1.294311,-6.322372,2.7000608,2.8913302,-1.7482529,0.87605995,7.841626,8.127234,8.343769,4.4225287,-0.5455695,-2.8727338,-4.8992124,-5.131519,1.5659621,1.3563,0.54034,3.8138418,3.2448142,-3.261866,-6.9921007,2.6246135,0.84001446,-4.2997556,-9.375239,-9.542082,-9.626834,-6.823846,-7.369189,5.005336,6.3942,8.056251,7.1958537,3.8808637,-0.29315057,-2.7456234,-5.7876053,0.19402823,0.19086304,2.930127,-0.55899304,-3.5138211,-7.472105,-8.776185,0.7842652,-5.0511327,-9.128042,-9.444431,-9.162507,-6.2798667,-2.6801178,-4.2311654,-1.0450823,-0.8471198,-0.62474453,-0.44941735,-1.5254613,-1.7415555,-1.8308762,-2.5226612,-3.3441725,-3.039467,-3.2971382,-2.923665,-2.9290147,-2.8176885,-2.3808923,-2.824753,-3.1379302,-3.1952984,-3.5855312,-3.7316284,-3.731812,-3.3649652,-1.4728645,6.207806,4.597016,-0.40631357,-5.788216,-2.2678113,3.7877514,-0.8404289,2.853569,5.279724,3.7039986,6.9799485,8.497805,8.643578,4.35257,6.3834333,7.8081427,6.073093,5.0516577,3.0578902,2.7568061,2.226729,-0.008900079,1.4038228,5.1843004,4.0005302,4.8704185,7.6170626,8.078277,4.774519,8.319605,-1.0726525,-4.714094,-3.727313,-4.3508196,-4.0618634,-5.7886047,-4.4510717,-2.7446444,-2.669884,-3.5180345,3.5148842,0.6570718,-7.4678097,-9.249928,-9.258283,-0.36348984,-0.2629336,-0.29304934,-0.33018664,-0.43167844,-0.5331664,-0.6422815,-0.65328616,-0.8662598,-1.2482926,-1.1538213,-1.2019101,-1.9807063,-1.6147044,-1.8021213,-1.833446,-1.8099062,-2.2343638,-2.7366493,-3.194555,-3.0113866,-2.988272,-3.5223634,-3.511519,-0.5463846,-0.5939477,-0.7080155,-1.1130435,-1.4102688,-1.5595256,-2.0074303,-3.544088,-3.5082734,-3.7089064,-3.7277238,-3.3010488,-3.613112,-3.41541,-3.1552947,-3.70182,-3.7111623,-3.422846,-2.0568218,-1.5293456,-3.678449,-2.9503272,-1.0644647,-1.2634639,-1.3504409,-1.4165617,-0.9718648,-1.3257838,-1.4839364,-2.045833,-2.809916,-3.675297,-3.7185657,-3.419268,-0.15849595,3.7150958,6.3183913,6.6002007,6.6083694,7.435352,7.403288,7.5304513,7.079049,5.46309,7.8123255,8.4205,-3.729132,-3.6981308,-3.7274256,-3.218546,-0.5528242,4.766927,8.393813,8.177818,5.138175,7.2903576,2.8225143,-3.9650822,-3.78456,-5.3386164,-3.0274358,-0.40985495,-1.7949944,-4.130023,-5.717781,-5.366667,-4.33126,2.487438,3.6045792,4.9559093,7.6902804,8.387025,7.292374,3.8662815,-0.87663156,-4.537855,-5.16508,1.7875168,3.3058968,3.8153262,-5.878393,-2.8075004,-6.8628926,-9.510574,-6.3552313,-8.964232,-9.80447,-7.943786,-7.5879993,-7.2523932,-3.4434469,-4.3433294,-1.7481072,0.43973306,3.6402752,7.417978,8.2527,8.125127,7.1378703,2.251269,-5.488613,-5.576606,-5.678194,-2.7711656,0.08938938,3.2879815,3.6814404,1.1303363,3.6396813,3.1560035,-4.9121284,-5.501092,-8.32437,-9.884053,-8.834657,2.4091647,1.0770702,-2.0119138,-2.765948,-3.4860067,-3.0984678,-2.3324106,-1.8463355,-1.1086092,-1.6538466,-0.7495514,-0.100844,0.23466352,0.43203285,0.49587482,0.36279777,-0.2834398,-0.6324538,-0.21391599,0.28988814,0.061371792,0.06842496,0.30365056,0.5621693,-2.4960089,-4.8267694,-2.7913651,2.8156102,3.4833238,1.4055365,-8.889997,-8.261726,-9.199412,-9.226228,-6.5527844,-6.883442,-4.164851,-2.5745711,-6.6430454,-3.9341052,-0.6815789,1.5293326,1.7455169,2.605119,4.6350985,4.765084,-0.7400904,-1.8987365,-2.3992262,-2.7982786,-2.983727,-3.4971542,-3.6988857,-2.7069821,0.47788078,0.07652008,1.8341494,4.738253,8.286497,6.464579,6.071537,8.286469,8.356913,8.200828,8.409117,8.412263,8.415966,8.289376,8.414836,-3.3880825,-3.38359,-1.0169898,4.3244886,5.6646924,5.857455,6.425698,8.049087,7.8663654,7.685162,7.4808593,4.862081,4.856349,1.466216,-0.70107013,2.5182176,0.42198014,-1.7731702,-4.8866177,-4.78979,-5.626886,-4.615686,-5.239886],\"type\":\"scatter3d\"}],                        {\"template\":{\"data\":{\"histogram2dcontour\":[{\"type\":\"histogram2dcontour\",\"colorbar\":{\"outlinewidth\":0,\"ticks\":\"\"},\"colorscale\":[[0.0,\"#0d0887\"],[0.1111111111111111,\"#46039f\"],[0.2222222222222222,\"#7201a8\"],[0.3333333333333333,\"#9c179e\"],[0.4444444444444444,\"#bd3786\"],[0.5555555555555556,\"#d8576b\"],[0.6666666666666666,\"#ed7953\"],[0.7777777777777778,\"#fb9f3a\"],[0.8888888888888888,\"#fdca26\"],[1.0,\"#f0f921\"]]}],\"choropleth\":[{\"type\":\"choropleth\",\"colorbar\":{\"outlinewidth\":0,\"ticks\":\"\"}}],\"histogram2d\":[{\"type\":\"histogram2d\",\"colorbar\":{\"outlinewidth\":0,\"ticks\":\"\"},\"colorscale\":[[0.0,\"#0d0887\"],[0.1111111111111111,\"#46039f\"],[0.2222222222222222,\"#7201a8\"],[0.3333333333333333,\"#9c179e\"],[0.4444444444444444,\"#bd3786\"],[0.5555555555555556,\"#d8576b\"],[0.6666666666666666,\"#ed7953\"],[0.7777777777777778,\"#fb9f3a\"],[0.8888888888888888,\"#fdca26\"],[1.0,\"#f0f921\"]]}],\"heatmap\":[{\"type\":\"heatmap\",\"colorbar\":{\"outlinewidth\":0,\"ticks\":\"\"},\"colorscale\":[[0.0,\"#0d0887\"],[0.1111111111111111,\"#46039f\"],[0.2222222222222222,\"#7201a8\"],[0.3333333333333333,\"#9c179e\"],[0.4444444444444444,\"#bd3786\"],[0.5555555555555556,\"#d8576b\"],[0.6666666666666666,\"#ed7953\"],[0.7777777777777778,\"#fb9f3a\"],[0.8888888888888888,\"#fdca26\"],[1.0,\"#f0f921\"]]}],\"heatmapgl\":[{\"type\":\"heatmapgl\",\"colorbar\":{\"outlinewidth\":0,\"ticks\":\"\"},\"colorscale\":[[0.0,\"#0d0887\"],[0.1111111111111111,\"#46039f\"],[0.2222222222222222,\"#7201a8\"],[0.3333333333333333,\"#9c179e\"],[0.4444444444444444,\"#bd3786\"],[0.5555555555555556,\"#d8576b\"],[0.6666666666666666,\"#ed7953\"],[0.7777777777777778,\"#fb9f3a\"],[0.8888888888888888,\"#fdca26\"],[1.0,\"#f0f921\"]]}],\"contourcarpet\":[{\"type\":\"contourcarpet\",\"colorbar\":{\"outlinewidth\":0,\"ticks\":\"\"}}],\"contour\":[{\"type\":\"contour\",\"colorbar\":{\"outlinewidth\":0,\"ticks\":\"\"},\"colorscale\":[[0.0,\"#0d0887\"],[0.1111111111111111,\"#46039f\"],[0.2222222222222222,\"#7201a8\"],[0.3333333333333333,\"#9c179e\"],[0.4444444444444444,\"#bd3786\"],[0.5555555555555556,\"#d8576b\"],[0.6666666666666666,\"#ed7953\"],[0.7777777777777778,\"#fb9f3a\"],[0.8888888888888888,\"#fdca26\"],[1.0,\"#f0f921\"]]}],\"surface\":[{\"type\":\"surface\",\"colorbar\":{\"outlinewidth\":0,\"ticks\":\"\"},\"colorscale\":[[0.0,\"#0d0887\"],[0.1111111111111111,\"#46039f\"],[0.2222222222222222,\"#7201a8\"],[0.3333333333333333,\"#9c179e\"],[0.4444444444444444,\"#bd3786\"],[0.5555555555555556,\"#d8576b\"],[0.6666666666666666,\"#ed7953\"],[0.7777777777777778,\"#fb9f3a\"],[0.8888888888888888,\"#fdca26\"],[1.0,\"#f0f921\"]]}],\"mesh3d\":[{\"type\":\"mesh3d\",\"colorbar\":{\"outlinewidth\":0,\"ticks\":\"\"}}],\"scatter\":[{\"fillpattern\":{\"fillmode\":\"overlay\",\"size\":10,\"solidity\":0.2},\"type\":\"scatter\"}],\"parcoords\":[{\"type\":\"parcoords\",\"line\":{\"colorbar\":{\"outlinewidth\":0,\"ticks\":\"\"}}}],\"scatterpolargl\":[{\"type\":\"scatterpolargl\",\"marker\":{\"colorbar\":{\"outlinewidth\":0,\"ticks\":\"\"}}}],\"bar\":[{\"error_x\":{\"color\":\"#2a3f5f\"},\"error_y\":{\"color\":\"#2a3f5f\"},\"marker\":{\"line\":{\"color\":\"#E5ECF6\",\"width\":0.5},\"pattern\":{\"fillmode\":\"overlay\",\"size\":10,\"solidity\":0.2}},\"type\":\"bar\"}],\"scattergeo\":[{\"type\":\"scattergeo\",\"marker\":{\"colorbar\":{\"outlinewidth\":0,\"ticks\":\"\"}}}],\"scatterpolar\":[{\"type\":\"scatterpolar\",\"marker\":{\"colorbar\":{\"outlinewidth\":0,\"ticks\":\"\"}}}],\"histogram\":[{\"marker\":{\"pattern\":{\"fillmode\":\"overlay\",\"size\":10,\"solidity\":0.2}},\"type\":\"histogram\"}],\"scattergl\":[{\"type\":\"scattergl\",\"marker\":{\"colorbar\":{\"outlinewidth\":0,\"ticks\":\"\"}}}],\"scatter3d\":[{\"type\":\"scatter3d\",\"line\":{\"colorbar\":{\"outlinewidth\":0,\"ticks\":\"\"}},\"marker\":{\"colorbar\":{\"outlinewidth\":0,\"ticks\":\"\"}}}],\"scattermapbox\":[{\"type\":\"scattermapbox\",\"marker\":{\"colorbar\":{\"outlinewidth\":0,\"ticks\":\"\"}}}],\"scatterternary\":[{\"type\":\"scatterternary\",\"marker\":{\"colorbar\":{\"outlinewidth\":0,\"ticks\":\"\"}}}],\"scattercarpet\":[{\"type\":\"scattercarpet\",\"marker\":{\"colorbar\":{\"outlinewidth\":0,\"ticks\":\"\"}}}],\"carpet\":[{\"aaxis\":{\"endlinecolor\":\"#2a3f5f\",\"gridcolor\":\"white\",\"linecolor\":\"white\",\"minorgridcolor\":\"white\",\"startlinecolor\":\"#2a3f5f\"},\"baxis\":{\"endlinecolor\":\"#2a3f5f\",\"gridcolor\":\"white\",\"linecolor\":\"white\",\"minorgridcolor\":\"white\",\"startlinecolor\":\"#2a3f5f\"},\"type\":\"carpet\"}],\"table\":[{\"cells\":{\"fill\":{\"color\":\"#EBF0F8\"},\"line\":{\"color\":\"white\"}},\"header\":{\"fill\":{\"color\":\"#C8D4E3\"},\"line\":{\"color\":\"white\"}},\"type\":\"table\"}],\"barpolar\":[{\"marker\":{\"line\":{\"color\":\"#E5ECF6\",\"width\":0.5},\"pattern\":{\"fillmode\":\"overlay\",\"size\":10,\"solidity\":0.2}},\"type\":\"barpolar\"}],\"pie\":[{\"automargin\":true,\"type\":\"pie\"}]},\"layout\":{\"autotypenumbers\":\"strict\",\"colorway\":[\"#636efa\",\"#EF553B\",\"#00cc96\",\"#ab63fa\",\"#FFA15A\",\"#19d3f3\",\"#FF6692\",\"#B6E880\",\"#FF97FF\",\"#FECB52\"],\"font\":{\"color\":\"#2a3f5f\"},\"hovermode\":\"closest\",\"hoverlabel\":{\"align\":\"left\"},\"paper_bgcolor\":\"white\",\"plot_bgcolor\":\"#E5ECF6\",\"polar\":{\"bgcolor\":\"#E5ECF6\",\"angularaxis\":{\"gridcolor\":\"white\",\"linecolor\":\"white\",\"ticks\":\"\"},\"radialaxis\":{\"gridcolor\":\"white\",\"linecolor\":\"white\",\"ticks\":\"\"}},\"ternary\":{\"bgcolor\":\"#E5ECF6\",\"aaxis\":{\"gridcolor\":\"white\",\"linecolor\":\"white\",\"ticks\":\"\"},\"baxis\":{\"gridcolor\":\"white\",\"linecolor\":\"white\",\"ticks\":\"\"},\"caxis\":{\"gridcolor\":\"white\",\"linecolor\":\"white\",\"ticks\":\"\"}},\"coloraxis\":{\"colorbar\":{\"outlinewidth\":0,\"ticks\":\"\"}},\"colorscale\":{\"sequential\":[[0.0,\"#0d0887\"],[0.1111111111111111,\"#46039f\"],[0.2222222222222222,\"#7201a8\"],[0.3333333333333333,\"#9c179e\"],[0.4444444444444444,\"#bd3786\"],[0.5555555555555556,\"#d8576b\"],[0.6666666666666666,\"#ed7953\"],[0.7777777777777778,\"#fb9f3a\"],[0.8888888888888888,\"#fdca26\"],[1.0,\"#f0f921\"]],\"sequentialminus\":[[0.0,\"#0d0887\"],[0.1111111111111111,\"#46039f\"],[0.2222222222222222,\"#7201a8\"],[0.3333333333333333,\"#9c179e\"],[0.4444444444444444,\"#bd3786\"],[0.5555555555555556,\"#d8576b\"],[0.6666666666666666,\"#ed7953\"],[0.7777777777777778,\"#fb9f3a\"],[0.8888888888888888,\"#fdca26\"],[1.0,\"#f0f921\"]],\"diverging\":[[0,\"#8e0152\"],[0.1,\"#c51b7d\"],[0.2,\"#de77ae\"],[0.3,\"#f1b6da\"],[0.4,\"#fde0ef\"],[0.5,\"#f7f7f7\"],[0.6,\"#e6f5d0\"],[0.7,\"#b8e186\"],[0.8,\"#7fbc41\"],[0.9,\"#4d9221\"],[1,\"#276419\"]]},\"xaxis\":{\"gridcolor\":\"white\",\"linecolor\":\"white\",\"ticks\":\"\",\"title\":{\"standoff\":15},\"zerolinecolor\":\"white\",\"automargin\":true,\"zerolinewidth\":2},\"yaxis\":{\"gridcolor\":\"white\",\"linecolor\":\"white\",\"ticks\":\"\",\"title\":{\"standoff\":15},\"zerolinecolor\":\"white\",\"automargin\":true,\"zerolinewidth\":2},\"scene\":{\"xaxis\":{\"backgroundcolor\":\"#E5ECF6\",\"gridcolor\":\"white\",\"linecolor\":\"white\",\"showbackground\":true,\"ticks\":\"\",\"zerolinecolor\":\"white\",\"gridwidth\":2},\"yaxis\":{\"backgroundcolor\":\"#E5ECF6\",\"gridcolor\":\"white\",\"linecolor\":\"white\",\"showbackground\":true,\"ticks\":\"\",\"zerolinecolor\":\"white\",\"gridwidth\":2},\"zaxis\":{\"backgroundcolor\":\"#E5ECF6\",\"gridcolor\":\"white\",\"linecolor\":\"white\",\"showbackground\":true,\"ticks\":\"\",\"zerolinecolor\":\"white\",\"gridwidth\":2}},\"shapedefaults\":{\"line\":{\"color\":\"#2a3f5f\"}},\"annotationdefaults\":{\"arrowcolor\":\"#2a3f5f\",\"arrowhead\":0,\"arrowwidth\":1},\"geo\":{\"bgcolor\":\"white\",\"landcolor\":\"#E5ECF6\",\"subunitcolor\":\"white\",\"showland\":true,\"showlakes\":true,\"lakecolor\":\"white\"},\"title\":{\"x\":0.05},\"mapbox\":{\"style\":\"light\"}}},\"scene\":{\"domain\":{\"x\":[0.0,1.0],\"y\":[0.0,1.0]},\"xaxis\":{\"title\":{\"text\":\"0\"}},\"yaxis\":{\"title\":{\"text\":\"1\"}},\"zaxis\":{\"title\":{\"text\":\"2\"}}},\"coloraxis\":{\"colorbar\":{\"title\":{\"text\":\"Anomaly\"}},\"colorscale\":[[0.0,\"#0d0887\"],[0.1111111111111111,\"#46039f\"],[0.2222222222222222,\"#7201a8\"],[0.3333333333333333,\"#9c179e\"],[0.4444444444444444,\"#bd3786\"],[0.5555555555555556,\"#d8576b\"],[0.6666666666666666,\"#ed7953\"],[0.7777777777777778,\"#fb9f3a\"],[0.8888888888888888,\"#fdca26\"],[1.0,\"#f0f921\"]]},\"legend\":{\"tracegroupgap\":0},\"title\":{\"text\":\"3d TSNE Plot for Outliers\"},\"height\":800,\"width\":900},                        {\"responsive\": true}                    ).then(function(){\n",
              "                            \n",
              "var gd = document.getElementById('f369d387-e9fe-4d6b-b175-291c392bf5d0');\n",
              "var x = new MutationObserver(function (mutations, observer) {{\n",
              "        var display = window.getComputedStyle(gd).display;\n",
              "        if (!display || display === 'none') {{\n",
              "            console.log([gd, 'removed!']);\n",
              "            Plotly.purge(gd);\n",
              "            observer.disconnect();\n",
              "        }}\n",
              "}});\n",
              "\n",
              "// Listen for the removal of the full notebook cells\n",
              "var notebookContainer = gd.closest('#notebook-container');\n",
              "if (notebookContainer) {{\n",
              "    x.observe(notebookContainer, {childList: true});\n",
              "}}\n",
              "\n",
              "// Listen for the clearing of the current output cell\n",
              "var outputEl = gd.closest('.output');\n",
              "if (outputEl) {{\n",
              "    x.observe(outputEl, {childList: true});\n",
              "}}\n",
              "\n",
              "                        })                };                            </script>        </div>\n",
              "</body>\n",
              "</html>"
            ]
          },
          "metadata": {}
        }
      ]
    }
  ]
}