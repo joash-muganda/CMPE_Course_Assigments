{
  "nbformat": 4,
  "nbformat_minor": 0,
  "metadata": {
    "colab": {
      "provenance": []
    },
    "kernelspec": {
      "name": "python3",
      "display_name": "Python 3"
    },
    "language_info": {
      "name": "python"
    },
    "widgets": {
      "application/vnd.jupyter.widget-state+json": {
        "eae978d466c0448e8ca35373567c22e4": {
          "model_module": "@jupyter-widgets/controls",
          "model_name": "HBoxModel",
          "model_module_version": "1.5.0",
          "state": {
            "_dom_classes": [],
            "_model_module": "@jupyter-widgets/controls",
            "_model_module_version": "1.5.0",
            "_model_name": "HBoxModel",
            "_view_count": null,
            "_view_module": "@jupyter-widgets/controls",
            "_view_module_version": "1.5.0",
            "_view_name": "HBoxView",
            "box_style": "",
            "children": [
              "IPY_MODEL_c08d2b3886144e3eaf417477036cb89b",
              "IPY_MODEL_4afb4b2a97104bb5a88a42e34c925bee",
              "IPY_MODEL_7cb9e82f0b6e4f2fa258e8278bad68af"
            ],
            "layout": "IPY_MODEL_69c15b2be9874e7bae402b9b1645e1d4"
          }
        },
        "c08d2b3886144e3eaf417477036cb89b": {
          "model_module": "@jupyter-widgets/controls",
          "model_name": "HTMLModel",
          "model_module_version": "1.5.0",
          "state": {
            "_dom_classes": [],
            "_model_module": "@jupyter-widgets/controls",
            "_model_module_version": "1.5.0",
            "_model_name": "HTMLModel",
            "_view_count": null,
            "_view_module": "@jupyter-widgets/controls",
            "_view_module_version": "1.5.0",
            "_view_name": "HTMLView",
            "description": "",
            "description_tooltip": null,
            "layout": "IPY_MODEL_28ebc8bfaf0c49c18535ab71a9700ca3",
            "placeholder": "​",
            "style": "IPY_MODEL_d6a0ced2f3f44b3b9042860645af259e",
            "value": "Processing:   0%"
          }
        },
        "4afb4b2a97104bb5a88a42e34c925bee": {
          "model_module": "@jupyter-widgets/controls",
          "model_name": "FloatProgressModel",
          "model_module_version": "1.5.0",
          "state": {
            "_dom_classes": [],
            "_model_module": "@jupyter-widgets/controls",
            "_model_module_version": "1.5.0",
            "_model_name": "FloatProgressModel",
            "_view_count": null,
            "_view_module": "@jupyter-widgets/controls",
            "_view_module_version": "1.5.0",
            "_view_name": "ProgressView",
            "bar_style": "",
            "description": "",
            "description_tooltip": null,
            "layout": "IPY_MODEL_39fc9ff4fae14dec9756809eb337b12b",
            "max": 3,
            "min": 0,
            "orientation": "horizontal",
            "style": "IPY_MODEL_9db5b27e87254e8a8f4b785c0ce5daca",
            "value": 3
          }
        },
        "7cb9e82f0b6e4f2fa258e8278bad68af": {
          "model_module": "@jupyter-widgets/controls",
          "model_name": "HTMLModel",
          "model_module_version": "1.5.0",
          "state": {
            "_dom_classes": [],
            "_model_module": "@jupyter-widgets/controls",
            "_model_module_version": "1.5.0",
            "_model_name": "HTMLModel",
            "_view_count": null,
            "_view_module": "@jupyter-widgets/controls",
            "_view_module_version": "1.5.0",
            "_view_name": "HTMLView",
            "description": "",
            "description_tooltip": null,
            "layout": "IPY_MODEL_13bb6758adb349cf9427ea2b1a94e325",
            "placeholder": "​",
            "style": "IPY_MODEL_b28a5d6b467b4242bafcbaa1032a7cc8",
            "value": " 0/3 [00:00&lt;?, ?it/s]"
          }
        },
        "69c15b2be9874e7bae402b9b1645e1d4": {
          "model_module": "@jupyter-widgets/base",
          "model_name": "LayoutModel",
          "model_module_version": "1.2.0",
          "state": {
            "_model_module": "@jupyter-widgets/base",
            "_model_module_version": "1.2.0",
            "_model_name": "LayoutModel",
            "_view_count": null,
            "_view_module": "@jupyter-widgets/base",
            "_view_module_version": "1.2.0",
            "_view_name": "LayoutView",
            "align_content": null,
            "align_items": null,
            "align_self": null,
            "border": null,
            "bottom": null,
            "display": null,
            "flex": null,
            "flex_flow": null,
            "grid_area": null,
            "grid_auto_columns": null,
            "grid_auto_flow": null,
            "grid_auto_rows": null,
            "grid_column": null,
            "grid_gap": null,
            "grid_row": null,
            "grid_template_areas": null,
            "grid_template_columns": null,
            "grid_template_rows": null,
            "height": null,
            "justify_content": null,
            "justify_items": null,
            "left": null,
            "margin": null,
            "max_height": null,
            "max_width": null,
            "min_height": null,
            "min_width": null,
            "object_fit": null,
            "object_position": null,
            "order": null,
            "overflow": null,
            "overflow_x": null,
            "overflow_y": null,
            "padding": null,
            "right": null,
            "top": null,
            "visibility": "hidden",
            "width": null
          }
        },
        "28ebc8bfaf0c49c18535ab71a9700ca3": {
          "model_module": "@jupyter-widgets/base",
          "model_name": "LayoutModel",
          "model_module_version": "1.2.0",
          "state": {
            "_model_module": "@jupyter-widgets/base",
            "_model_module_version": "1.2.0",
            "_model_name": "LayoutModel",
            "_view_count": null,
            "_view_module": "@jupyter-widgets/base",
            "_view_module_version": "1.2.0",
            "_view_name": "LayoutView",
            "align_content": null,
            "align_items": null,
            "align_self": null,
            "border": null,
            "bottom": null,
            "display": null,
            "flex": null,
            "flex_flow": null,
            "grid_area": null,
            "grid_auto_columns": null,
            "grid_auto_flow": null,
            "grid_auto_rows": null,
            "grid_column": null,
            "grid_gap": null,
            "grid_row": null,
            "grid_template_areas": null,
            "grid_template_columns": null,
            "grid_template_rows": null,
            "height": null,
            "justify_content": null,
            "justify_items": null,
            "left": null,
            "margin": null,
            "max_height": null,
            "max_width": null,
            "min_height": null,
            "min_width": null,
            "object_fit": null,
            "object_position": null,
            "order": null,
            "overflow": null,
            "overflow_x": null,
            "overflow_y": null,
            "padding": null,
            "right": null,
            "top": null,
            "visibility": null,
            "width": null
          }
        },
        "d6a0ced2f3f44b3b9042860645af259e": {
          "model_module": "@jupyter-widgets/controls",
          "model_name": "DescriptionStyleModel",
          "model_module_version": "1.5.0",
          "state": {
            "_model_module": "@jupyter-widgets/controls",
            "_model_module_version": "1.5.0",
            "_model_name": "DescriptionStyleModel",
            "_view_count": null,
            "_view_module": "@jupyter-widgets/base",
            "_view_module_version": "1.2.0",
            "_view_name": "StyleView",
            "description_width": ""
          }
        },
        "39fc9ff4fae14dec9756809eb337b12b": {
          "model_module": "@jupyter-widgets/base",
          "model_name": "LayoutModel",
          "model_module_version": "1.2.0",
          "state": {
            "_model_module": "@jupyter-widgets/base",
            "_model_module_version": "1.2.0",
            "_model_name": "LayoutModel",
            "_view_count": null,
            "_view_module": "@jupyter-widgets/base",
            "_view_module_version": "1.2.0",
            "_view_name": "LayoutView",
            "align_content": null,
            "align_items": null,
            "align_self": null,
            "border": null,
            "bottom": null,
            "display": null,
            "flex": null,
            "flex_flow": null,
            "grid_area": null,
            "grid_auto_columns": null,
            "grid_auto_flow": null,
            "grid_auto_rows": null,
            "grid_column": null,
            "grid_gap": null,
            "grid_row": null,
            "grid_template_areas": null,
            "grid_template_columns": null,
            "grid_template_rows": null,
            "height": null,
            "justify_content": null,
            "justify_items": null,
            "left": null,
            "margin": null,
            "max_height": null,
            "max_width": null,
            "min_height": null,
            "min_width": null,
            "object_fit": null,
            "object_position": null,
            "order": null,
            "overflow": null,
            "overflow_x": null,
            "overflow_y": null,
            "padding": null,
            "right": null,
            "top": null,
            "visibility": null,
            "width": null
          }
        },
        "9db5b27e87254e8a8f4b785c0ce5daca": {
          "model_module": "@jupyter-widgets/controls",
          "model_name": "ProgressStyleModel",
          "model_module_version": "1.5.0",
          "state": {
            "_model_module": "@jupyter-widgets/controls",
            "_model_module_version": "1.5.0",
            "_model_name": "ProgressStyleModel",
            "_view_count": null,
            "_view_module": "@jupyter-widgets/base",
            "_view_module_version": "1.2.0",
            "_view_name": "StyleView",
            "bar_color": null,
            "description_width": ""
          }
        },
        "13bb6758adb349cf9427ea2b1a94e325": {
          "model_module": "@jupyter-widgets/base",
          "model_name": "LayoutModel",
          "model_module_version": "1.2.0",
          "state": {
            "_model_module": "@jupyter-widgets/base",
            "_model_module_version": "1.2.0",
            "_model_name": "LayoutModel",
            "_view_count": null,
            "_view_module": "@jupyter-widgets/base",
            "_view_module_version": "1.2.0",
            "_view_name": "LayoutView",
            "align_content": null,
            "align_items": null,
            "align_self": null,
            "border": null,
            "bottom": null,
            "display": null,
            "flex": null,
            "flex_flow": null,
            "grid_area": null,
            "grid_auto_columns": null,
            "grid_auto_flow": null,
            "grid_auto_rows": null,
            "grid_column": null,
            "grid_gap": null,
            "grid_row": null,
            "grid_template_areas": null,
            "grid_template_columns": null,
            "grid_template_rows": null,
            "height": null,
            "justify_content": null,
            "justify_items": null,
            "left": null,
            "margin": null,
            "max_height": null,
            "max_width": null,
            "min_height": null,
            "min_width": null,
            "object_fit": null,
            "object_position": null,
            "order": null,
            "overflow": null,
            "overflow_x": null,
            "overflow_y": null,
            "padding": null,
            "right": null,
            "top": null,
            "visibility": null,
            "width": null
          }
        },
        "b28a5d6b467b4242bafcbaa1032a7cc8": {
          "model_module": "@jupyter-widgets/controls",
          "model_name": "DescriptionStyleModel",
          "model_module_version": "1.5.0",
          "state": {
            "_model_module": "@jupyter-widgets/controls",
            "_model_module_version": "1.5.0",
            "_model_name": "DescriptionStyleModel",
            "_view_count": null,
            "_view_module": "@jupyter-widgets/base",
            "_view_module_version": "1.2.0",
            "_view_name": "StyleView",
            "description_width": ""
          }
        }
      }
    }
  },
  "cells": [
    {
      "cell_type": "markdown",
      "source": [
        "**Clustering**"
      ],
      "metadata": {
        "id": "4zLPd6VXNx_z"
      }
    },
    {
      "cell_type": "code",
      "source": [
        "#install pycarete\n",
        "!pip install pycaret\n"
      ],
      "metadata": {
        "id": "5kY3Gj3-N-_v"
      },
      "execution_count": null,
      "outputs": []
    },
    {
      "cell_type": "code",
      "source": [
        "from google.colab import files\n",
        "da = files.upload()"
      ],
      "metadata": {
        "colab": {
          "base_uri": "https://localhost:8080/",
          "height": 73
        },
        "id": "tUnP9WGFP_uB",
        "outputId": "d04da3e5-dce7-4f3b-b136-49ba16b0a93d"
      },
      "execution_count": 2,
      "outputs": [
        {
          "output_type": "display_data",
          "data": {
            "text/plain": [
              "<IPython.core.display.HTML object>"
            ],
            "text/html": [
              "\n",
              "     <input type=\"file\" id=\"files-4b3efa2f-a31b-4929-bdf0-fd2df304cb0f\" name=\"files[]\" multiple disabled\n",
              "        style=\"border:none\" />\n",
              "     <output id=\"result-4b3efa2f-a31b-4929-bdf0-fd2df304cb0f\">\n",
              "      Upload widget is only available when the cell has been executed in the\n",
              "      current browser session. Please rerun this cell to enable.\n",
              "      </output>\n",
              "      <script>// Copyright 2017 Google LLC\n",
              "//\n",
              "// Licensed under the Apache License, Version 2.0 (the \"License\");\n",
              "// you may not use this file except in compliance with the License.\n",
              "// You may obtain a copy of the License at\n",
              "//\n",
              "//      http://www.apache.org/licenses/LICENSE-2.0\n",
              "//\n",
              "// Unless required by applicable law or agreed to in writing, software\n",
              "// distributed under the License is distributed on an \"AS IS\" BASIS,\n",
              "// WITHOUT WARRANTIES OR CONDITIONS OF ANY KIND, either express or implied.\n",
              "// See the License for the specific language governing permissions and\n",
              "// limitations under the License.\n",
              "\n",
              "/**\n",
              " * @fileoverview Helpers for google.colab Python module.\n",
              " */\n",
              "(function(scope) {\n",
              "function span(text, styleAttributes = {}) {\n",
              "  const element = document.createElement('span');\n",
              "  element.textContent = text;\n",
              "  for (const key of Object.keys(styleAttributes)) {\n",
              "    element.style[key] = styleAttributes[key];\n",
              "  }\n",
              "  return element;\n",
              "}\n",
              "\n",
              "// Max number of bytes which will be uploaded at a time.\n",
              "const MAX_PAYLOAD_SIZE = 100 * 1024;\n",
              "\n",
              "function _uploadFiles(inputId, outputId) {\n",
              "  const steps = uploadFilesStep(inputId, outputId);\n",
              "  const outputElement = document.getElementById(outputId);\n",
              "  // Cache steps on the outputElement to make it available for the next call\n",
              "  // to uploadFilesContinue from Python.\n",
              "  outputElement.steps = steps;\n",
              "\n",
              "  return _uploadFilesContinue(outputId);\n",
              "}\n",
              "\n",
              "// This is roughly an async generator (not supported in the browser yet),\n",
              "// where there are multiple asynchronous steps and the Python side is going\n",
              "// to poll for completion of each step.\n",
              "// This uses a Promise to block the python side on completion of each step,\n",
              "// then passes the result of the previous step as the input to the next step.\n",
              "function _uploadFilesContinue(outputId) {\n",
              "  const outputElement = document.getElementById(outputId);\n",
              "  const steps = outputElement.steps;\n",
              "\n",
              "  const next = steps.next(outputElement.lastPromiseValue);\n",
              "  return Promise.resolve(next.value.promise).then((value) => {\n",
              "    // Cache the last promise value to make it available to the next\n",
              "    // step of the generator.\n",
              "    outputElement.lastPromiseValue = value;\n",
              "    return next.value.response;\n",
              "  });\n",
              "}\n",
              "\n",
              "/**\n",
              " * Generator function which is called between each async step of the upload\n",
              " * process.\n",
              " * @param {string} inputId Element ID of the input file picker element.\n",
              " * @param {string} outputId Element ID of the output display.\n",
              " * @return {!Iterable<!Object>} Iterable of next steps.\n",
              " */\n",
              "function* uploadFilesStep(inputId, outputId) {\n",
              "  const inputElement = document.getElementById(inputId);\n",
              "  inputElement.disabled = false;\n",
              "\n",
              "  const outputElement = document.getElementById(outputId);\n",
              "  outputElement.innerHTML = '';\n",
              "\n",
              "  const pickedPromise = new Promise((resolve) => {\n",
              "    inputElement.addEventListener('change', (e) => {\n",
              "      resolve(e.target.files);\n",
              "    });\n",
              "  });\n",
              "\n",
              "  const cancel = document.createElement('button');\n",
              "  inputElement.parentElement.appendChild(cancel);\n",
              "  cancel.textContent = 'Cancel upload';\n",
              "  const cancelPromise = new Promise((resolve) => {\n",
              "    cancel.onclick = () => {\n",
              "      resolve(null);\n",
              "    };\n",
              "  });\n",
              "\n",
              "  // Wait for the user to pick the files.\n",
              "  const files = yield {\n",
              "    promise: Promise.race([pickedPromise, cancelPromise]),\n",
              "    response: {\n",
              "      action: 'starting',\n",
              "    }\n",
              "  };\n",
              "\n",
              "  cancel.remove();\n",
              "\n",
              "  // Disable the input element since further picks are not allowed.\n",
              "  inputElement.disabled = true;\n",
              "\n",
              "  if (!files) {\n",
              "    return {\n",
              "      response: {\n",
              "        action: 'complete',\n",
              "      }\n",
              "    };\n",
              "  }\n",
              "\n",
              "  for (const file of files) {\n",
              "    const li = document.createElement('li');\n",
              "    li.append(span(file.name, {fontWeight: 'bold'}));\n",
              "    li.append(span(\n",
              "        `(${file.type || 'n/a'}) - ${file.size} bytes, ` +\n",
              "        `last modified: ${\n",
              "            file.lastModifiedDate ? file.lastModifiedDate.toLocaleDateString() :\n",
              "                                    'n/a'} - `));\n",
              "    const percent = span('0% done');\n",
              "    li.appendChild(percent);\n",
              "\n",
              "    outputElement.appendChild(li);\n",
              "\n",
              "    const fileDataPromise = new Promise((resolve) => {\n",
              "      const reader = new FileReader();\n",
              "      reader.onload = (e) => {\n",
              "        resolve(e.target.result);\n",
              "      };\n",
              "      reader.readAsArrayBuffer(file);\n",
              "    });\n",
              "    // Wait for the data to be ready.\n",
              "    let fileData = yield {\n",
              "      promise: fileDataPromise,\n",
              "      response: {\n",
              "        action: 'continue',\n",
              "      }\n",
              "    };\n",
              "\n",
              "    // Use a chunked sending to avoid message size limits. See b/62115660.\n",
              "    let position = 0;\n",
              "    do {\n",
              "      const length = Math.min(fileData.byteLength - position, MAX_PAYLOAD_SIZE);\n",
              "      const chunk = new Uint8Array(fileData, position, length);\n",
              "      position += length;\n",
              "\n",
              "      const base64 = btoa(String.fromCharCode.apply(null, chunk));\n",
              "      yield {\n",
              "        response: {\n",
              "          action: 'append',\n",
              "          file: file.name,\n",
              "          data: base64,\n",
              "        },\n",
              "      };\n",
              "\n",
              "      let percentDone = fileData.byteLength === 0 ?\n",
              "          100 :\n",
              "          Math.round((position / fileData.byteLength) * 100);\n",
              "      percent.textContent = `${percentDone}% done`;\n",
              "\n",
              "    } while (position < fileData.byteLength);\n",
              "  }\n",
              "\n",
              "  // All done.\n",
              "  yield {\n",
              "    response: {\n",
              "      action: 'complete',\n",
              "    }\n",
              "  };\n",
              "}\n",
              "\n",
              "scope.google = scope.google || {};\n",
              "scope.google.colab = scope.google.colab || {};\n",
              "scope.google.colab._files = {\n",
              "  _uploadFiles,\n",
              "  _uploadFilesContinue,\n",
              "};\n",
              "})(self);\n",
              "</script> "
            ]
          },
          "metadata": {}
        },
        {
          "output_type": "stream",
          "name": "stdout",
          "text": [
            "Saving Cleaned_Data_Africa.csv to Cleaned_Data_Africa.csv\n"
          ]
        }
      ]
    },
    {
      "cell_type": "code",
      "source": [
        "import pandas as pd\n",
        "df = pd.read_csv(\"Cleaned_Data_Africa.csv\")"
      ],
      "metadata": {
        "id": "_wFbBDpXQN4a"
      },
      "execution_count": 3,
      "outputs": []
    },
    {
      "cell_type": "code",
      "source": [
        "from pycaret.clustering import *\n",
        "clustering_setup = setup(df, normalize=True, session_id=123)\n"
      ],
      "metadata": {
        "colab": {
          "base_uri": "https://localhost:8080/",
          "height": 614
        },
        "id": "KDdWecpGPFqm",
        "outputId": "76c07472-8480-43c0-d681-3c287584590b"
      },
      "execution_count": 4,
      "outputs": [
        {
          "output_type": "display_data",
          "data": {
            "text/plain": [
              "<pandas.io.formats.style.Styler at 0x7b164fdc18a0>"
            ],
            "text/html": [
              "<style type=\"text/css\">\n",
              "#T_e9e10_row5_col1, #T_e9e10_row11_col1 {\n",
              "  background-color: lightgreen;\n",
              "}\n",
              "</style>\n",
              "<table id=\"T_e9e10\" class=\"dataframe\">\n",
              "  <thead>\n",
              "    <tr>\n",
              "      <th class=\"blank level0\" >&nbsp;</th>\n",
              "      <th id=\"T_e9e10_level0_col0\" class=\"col_heading level0 col0\" >Description</th>\n",
              "      <th id=\"T_e9e10_level0_col1\" class=\"col_heading level0 col1\" >Value</th>\n",
              "    </tr>\n",
              "  </thead>\n",
              "  <tbody>\n",
              "    <tr>\n",
              "      <th id=\"T_e9e10_level0_row0\" class=\"row_heading level0 row0\" >0</th>\n",
              "      <td id=\"T_e9e10_row0_col0\" class=\"data row0 col0\" >Session id</td>\n",
              "      <td id=\"T_e9e10_row0_col1\" class=\"data row0 col1\" >123</td>\n",
              "    </tr>\n",
              "    <tr>\n",
              "      <th id=\"T_e9e10_level0_row1\" class=\"row_heading level0 row1\" >1</th>\n",
              "      <td id=\"T_e9e10_row1_col0\" class=\"data row1 col0\" >Original data shape</td>\n",
              "      <td id=\"T_e9e10_row1_col1\" class=\"data row1 col1\" >(1179, 6)</td>\n",
              "    </tr>\n",
              "    <tr>\n",
              "      <th id=\"T_e9e10_level0_row2\" class=\"row_heading level0 row2\" >2</th>\n",
              "      <td id=\"T_e9e10_row2_col0\" class=\"data row2 col0\" >Transformed data shape</td>\n",
              "      <td id=\"T_e9e10_row2_col1\" class=\"data row2 col1\" >(1179, 62)</td>\n",
              "    </tr>\n",
              "    <tr>\n",
              "      <th id=\"T_e9e10_level0_row3\" class=\"row_heading level0 row3\" >3</th>\n",
              "      <td id=\"T_e9e10_row3_col0\" class=\"data row3 col0\" >Numeric features</td>\n",
              "      <td id=\"T_e9e10_row3_col1\" class=\"data row3 col1\" >4</td>\n",
              "    </tr>\n",
              "    <tr>\n",
              "      <th id=\"T_e9e10_level0_row4\" class=\"row_heading level0 row4\" >4</th>\n",
              "      <td id=\"T_e9e10_row4_col0\" class=\"data row4 col0\" >Categorical features</td>\n",
              "      <td id=\"T_e9e10_row4_col1\" class=\"data row4 col1\" >2</td>\n",
              "    </tr>\n",
              "    <tr>\n",
              "      <th id=\"T_e9e10_level0_row5\" class=\"row_heading level0 row5\" >5</th>\n",
              "      <td id=\"T_e9e10_row5_col0\" class=\"data row5 col0\" >Preprocess</td>\n",
              "      <td id=\"T_e9e10_row5_col1\" class=\"data row5 col1\" >True</td>\n",
              "    </tr>\n",
              "    <tr>\n",
              "      <th id=\"T_e9e10_level0_row6\" class=\"row_heading level0 row6\" >6</th>\n",
              "      <td id=\"T_e9e10_row6_col0\" class=\"data row6 col0\" >Imputation type</td>\n",
              "      <td id=\"T_e9e10_row6_col1\" class=\"data row6 col1\" >simple</td>\n",
              "    </tr>\n",
              "    <tr>\n",
              "      <th id=\"T_e9e10_level0_row7\" class=\"row_heading level0 row7\" >7</th>\n",
              "      <td id=\"T_e9e10_row7_col0\" class=\"data row7 col0\" >Numeric imputation</td>\n",
              "      <td id=\"T_e9e10_row7_col1\" class=\"data row7 col1\" >mean</td>\n",
              "    </tr>\n",
              "    <tr>\n",
              "      <th id=\"T_e9e10_level0_row8\" class=\"row_heading level0 row8\" >8</th>\n",
              "      <td id=\"T_e9e10_row8_col0\" class=\"data row8 col0\" >Categorical imputation</td>\n",
              "      <td id=\"T_e9e10_row8_col1\" class=\"data row8 col1\" >mode</td>\n",
              "    </tr>\n",
              "    <tr>\n",
              "      <th id=\"T_e9e10_level0_row9\" class=\"row_heading level0 row9\" >9</th>\n",
              "      <td id=\"T_e9e10_row9_col0\" class=\"data row9 col0\" >Maximum one-hot encoding</td>\n",
              "      <td id=\"T_e9e10_row9_col1\" class=\"data row9 col1\" >-1</td>\n",
              "    </tr>\n",
              "    <tr>\n",
              "      <th id=\"T_e9e10_level0_row10\" class=\"row_heading level0 row10\" >10</th>\n",
              "      <td id=\"T_e9e10_row10_col0\" class=\"data row10 col0\" >Encoding method</td>\n",
              "      <td id=\"T_e9e10_row10_col1\" class=\"data row10 col1\" >None</td>\n",
              "    </tr>\n",
              "    <tr>\n",
              "      <th id=\"T_e9e10_level0_row11\" class=\"row_heading level0 row11\" >11</th>\n",
              "      <td id=\"T_e9e10_row11_col0\" class=\"data row11 col0\" >Normalize</td>\n",
              "      <td id=\"T_e9e10_row11_col1\" class=\"data row11 col1\" >True</td>\n",
              "    </tr>\n",
              "    <tr>\n",
              "      <th id=\"T_e9e10_level0_row12\" class=\"row_heading level0 row12\" >12</th>\n",
              "      <td id=\"T_e9e10_row12_col0\" class=\"data row12 col0\" >Normalize method</td>\n",
              "      <td id=\"T_e9e10_row12_col1\" class=\"data row12 col1\" >zscore</td>\n",
              "    </tr>\n",
              "    <tr>\n",
              "      <th id=\"T_e9e10_level0_row13\" class=\"row_heading level0 row13\" >13</th>\n",
              "      <td id=\"T_e9e10_row13_col0\" class=\"data row13 col0\" >CPU Jobs</td>\n",
              "      <td id=\"T_e9e10_row13_col1\" class=\"data row13 col1\" >-1</td>\n",
              "    </tr>\n",
              "    <tr>\n",
              "      <th id=\"T_e9e10_level0_row14\" class=\"row_heading level0 row14\" >14</th>\n",
              "      <td id=\"T_e9e10_row14_col0\" class=\"data row14 col0\" >Use GPU</td>\n",
              "      <td id=\"T_e9e10_row14_col1\" class=\"data row14 col1\" >False</td>\n",
              "    </tr>\n",
              "    <tr>\n",
              "      <th id=\"T_e9e10_level0_row15\" class=\"row_heading level0 row15\" >15</th>\n",
              "      <td id=\"T_e9e10_row15_col0\" class=\"data row15 col0\" >Log Experiment</td>\n",
              "      <td id=\"T_e9e10_row15_col1\" class=\"data row15 col1\" >False</td>\n",
              "    </tr>\n",
              "    <tr>\n",
              "      <th id=\"T_e9e10_level0_row16\" class=\"row_heading level0 row16\" >16</th>\n",
              "      <td id=\"T_e9e10_row16_col0\" class=\"data row16 col0\" >Experiment Name</td>\n",
              "      <td id=\"T_e9e10_row16_col1\" class=\"data row16 col1\" >cluster-default-name</td>\n",
              "    </tr>\n",
              "    <tr>\n",
              "      <th id=\"T_e9e10_level0_row17\" class=\"row_heading level0 row17\" >17</th>\n",
              "      <td id=\"T_e9e10_row17_col0\" class=\"data row17 col0\" >USI</td>\n",
              "      <td id=\"T_e9e10_row17_col1\" class=\"data row17 col1\" >6b3d</td>\n",
              "    </tr>\n",
              "  </tbody>\n",
              "</table>\n"
            ]
          },
          "metadata": {}
        }
      ]
    },
    {
      "cell_type": "code",
      "source": [
        "#Create a K-Means Clustering Model\n",
        "kmeans = create_model('kmeans', num_clusters=3)\n"
      ],
      "metadata": {
        "colab": {
          "base_uri": "https://localhost:8080/",
          "height": 81,
          "referenced_widgets": [
            "eae978d466c0448e8ca35373567c22e4",
            "c08d2b3886144e3eaf417477036cb89b",
            "4afb4b2a97104bb5a88a42e34c925bee",
            "7cb9e82f0b6e4f2fa258e8278bad68af",
            "69c15b2be9874e7bae402b9b1645e1d4",
            "28ebc8bfaf0c49c18535ab71a9700ca3",
            "d6a0ced2f3f44b3b9042860645af259e",
            "39fc9ff4fae14dec9756809eb337b12b",
            "9db5b27e87254e8a8f4b785c0ce5daca",
            "13bb6758adb349cf9427ea2b1a94e325",
            "b28a5d6b467b4242bafcbaa1032a7cc8"
          ]
        },
        "id": "4Grz6g47RFTh",
        "outputId": "7ac16d6c-6f7c-4918-b865-f0b6d21f5d23"
      },
      "execution_count": 7,
      "outputs": [
        {
          "output_type": "display_data",
          "data": {
            "text/plain": [
              "<IPython.core.display.HTML object>"
            ],
            "text/html": []
          },
          "metadata": {}
        },
        {
          "output_type": "display_data",
          "data": {
            "text/plain": [
              "<pandas.io.formats.style.Styler at 0x7b164ff1e560>"
            ],
            "text/html": [
              "<style type=\"text/css\">\n",
              "</style>\n",
              "<table id=\"T_aaf0e\" class=\"dataframe\">\n",
              "  <thead>\n",
              "    <tr>\n",
              "      <th class=\"blank level0\" >&nbsp;</th>\n",
              "      <th id=\"T_aaf0e_level0_col0\" class=\"col_heading level0 col0\" >Silhouette</th>\n",
              "      <th id=\"T_aaf0e_level0_col1\" class=\"col_heading level0 col1\" >Calinski-Harabasz</th>\n",
              "      <th id=\"T_aaf0e_level0_col2\" class=\"col_heading level0 col2\" >Davies-Bouldin</th>\n",
              "      <th id=\"T_aaf0e_level0_col3\" class=\"col_heading level0 col3\" >Homogeneity</th>\n",
              "      <th id=\"T_aaf0e_level0_col4\" class=\"col_heading level0 col4\" >Rand Index</th>\n",
              "      <th id=\"T_aaf0e_level0_col5\" class=\"col_heading level0 col5\" >Completeness</th>\n",
              "    </tr>\n",
              "  </thead>\n",
              "  <tbody>\n",
              "    <tr>\n",
              "      <th id=\"T_aaf0e_level0_row0\" class=\"row_heading level0 row0\" >0</th>\n",
              "      <td id=\"T_aaf0e_row0_col0\" class=\"data row0 col0\" >0.0869</td>\n",
              "      <td id=\"T_aaf0e_row0_col1\" class=\"data row0 col1\" >60.1621</td>\n",
              "      <td id=\"T_aaf0e_row0_col2\" class=\"data row0 col2\" >3.5537</td>\n",
              "      <td id=\"T_aaf0e_row0_col3\" class=\"data row0 col3\" >0</td>\n",
              "      <td id=\"T_aaf0e_row0_col4\" class=\"data row0 col4\" >0</td>\n",
              "      <td id=\"T_aaf0e_row0_col5\" class=\"data row0 col5\" >0</td>\n",
              "    </tr>\n",
              "  </tbody>\n",
              "</table>\n"
            ]
          },
          "metadata": {}
        },
        {
          "output_type": "display_data",
          "data": {
            "text/plain": [
              "Processing:   0%|          | 0/3 [00:00<?, ?it/s]"
            ],
            "application/vnd.jupyter.widget-view+json": {
              "version_major": 2,
              "version_minor": 0,
              "model_id": "eae978d466c0448e8ca35373567c22e4"
            }
          },
          "metadata": {
            "application/vnd.jupyter.widget-view+json": {
              "colab": {
                "custom_widget_manager": {
                  "url": "https://ssl.gstatic.com/colaboratory-static/widgets/colab-cdn-widget-manager/b3e629b1971e1542/manager.min.js"
                }
              }
            }
          }
        },
        {
          "output_type": "display_data",
          "data": {
            "text/plain": [
              "<IPython.core.display.HTML object>"
            ],
            "text/html": []
          },
          "metadata": {}
        }
      ]
    },
    {
      "cell_type": "code",
      "source": [
        "#Plot the Clusters\n",
        "import matplotlib.pyplot as plt\n",
        "plot_model(kmeans)\n",
        "plt.show()\n",
        "\n"
      ],
      "metadata": {
        "colab": {
          "base_uri": "https://localhost:8080/",
          "height": 617
        },
        "id": "a77t3H7mR3jW",
        "outputId": "f0cff312-6d3e-42d2-a7f0-708b706af0e7"
      },
      "execution_count": 10,
      "outputs": [
        {
          "output_type": "display_data",
          "data": {
            "text/plain": [
              "<IPython.core.display.HTML object>"
            ],
            "text/html": []
          },
          "metadata": {}
        },
        {
          "output_type": "display_data",
          "data": {
            "text/html": [
              "<html>\n",
              "<head><meta charset=\"utf-8\" /></head>\n",
              "<body>\n",
              "    <div>            <script src=\"https://cdnjs.cloudflare.com/ajax/libs/mathjax/2.7.5/MathJax.js?config=TeX-AMS-MML_SVG\"></script><script type=\"text/javascript\">if (window.MathJax && window.MathJax.Hub && window.MathJax.Hub.Config) {window.MathJax.Hub.Config({SVG: {font: \"STIX-Web\"}});}</script>                <script type=\"text/javascript\">window.PlotlyConfig = {MathJaxConfig: 'local'};</script>\n",
              "        <script charset=\"utf-8\" src=\"https://cdn.plot.ly/plotly-2.24.1.min.js\"></script>                <div id=\"f336e92b-e217-495f-a20b-f14e6ec512f7\" class=\"plotly-graph-div\" style=\"height:600px; width:100%;\"></div>            <script type=\"text/javascript\">                                    window.PLOTLYENV=window.PLOTLYENV || {};                                    if (document.getElementById(\"f336e92b-e217-495f-a20b-f14e6ec512f7\")) {                    Plotly.newPlot(                        \"f336e92b-e217-495f-a20b-f14e6ec512f7\",                        [{\"customdata\":[[513],[528],[527],[526],[525],[524],[523],[522],[521],[520],[519],[518],[517],[516],[515],[514],[512],[511],[510],[509],[529],[508],[553],[555],[574],[573],[572],[571],[570],[569],[568],[567],[566],[565],[564],[563],[562],[561],[560],[559],[558],[557],[556],[554],[507],[506],[504],[479],[478],[477],[476],[475],[474],[473],[472],[471],[470],[469],[468],[467],[466],[465],[464],[463],[462],[461],[480],[481],[482],[483],[503],[502],[501],[500],[499],[498],[497],[496],[495],[575],[494],[492],[491],[490],[489],[488],[487],[486],[485],[484],[493],[576],[505],[578],[1220],[1221],[1222],[1223],[1224],[1225],[1226],[1227],[1228],[1229],[1230],[1231],[1232],[1233],[1234],[1235],[1236],[1237],[1238],[715],[1239],[716],[718],[577],[736],[735],[734],[733],[732],[731],[730],[729],[728],[727],[726],[725],[724],[723],[722],[721],[720],[719],[717],[1240],[714],[591],[599],[598],[596],[595],[594],[593],[592],[590],[589],[600],[588],[586],[585],[584],[583],[582],[581],[580],[1241],[579],[587],[601],[597],[602],[1242],[621],[620],[619],[618],[617],[616],[614],[613],[612],[615],[610],[603],[611],[605],[606],[604],[608],[609],[607]],\"hovertemplate\":\"Cluster=Cluster 0\\u003cbr\\u003ePCA1=%{x}\\u003cbr\\u003ePCA2=%{y}\\u003cbr\\u003eFeature=%{customdata[0]}\\u003cextra\\u003e\\u003c\\u002fextra\\u003e\",\"legendgroup\":\"Cluster 0\",\"marker\":{\"color\":\"#636efa\",\"opacity\":0.5,\"symbol\":\"circle\"},\"mode\":\"markers\",\"name\":\"Cluster 0\",\"showlegend\":true,\"x\":[-0.2697690865316699,0.03248975626029613,-0.00315185571087454,-0.05745689282719202,-0.10476317610104459,-0.11964476991446006,-0.05837475735742391,-0.0646292810345056,-0.08692386034221136,-0.10408733639110263,-0.11513849511742995,-0.1523176541880058,-0.1691838806748696,-0.1959119272798264,-0.21985854293162857,-0.24845023786787804,-0.2870678702726313,-0.29893781434078126,-0.30125457216899587,-0.30097185880088606,0.07685358408706229,-0.2955073607449843,-0.36737155212130596,-0.37565105538728444,-0.308576494563723,-0.3058488641480957,-0.29121680445812087,-0.2882178861365758,-0.2983558612469384,-0.31446535719900925,-0.31813024225541414,-0.31415511770834476,-0.30295010363205027,-0.2923553097280038,-0.3294587068470094,-0.3111115086172436,-0.3251430952127033,-0.30782371638287065,-0.32504551696131634,-0.3339487686691151,-0.34658702232518,-0.3603513094323413,-0.36841702767711276,-0.36784326158171515,-0.29653501009228433,-0.26557238267346245,-0.3077250937262208,-0.4783948845272089,-0.4062185805939893,-0.4302212105034244,-0.4473802297717509,-0.45694160805031586,-0.46852368702827907,-0.47392124495763094,-0.4653215850080754,-0.4717734576035845,-0.4871761231060554,-0.4852434686098564,-0.49253022564244325,-0.5066258063500714,-0.5175593177592204,-0.5273089864690643,-0.5345486549216146,-0.5401774962805702,-0.5451712100802718,-0.5509450419538768,-0.47510718836928145,-0.475918485461261,-0.46709752370914154,-0.45033320990241277,-0.2907428475248244,-0.29148832809289854,-0.29840806488920185,-0.3093903423572291,-0.30795978017178716,-0.2740679567588706,-0.2803597998390601,-0.2840320400953073,-0.2941511627488918,-0.3012607052643256,-0.32730382552344445,-0.3258236301198034,-0.3567510266491942,-0.3736553917950629,-0.3873473479396678,-0.4041484530979263,-0.42062721457528257,-0.43216781118961106,-0.4366677893876329,-0.4395755303974893,-0.3489595427699865,-0.28445789977554264,-0.2908029330580165,-0.2755212799493819,2.6424273934901126,2.6504686707423346,2.6712976054362976,2.6833987715540295,2.712094167514917,2.7477447449191903,2.801191280652074,2.8369104705612296,2.8892879233728195,2.8598694739559787,2.920737505433299,2.9626919538725187,3.006285881040598,3.055100978973288,3.102364217659556,3.0449219569338584,2.9819352556257086,2.965085755345317,3.006309530690646,0.34709443739546686,3.052840995339146,0.3452270658318531,0.4494703862277055,-0.2809299929057583,0.6220554714517363,0.6291632019441651,0.5630300734461376,0.5993303479820913,0.6082848822041583,0.5875272935244382,0.5395233984729444,0.5542529978551314,0.5777761909694834,0.5898282033837157,0.6126002672153941,0.6278663260788673,0.5930829814155298,0.5220881687935006,0.5084364565088131,0.5184880191728118,0.49278881561259086,0.4781237594840355,0.40089185394910876,3.025744429463715,0.35667911235089506,-0.1883380119754653,-0.29094964364910864,-0.14910687881029194,-0.1650411236280078,-0.16213228960506795,-0.16631669614241915,-0.1760993838681852,-0.18446672701567107,-0.1845623662809455,-0.19016842117071786,-0.2877366511533302,-0.19996159341563763,-0.21057894910708425,-0.21329117489726615,-0.21569859832511187,-0.23013735638882987,-0.24161697020965897,-0.24996671474671567,-0.25498615233414057,3.038299868002021,-0.2641434201863452,-0.20048945944278887,-0.28415425852878345,-0.14537594371289148,-0.27806778275755484,3.07256866065347,-0.210623854528135,-0.2133857884343473,-0.21937841711704237,-0.22264392478690465,-0.22481659601454565,-0.22799940669801344,-0.23074505785890848,-0.23003237174642438,-0.23402590776738103,-0.22907316124475705,-0.2399876203339583,-0.27243257095629636,-0.23785350854288256,-0.26445671369136237,-0.25818123598191844,-0.2688407974438369,-0.24913408756908928,-0.2442374509125013,-0.25081256823111137],\"xaxis\":\"x\",\"y\":[4.293536134833375,7.0266890392859604,6.706979875267698,6.230023985466131,5.812930141442812,5.674068583809151,6.1889090276228975,6.123889203461577,5.921020142250047,5.762412724480561,5.656992131669088,5.328527181556682,5.175992270992437,4.940341621932464,4.729842791690636,4.480319742713884,4.141311326119213,4.035702944411306,4.012225938712109,4.011126240211947,7.421850588234482,4.054635166243497,1.2720751516942437,1.1790108177760472,1.5429635214031305,1.5783269881406035,1.7148229730996467,1.7514067551654466,1.6752509617269273,1.5479588192023337,1.5277109114093559,1.5732488435485004,1.6809917732838915,1.7835145595516135,1.4763936999832852,1.645248030775054,1.5359362941414452,1.6956984527446883,1.5588041515764302,1.4933100299712951,1.395742436962999,1.2884969570508207,1.2301788826055229,1.257022022619565,4.042474147980429,3.803318972445434,3.445810936408071,2.297265773686848,2.9176457755234897,2.712429941504715,2.5662424220644393,2.485504755796096,2.387685890744997,2.343309808189833,2.4195763362212426,2.3670707328004057,2.2381838667483835,2.2584888741477944,2.1997953681670896,2.0825578226802346,1.9922598120602775,1.9118747010956232,1.8529465148159088,1.8079521571227073,1.7687565307182298,1.7233456542157615,2.3251175494243785,2.31803482152111,2.3926504074119546,2.535705283932483,3.5942079385165866,3.590134517075855,3.532969332894877,3.440999626336464,3.4558319097355197,3.749608307630837,3.698628933143183,3.670484975972174,3.5874270824522427,1.5938372069437896,3.307039067510868,3.3296893098161995,3.069797272961318,2.9307236283484186,2.8196297859170363,2.6821997855743556,2.547833081524532,2.4560028446436597,2.4246256222413565,2.4068251998602275,3.1258367715146775,2.072464010013211,3.5888025516524396,2.132976378494726,3.7594920782709784,3.852182340138162,4.055658379501285,4.185321487578199,4.458678400210453,4.793257011691297,5.28205485804889,5.6201286135533355,6.102661069830623,5.8844547286815745,6.442865747915596,6.840306214555945,7.253176456301251,7.712382226833179,8.159440759893211,7.708585817017896,7.211111750154843,7.110992153753521,7.510473521899745,2.5809119779065295,7.956548952419007,2.5597627731922077,3.4441524993801242,2.094676357390048,4.863687181961757,4.929223810086406,4.365962646288718,4.680848558045494,4.760732680829754,4.585284994374829,4.175652332017926,4.304470461905069,4.508573319257463,4.614107625682732,4.811837859049512,4.945536368814074,4.649991357491793,4.0440367415798555,3.930909736789137,4.021720642968627,3.8058446385789244,3.6849522216102426,3.032405633573902,7.771351683829049,2.668028180699256,2.7854841606536653,1.2104568062700896,3.07645864425671,2.951885196813006,2.9837324225202764,2.9546146461233813,2.877356359809818,2.8121574583087847,2.8243820578456247,2.782709417650381,1.2271171031904178,2.7051728371796653,2.627807404953598,2.611815780928629,2.5986741566518043,2.4824315306128693,2.3917308598474905,2.3280125741572695,2.2929819698575327,7.930142249518976,2.2225039807259566,2.7074113646142925,1.246846785524858,3.114576801239671,1.2880108927881087,8.277052161244814,1.664109902197131,1.6508223499954513,1.6098118195555833,1.592280149538966,1.5840842908674255,1.5672148456504724,1.5647222218551615,1.5814996347767967,1.5579301168464066,1.5684976095119922,1.5282376920549292,1.3252972839380661,1.5358136049614082,1.371808382295203,1.4148660278865273,1.3451012756996894,1.4711175655805173,1.5024679821883524,1.4673969014830324],\"yaxis\":\"y\",\"type\":\"scattergl\",\"textposition\":\"top center\"},{\"customdata\":[[367],[375],[368],[369],[370],[371],[372],[373],[374],[376],[329],[378],[379],[380],[381],[382],[383],[384],[366],[385],[377],[365],[330],[363],[386],[331],[332],[333],[334],[335],[336],[337],[338],[364],[339],[341],[342],[343],[344],[345],[359],[360],[361],[362],[340],[387],[452],[389],[426],[427],[428],[429],[430],[431],[432],[433],[434],[425],[435],[437],[446],[447],[448],[449],[450],[451],[453],[328],[436],[424],[423],[422],[390],[391],[392],[393],[394],[395],[396],[397],[398],[399],[400],[401],[402],[403],[415],[416],[417],[418],[419],[420],[421],[388],[327],[1],[325],[102],[101],[100],[99],[98],[97],[96],[95],[94],[93],[92],[91],[90],[89],[88],[87],[86],[72],[73],[74],[75],[76],[77],[103],[78],[80],[81],[82],[83],[84],[85],[79],[71],[104],[106],[137],[136],[135],[134],[133],[132],[131],[130],[129],[128],[127],[126],[125],[124],[123],[122],[121],[107],[108],[109],[110],[111],[112],[105],[113],[115],[116],[117],[118],[119],[120],[114],[138],[70],[67],[32],[31],[30],[29],[28],[27],[26],[25],[24],[23],[22],[21],[20],[19],[18],[17],[16],[2],[3],[4],[5],[6],[7],[33],[8],[10],[11],[12],[13],[14],[15],[9],[69],[34],[36],[66],[65],[64],[63],[62],[61],[60],[59],[58],[57],[56],[55],[54],[53],[52],[51],[50],[37],[38],[39],[40],[41],[42],[35],[43],[45],[46],[47],[326],[48],[49],[44],[139],[68],[141],[313],[314],[315],[316],[317],[318],[319],[320],[321],[322],[323],[254],[253],[252],[251],[250],[249],[324],[235],[236],[238],[239],[240],[312],[241],[243],[244],[245],[246],[247],[248],[242],[311],[310],[309],[267],[266],[265],[264],[263],[262],[268],[261],[259],[258],[257],[256],[140],[255],[260],[234],[269],[271],[308],[307],[306],[305],[304],[303],[270],[302],[300],[276],[275],[274],[273],[272],[301],[233],[237],[231],[172],[171],[232],[169],[168],[167],[166],[165],[164],[163],[162],[161],[160],[159],[158],[157],[156],[142],[143],[144],[145],[146],[147],[173],[148],[150],[151],[152],[153],[154],[155],[149],[174],[170],[176],[194],[195],[175],[197],[198],[199],[193],[200],[202],[203],[204],[205],[206],[207],[201],[192],[196],[190],[177],[178],[179],[191],[181],[182],[183],[180],[189],[185],[186],[187],[184],[188]],\"hovertemplate\":\"Cluster=Cluster 1\\u003cbr\\u003ePCA1=%{x}\\u003cbr\\u003ePCA2=%{y}\\u003cbr\\u003eFeature=%{customdata[0]}\\u003cextra\\u003e\\u003c\\u002fextra\\u003e\",\"legendgroup\":\"Cluster 1\",\"marker\":{\"color\":\"#EF553B\",\"opacity\":0.5,\"symbol\":\"circle\"},\"mode\":\"markers\",\"name\":\"Cluster 1\",\"showlegend\":true,\"x\":[-2.045682030473204,-2.0176647060920194,-2.0423734346035136,-2.0414046579456735,-2.0380465183399057,-2.03437576598114,-2.0302668543032643,-2.025845459006899,-2.021192456511478,-2.011838465356313,-2.1683086539545933,-1.9994584607349515,-1.9937585750652358,-1.9882517819068357,-1.980893969011326,-1.9727007823170413,-1.9658326434700548,-1.9642605294269937,-2.0491767915859644,-1.958804254223304,-2.003726164916719,-2.052444222332148,-2.165609942326551,-2.0590144919859314,-1.952462226027311,-2.1629838770691756,-2.160381752650907,-2.157578638056433,-2.1548169093558114,-2.152091292249785,-2.1492072629746644,-2.146456751503968,-2.143751808352234,-2.055881870745107,-2.1409975605203275,-2.1354939112804496,-2.1327476536950507,-2.1304033916016265,-2.127621554145657,-2.124685893262771,-2.0714931470029034,-2.0682381839793553,-2.0650827242919396,-2.062005242927141,-2.1382407777653656,-1.9459213476789863,-1.8866290764965505,-1.9315247770350734,-1.858242491878673,-1.8452609554754202,-1.8376679585878053,-1.8272322129589673,-1.81598757845733,-1.8041620284426176,-1.794046115025956,-1.7877709176833494,-1.7743938286146723,-1.8639381352988103,-1.7609226608192414,-1.7373116726169613,-1.9034786903036043,-1.902360338306293,-1.8975973683316631,-1.894458867589609,-1.8938867787313842,-1.8860004512188018,-1.885344472191401,-2.1710909921947845,-1.753754766493226,-1.8660768541249186,-1.8742698204350794,-1.8839613192123261,-1.9241866573991921,-1.9164527373059008,-2.0442191253172703,-2.0414418640598715,-2.0387031894016774,-2.0358265425344784,-2.0328705531699702,-2.030111453570749,-2.0272648317456023,-2.0244311043901697,-2.0216393563103643,-2.018532704575357,-2.016006842754862,-2.0129095776720516,-1.9200902114745844,-1.9162834018936419,-1.9127349776954552,-1.9082656220532193,-1.9032036720589405,-1.8975248829729383,-1.8913537926072521,-1.9391280747998731,-2.1738590842182743,-2.7882851731940606,-2.179380921954515,-2.5933376420073446,-2.6001857102879344,-2.602273602155914,-2.6049096648495644,-2.6074095391709617,-2.6100996129182463,-2.6128806606888637,-2.6151230538169585,-2.617508524775764,-2.620307250712167,-2.582507246041194,-2.5914568074680746,-2.5976076860531494,-2.5965825316559283,-2.597251247556561,-2.6005800339034915,-2.6073738204848693,-2.6612659762996413,-2.6578514144412124,-2.653959351257169,-2.6494475987801556,-2.643136358157723,-2.6392391286993155,-2.588702700831683,-2.633355403160922,-2.625699457899394,-2.6202879398324104,-2.6157531479808553,-2.610824670432965,-2.6085450899418428,-2.610128932371109,-2.632446789849987,-2.664206462561242,-2.584297924380269,-2.5747750542407983,-2.393468340390571,-2.403999545781966,-2.4076095560798643,-2.4173305615065908,-2.428590622027807,-2.4375704589439677,-2.4445934308531436,-2.4494035849017455,-2.457916239255182,-2.465387661950945,-2.4761433543449143,-2.480642427936775,-2.4863658389342738,-2.494706839816182,-2.501082148691949,-2.5091413991529525,-2.517920870431143,-2.5716227468955815,-2.568423703690578,-2.565139470835665,-2.564610998026009,-2.548952209297046,-2.5556792404113833,-2.579140677645482,-2.5531041729345847,-2.547962214814847,-2.538783199543916,-2.535353584013928,-2.5320059037990217,-2.52740993348588,-2.523237650985763,-2.5448972611932072,-2.3870445517514036,-2.667451516826412,-2.6734569028642703,-2.746986667627997,-2.7500370611857057,-2.7529477006990413,-2.7559090507748967,-2.7588999407458914,-2.761827090437119,-2.764608885247817,-2.767365424521985,-2.770147292237679,-2.683963583338935,-2.6914600728843974,-2.697267522283065,-2.702594235434232,-2.708075719247889,-2.713365783809121,-2.718119250017708,-2.7191515665709223,-2.785437640773939,-2.7822939205877293,-2.7785347669279967,-2.774319429070469,-2.770113645548789,-2.7663299554490544,-2.7439974887660643,-2.7616120105955173,-2.7448597485844353,-2.740378885257899,-2.7361469614945486,-2.7332637033313016,-2.728667670634946,-2.7224164032634715,-2.7564029133819776,-2.667779820978962,-2.7409416239437077,-2.734975836847201,-2.676238306944882,-2.6790842673251714,-2.6819113467714892,-2.684743746999651,-2.6875939834356903,-2.6904668994960104,-2.6933104545641955,-2.6965545335105774,-2.6993528630447328,-2.7021475305232325,-2.7049175680105773,-2.7076643344779714,-2.710489307567369,-2.7132585157290134,-2.7160133725753317,-2.7187547325374157,-2.7214975129800436,-2.7320128870588296,-2.728940081556522,-2.725749432949452,-2.7232165786275506,-2.7202591338975957,-2.7174009908374246,-2.737918895145572,-2.714564676344245,-2.7085718348450523,-2.705404953523862,-2.7296828177814447,-2.1766716853388064,-2.7269552668368395,-2.7242307223542475,-2.711598286285038,-2.5493133408561355,-2.6705996658041915,-2.5438365776676988,-2.1789339734416764,-2.175752232767368,-2.1726520632224027,-2.1696628946529044,-2.1663508775141675,-2.163167594674719,-2.15972764202914,-2.1569715161624057,-2.153407281631152,-2.1487733607556674,-2.1848536645054084,-2.2964557708277638,-2.280453750203813,-2.283937724289809,-2.2873989275805684,-2.2911861733064303,-2.2950538870543142,-2.1821453511891966,-2.3399659923281626,-2.336879097072482,-2.330195505729053,-2.3262732051147745,-2.322361173691072,-2.1819147496456575,-2.318556603785793,-2.31371114094246,-2.311328206366087,-2.307769933170088,-2.304480428604761,-2.3025270234152555,-2.2987547818577476,-2.3144345828964146,-2.1853612213635634,-2.1888004697370986,-2.1920008282545016,-2.248059423481162,-2.2516447717606507,-2.2562593502965846,-2.261876377226862,-2.2643162585193686,-2.266877078952269,-2.244368325452203,-2.271557892868483,-2.2791242337326882,-2.282870853718111,-2.2869346305347613,-2.2904447275983033,-2.546582742622468,-2.2936686804151467,-2.275590073836011,-2.3431400183661943,-2.2426025676416286,-2.2383976976726205,-2.1952340882397925,-2.1989351665426087,-2.202344652885761,-2.205450998064589,-2.20866693396441,-2.2116267838335477,-2.2425615074793837,-2.2145565825388696,-2.2202361934852965,-2.2187848306032545,-2.2236098904100854,-2.2280685285865287,-2.2303267311829265,-2.233950621683118,-2.217401143715924,-2.3456836302099795,-2.3335960265558233,-2.353395403707665,-2.46558154193591,-2.4689633299113316,-2.350555790814791,-2.4751307508918092,-2.4787044500892645,-2.4818279757083723,-2.4844634700810326,-2.487759566612949,-2.4912210164982596,-2.4941037525486727,-2.496772108946765,-2.4889760705411073,-2.491648467686113,-2.494417119834992,-2.497152722341283,-2.499869823893741,-2.502668297168927,-2.5410334368873597,-2.5382565994968957,-2.5355312071133818,-2.5327866569689106,-2.5300010796857326,-2.5271976604486106,-2.4617044608692824,-2.524494925760489,-2.518981532729483,-2.5162757009938415,-2.5134862397141657,-2.5107485408601558,-2.508178782115565,-2.5054304848159643,-2.521781921427289,-2.4588849245991096,-2.4710003309036956,-2.452390687970124,-2.4057372288456906,-2.402415636435592,-2.455698499051574,-2.39508575098507,-2.3913746620373506,-2.3882337991179043,-2.407911542357717,-2.3860909590737536,-2.378482440471916,-2.3749300186366678,-2.371553836932996,-2.3692524853565216,-2.3649424885676793,-2.3614747348561864,-2.3826025959592863,-2.412642723472424,-2.3981560863030973,-2.4207442925686933,-2.450514540735431,-2.447357063493012,-2.44378689540105,-2.4173132216605855,-2.437820834911054,-2.4374695596398097,-2.4347066822139256,-2.4402919233228557,-2.4243699997832695,-2.4366887159919366,-2.4330748426787947,-2.430149497863422,-2.4309006289274597,-2.426360395065603],\"xaxis\":\"x\",\"y\":[-0.4408634393753979,0.19077947657175978,-0.4200279563910163,-0.009762756428255935,0.016991507652570854,0.04718198799853573,0.08180874143643231,0.11964075925474739,0.15988602843356298,0.2417696857432231,-1.1026829330270564,0.3513633272371684,0.40278568911340684,0.45317115023325366,0.5200474758255295,0.5947385144986471,0.658597678311751,0.6775160700641893,-0.46319569286765183,0.7302774952827313,0.31280066772327614,-0.484401731615837,-1.0914768728484516,-0.5265891766062544,0.791210694546957,-1.0808975197136952,-1.070524973794476,-1.05842595519473,-1.046680716632264,-1.0352441678359003,-1.0224463568375772,-1.0107944771440875,-0.9995339942856016,-0.506895315369536,-0.9878506819858178,-0.9645266333873239,-0.9529129260970004,-0.944751378037251,-0.9328317027459098,-0.9195911750728771,-0.6032101670231531,-0.5831299476440986,-0.5637566803038333,-0.544893458360335,-0.9761459284441654,0.8543277502627019,-0.6341556206443603,0.9932002602198671,1.5834393141685266,1.71238857499895,1.7960724560235575,1.904827033885287,2.0210039300827414,2.1424695272757646,2.2496644553879905,2.3241645578770593,2.4599801163054327,1.518057789950014,2.5969074665722855,2.843152320182547,-0.7293515146332885,-0.7269215895664635,-0.6935280400356846,-0.6745643843663751,-0.6781235356097479,-0.6193398673807807,-0.6330108168355381,-1.1146111757884367,2.6797881100931584,1.4842747307755877,1.399423841481903,1.3025469776211223,1.0657812920787102,1.1424408693485488,-1.1521385686361931,-1.139467987909111,-1.1268320893423758,-1.11279396261225,-1.0980046862764579,-1.0849784919866858,-1.0713610348040559,-1.058019522364652,-1.045186236610711,-1.0297696790561328,-1.0194321573997045,-1.0042672232130185,0.9103002495470858,0.9531737895894214,0.9943832900152957,1.0440445304957557,1.0992608833129986,1.160293729122417,1.2259494409360407,0.9200809262422311,-1.1264211995475428,-0.3209225891841796,-1.1499239080912094,-0.6083398415420603,-0.6567404940627504,-0.6639917890778121,-0.6756918698023507,-0.6859695653935495,-0.6976425043595301,-0.7099276010640447,-0.717545248987712,-0.7264750243112468,-0.7391184242609452,-0.1925091256020407,-0.26397632822770484,-0.31121783534338043,-0.29641841350942943,-0.2960276377245585,-0.3183661189696981,-0.37038290488925973,-0.7268224173835056,-0.7062043974016373,-0.6814074072154818,-0.6511607408470177,-0.6053320482724126,-0.580092867914669,-0.5786707654183433,-0.5376380176023432,-0.48732076609374986,-0.4481430622542135,-0.4162041259812662,-0.3806147396271816,-0.36759591037254574,-0.3876449885258654,-0.5376748370532862,-0.7433187947785881,-0.5506926969988574,-0.4878077580655639,1.2971713135107117,1.2023789788351602,1.169582253558265,1.0844452610082898,0.986161985903779,0.9074289596026281,0.8454857582632535,0.8024839495042307,0.7277008233716911,0.661925433518269,0.5681545637751841,0.528297613743933,0.4781469741348161,0.40575137090877833,0.350575334138785,0.2812816838310974,0.20619383950962641,-0.4699809113091648,-0.4517955266487773,-0.4330019610796275,-0.43798916264704507,-0.3131422962598362,-0.3805070366947303,-0.5159669160025405,-0.36791474023466697,-0.3400872926730677,0.033587998338234754,0.06122217216599218,0.0883557879172666,0.12645744647489493,0.16121522624199333,-0.3056500197257262,1.3571286423923195,-0.7624106801238455,-0.8659537800415023,-0.8171238997382125,-0.8343425994454072,-0.8502445103736825,-0.8664588049940679,-0.8828116812178237,-0.8984473784009808,-0.9125841166107639,-0.9261658336742497,-0.9395794357027212,0.597700685791367,0.5277312130209455,0.4728196130247458,0.4216192866405988,0.3685364492791194,0.3172282030408301,0.2713066968115396,0.258561228336765,-0.30010425692545534,-0.2762869968007626,-0.24675377120421127,-0.2129551334777196,-0.17892198312623436,-0.14825900624495333,-0.8003228638253588,-0.10927487775420518,0.032567865350372885,0.07064560199925336,0.10698704090654072,0.1321071434988003,0.17247507790840566,0.22782284466962868,-0.06574920615293253,-0.8408525989702824,-0.7828719310259394,-0.7490416708269578,-0.878029974935548,-0.8906629017818033,-0.9031357265668851,-0.9156561976959432,-0.9283311286185865,-0.9412027216162403,-0.953821477869793,-0.9698740635496289,-0.9820890472612162,-0.9942607005450607,-1.006209157596148,-1.0179494501199289,-1.030357640372362,-1.042289502115643,-1.0541024627683815,-1.0658035109493904,-1.0775224150930909,-0.7321961255496965,-0.7143165804585344,-0.6953008804318312,-0.681799520431751,-0.6645070697458069,-0.6479542927732352,-0.7656404155676254,-0.6314951874212728,-0.5953232537420444,-0.5754337795005661,-1.1123977424840885,-1.138616064843108,-1.1007605405023575,-1.089170711238047,-0.6138564250860857,-1.1353602969093133,-0.8532436596637062,-1.1119691888956358,-0.6918730712824086,-0.6734312450702107,-0.6555530312334834,-0.6384722132169445,-0.6184550247586629,-0.5994249548684928,-0.5781168125828234,-0.5626609594507063,-0.5404671647821079,-0.5090029291139936,-1.1729986628826206,-0.5880261420695098,-0.33682500056257536,-0.3616656508499702,-0.3861060330470284,-0.4123645659268114,-0.4391584646557916,-1.1617038499528676,-0.7239090586734578,-0.7057439086363795,-0.6642563026402886,-0.6381844748310558,-0.6120022670669019,-0.7085018339668959,-0.5866020581194812,-0.5591505753449125,-0.5455707453769271,-0.5218110717961097,-0.5002868922634999,-0.4901862758220551,-0.46440036572605325,-0.5583470897537689,-0.729075266116315,-0.749591882349005,-0.7680819296813058,-0.2384408270554892,-0.26522601309043026,-0.30058249775737955,-0.3443349980224318,-0.36058790937696195,-0.3776940367789971,-0.2104667370120734,-0.4128394156739832,-0.46747856446187647,-0.49442598201722815,-0.5239832891357448,-0.5485806707986454,-1.1237316959622479,-0.5703910109156195,-0.44232571072537225,-0.74259439840367,-0.19868956549613792,-0.1682619072522751,-0.7868253179765323,-0.8094169018394571,-0.8292327779146585,-0.8460365232986572,-0.863320381357146,-0.8782277269893002,-0.20137158399382657,-0.8932968808541003,-0.9252040100395242,-0.009661989003658321,-0.04938769538138816,-0.0856877987018351,-0.10329152346357705,-0.13239021437148207,-0.9086028755971914,-0.7557551245728521,-0.6856318257644763,-0.8046518483318577,-0.9129662540439086,-0.9300795982245674,-0.7888905261678045,-0.959210044079286,-0.97798972897302,-0.9929071600979694,-1.0036377158282106,-1.0200451604931327,-1.0378795671380827,-1.05075401324115,-1.0617976180589357,-0.8764651783296927,-0.8876837734778681,-0.8997230342194664,-0.9114534099798902,-0.9230236529403133,-0.9352909883465703,-1.099716314719947,-1.0876870082984682,-1.0760951402187766,-1.0643344498239258,-1.0522168324857737,-1.0399416213407866,-0.8916094793934648,-1.0285256316208808,-1.0047527441222126,-0.9932959444774578,-0.9811160905293328,-0.9693775484729898,-0.9590786934459019,-0.9472454840557408,-1.0170168352790308,-0.879342205363251,-0.9356543003043339,-0.8474810841172572,-0.43333379644821357,-0.4100892744572335,-0.8639312483171405,-0.35736835361390884,-0.33040949381132906,-0.3082058157267785,-0.44662281309413104,-0.2944000806495106,-0.2377049063024201,-0.211244350775832,-0.18611820439287824,-0.17005913797508826,-0.13619571667686176,-0.10931813808162649,-0.26886810626518437,-0.4817358199026028,-0.37867686287801317,-0.5399571334385028,-0.8433229808670955,-0.828159855894179,-0.8094500927227634,-0.5162242083429326,-0.7821111434825225,-0.7910429330878559,-0.7792350900887313,-0.7913844410780726,-0.5652554832759872,-0.6465157466761636,-0.621778705585501,-0.6028459591353161,-0.758469856542158,-0.5763813092575524],\"yaxis\":\"y\",\"type\":\"scattergl\",\"textposition\":\"top center\"},{\"customdata\":[[1045],[1053],[1052],[1051],[1050],[1048],[1047],[1054],[1044],[1046],[1049],[1055],[1099],[1057],[1088],[1089],[1090],[1091],[1092],[1093],[1094],[1095],[1096],[1097],[1098],[1043],[1087],[1100],[1102],[1103],[1104],[1128],[1129],[1130],[1131],[1132],[1133],[1134],[1135],[1136],[1101],[1056],[1086],[1084],[1058],[1059],[1060],[1061],[1062],[1063],[1064],[1065],[1066],[1067],[1068],[1069],[1085],[1070],[1072],[1073],[1074],[1075],[1076],[1077],[1078],[1079],[1080],[1081],[1082],[1083],[1071],[1042],[1019],[1040],[987],[988],[989],[990],[991],[992],[986],[993],[995],[996],[997],[998],[999],[1000],[994],[985],[984],[983],[969],[1137],[970],[971],[972],[973],[974],[975],[976],[977],[978],[979],[980],[981],[982],[1001],[1002],[1003],[1004],[1025],[1026],[1027],[1028],[1029],[1030],[1031],[1032],[1033],[1034],[1035],[1036],[1037],[1038],[1039],[1024],[1041],[1023],[1021],[1005],[1006],[1007],[1008],[1009],[1010],[1011],[1012],[1013],[1014],[1015],[1016],[1017],[1018],[1020],[1022],[1138],[1278],[1140],[1282],[1283],[1284],[1285],[1286],[1287],[1281],[1288],[1290],[1291],[1292],[1293],[1294],[1295],[1289],[1280],[1279],[1277],[1216],[1217],[1218],[1219],[1266],[1267],[1268],[1269],[1270],[1271],[1272],[1273],[1274],[1275],[1276],[1296],[1297],[1298],[1299],[1319],[1320],[1321],[1322],[1323],[1324],[1325],[1326],[1327],[1328],[1329],[1330],[1331],[1332],[968],[1318],[1215],[1317],[1315],[1300],[1301],[1302],[1303],[1304],[1305],[1306],[1307],[1308],[1309],[1310],[1311],[1312],[1313],[1314],[1316],[1139],[1214],[1212],[1160],[1161],[1162],[1163],[1164],[1165],[1159],[1166],[1168],[1169],[1170],[1171],[1172],[1173],[1167],[1158],[1157],[1156],[1141],[1142],[1143],[1144],[1145],[1146],[1147],[1148],[1149],[1150],[1151],[1152],[1153],[1154],[1155],[1174],[1175],[1176],[1177],[1197],[1198],[1199],[1200],[1201],[1202],[1203],[1204],[1205],[1206],[1207],[1208],[1209],[1210],[1211],[1196],[1213],[1195],[1193],[1178],[1179],[1180],[1181],[1182],[1183],[1184],[1185],[1186],[1187],[1188],[1189],[1190],[1191],[1192],[1194],[967],[698],[965],[746],[747],[748],[749],[750],[751],[752],[745],[753],[755],[756],[757],[758],[759],[760],[761],[754],[762],[744],[742],[703],[704],[705],[706],[707],[708],[709],[743],[710],[712],[713],[737],[738],[739],[740],[741],[711],[702],[763],[765],[786],[787],[788],[789],[790],[791],[792],[785],[793],[795],[796],[797],[798],[799],[800],[801],[794],[764],[784],[782],[766],[767],[768],[769],[770],[771],[772],[783],[773],[775],[776],[777],[778],[779],[780],[781],[774],[701],[700],[699],[642],[643],[644],[645],[646],[647],[648],[641],[649],[651],[652],[653],[654],[655],[656],[657],[650],[658],[640],[638],[622],[623],[624],[625],[626],[627],[628],[639],[629],[631],[632],[633],[634],[635],[636],[637],[630],[659],[660],[661],[683],[684],[685],[686],[687],[688],[689],[682],[690],[692],[693],[694],[695],[696],[697],[1333],[691],[681],[680],[679],[662],[663],[664],[665],[666],[667],[668],[669],[670],[671],[672],[673],[674],[675],[676],[677],[678],[802],[803],[804],[805],[908],[909],[910],[911],[912],[913],[914],[907],[915],[917],[918],[919],[920],[921],[922],[923],[916],[924],[906],[904],[888],[889],[890],[891],[892],[893],[894],[905],[895],[897],[898],[899],[900],[901],[902],[903],[896],[925],[926],[927],[949],[950],[951],[952],[953],[954],[955],[948],[956],[958],[959],[960],[961],[962],[963],[964],[957],[947],[946],[945],[928],[929],[930],[931],[932],[933],[934],[935],[936],[937],[938],[939],[940],[941],[942],[943],[944],[887],[966],[886],[884],[826],[827],[828],[829],[830],[831],[832],[825],[833],[835],[836],[837],[838],[839],[840],[841],[834],[842],[824],[822],[806],[807],[808],[809],[810],[811],[812],[823],[813],[815],[816],[817],[818],[819],[820],[821],[814],[843],[844],[845],[868],[869],[870],[871],[872],[873],[874],[867],[875],[877],[878],[879],[880],[881],[882],[883],[876],[866],[865],[864],[846],[847],[848],[849],[850],[851],[853],[854],[855],[856],[857],[858],[859],[860],[861],[862],[863],[885],[1334]],\"hovertemplate\":\"Cluster=Cluster 2\\u003cbr\\u003ePCA1=%{x}\\u003cbr\\u003ePCA2=%{y}\\u003cbr\\u003eFeature=%{customdata[0]}\\u003cextra\\u003e\\u003c\\u002fextra\\u003e\",\"legendgroup\":\"Cluster 2\",\"marker\":{\"color\":\"#00cc96\",\"opacity\":0.5,\"symbol\":\"circle\"},\"mode\":\"markers\",\"name\":\"Cluster 2\",\"showlegend\":true,\"x\":[2.0451922849149886,2.0707952145190247,2.0665689437961596,2.063850015501342,2.0609791166878546,2.054409277796204,2.0509131636128397,2.0748808926246403,2.0425521020114816,2.048131713899546,2.057820838112035,2.0790160997875646,2.143460380725254,2.0868845159287326,2.1130152749613056,2.1161402233884625,2.119085285204993,2.1217070499266324,2.1243906168429683,2.1272677106157882,2.129869264022798,2.132664258361798,2.135379641428766,2.137858649120331,2.140641310824048,2.0391964712902375,2.1102052752809284,2.1463269788511745,2.151483955693007,2.154354676743219,2.157232889320032,2.190913265011894,2.1937136570511826,2.1964827139201186,2.199081372944836,2.2019306015880566,2.204713598171044,2.2076032773458385,2.2105726585552192,2.213628759690716,2.1490798651736354,2.0824961205013985,2.1074633061632353,2.101816336150105,2.0937745819504667,2.051219184982587,2.0539519460474778,2.0566884485387527,2.059452540055417,2.0622135259145815,2.0649755971183676,2.0676999097451447,2.070501818265993,2.0733561710808197,2.076049331490614,2.078788187091083,2.104671310891684,2.081706371056006,2.0871166016581553,2.0898504272246337,2.092572668241076,2.0954016756338687,2.0982623260272892,2.1011102586495007,2.1037884419189186,2.1065111029549435,2.1094001791223027,2.1121258922297454,2.096341615869214,2.0990660495329343,2.0843462014306047,2.0347784492145977,2.022915171104932,2.0287072485342508,1.9552723309353515,1.9597238563308208,1.962127244481322,1.9162497884891017,1.918901507864917,1.9215436526966785,1.9508755968458493,1.9242006873422857,1.9300767854799548,1.932826408606704,1.9357306870418143,1.9386791865092008,1.9413235168251735,1.9441274699780249,1.9272969290901496,1.9476220985112396,1.9432170733846752,1.9392129161532543,1.890607357726833,2.216448074806985,1.8943822884234434,1.8978492160608302,1.9013128501110543,1.9045578404941323,1.9083366876152117,1.912703101113147,1.9156635114131555,1.9191423300576678,1.9236447893099855,1.9269998861933397,1.930674888680769,1.9340585219196587,1.935427146098254,1.9467569020090432,1.9494950612618376,1.9521997674342233,1.9548227282695183,2.0570135359071635,2.076768833762623,2.073598351247455,2.0724957124454275,2.080799550827585,2.087157983982508,2.0955742682159846,2.0994585815023448,2.103861140644971,2.1140515311357193,2.1122973007643973,2.017002226062816,2.019680897668002,2.0225765797537134,2.0257604534554035,2.052458760530316,2.0309717387254227,2.04387181794936,2.035036530451013,1.9576750431614611,1.9604953837303365,1.9632500009116007,1.9661180884729443,1.9689693209246741,1.9717094524632095,1.9746311500541436,1.9775608098677069,1.9926071603069004,1.9958415620712797,1.999484603552475,2.0036118017348112,2.0075793253294436,2.0120349118940877,2.029005886525626,2.0360522219638817,2.2194103582192373,2.521671193275634,2.225575988845873,2.5344599290570793,2.538922423344298,2.543517352463838,2.546697028966582,2.5505301903506234,2.555883850403136,2.5305396598656134,2.5589819298262384,2.513964551437838,2.5169022733212896,2.5198374857608745,2.522722141073595,2.5257058311147937,2.528704554546655,2.5108377431665296,2.5291730418797282,2.5255656431108995,2.518877865628163,2.4042484208346173,2.4081045533400878,2.4122651677578775,2.41480827494583,2.4781689216681873,2.4813900492932435,2.4846194586321313,2.48883358832809,2.492701728148663,2.496285582412992,2.499687563571374,2.504342084600377,2.509440313949399,2.5117823414902287,2.5146611093986633,2.531711218369489,2.5347532164759197,2.537511845798528,2.540418840978896,2.5786949098107184,2.5821856741417264,2.585042141644224,2.5878950790531605,2.59116354622093,2.593968425091253,2.597246653858416,2.6003210002799513,2.602714946138102,2.6057959791924796,2.6088888881016534,2.612191868737478,2.6149769219035948,2.6180991390275903,1.8873714909386232,2.5755759772939935,2.400965487922938,2.572714654780347,2.5669764465564984,2.543479355943957,2.5469312074455073,2.5505967687330946,2.55346050398191,2.555660507251362,2.5581511100928425,2.5608339802503313,2.563912418712054,2.566701956512501,2.5694879814659894,2.57243576785839,2.575025391120756,2.5579751815927554,2.5607490450368964,2.5637660893786642,2.5699085096199004,2.222498461418988,2.396524062890559,2.3890400774907516,2.26345868924317,2.2669262142685804,2.270567436311925,2.2733025273290157,2.2764512854771533,2.2787296722344093,2.2610825224176234,2.281168071323317,2.287198350932581,2.2904914465637676,2.293722882758749,2.296759006914652,2.3007593864906286,2.303822811490814,2.2841169206694327,2.257660927478025,2.2545769281855526,2.251063109433633,2.228643581999124,2.2314478497340726,2.234215703074694,2.237116095501072,2.239878735858419,2.24267273474965,2.2453628458373327,2.247917189077816,2.25105714892191,2.254216886382807,2.2364346687362726,2.239151349064436,2.2419199634785874,2.244878913197786,2.24786853198438,2.2947509665139556,2.298028647655316,2.301266294847808,2.30479947155541,2.337802191241679,2.3409037875361607,2.3441138581273604,2.347550756668869,2.3508085052213903,2.35427757488348,2.35756482441993,2.3613310231728892,2.365568043195769,2.368649701471307,2.372091444201789,2.375877724231553,2.3794733391106067,2.383198623567151,2.386815609442128,2.3725160759834423,2.3927462452468995,2.3698325054986706,2.3621705279555445,2.308293358699993,2.3118408355121653,2.3152956234580935,2.319221277650748,2.32349074929437,2.3267685564427607,2.3300969790683985,2.3348569164204225,2.33740062232666,2.340995363743724,2.3448445715226134,2.3468580179503795,2.350573428649513,2.354626176552952,2.3589729187062853,2.365356885963627,1.8843048183192688,0.0705092342806979,1.9063474883969374,0.5387917273994295,0.5508032637749001,0.5754909386591992,0.5907584087132065,0.6004941981732684,0.6067073710457984,0.5711972814357885,0.5497451837736207,0.5454933306418815,0.5736893843173586,0.5704035656352077,0.5589311744012736,0.5742178486702648,0.6093458120667292,0.47301113166253445,0.475685503771467,0.5635812230659524,0.4786463359783608,0.5285639630770534,0.5004047574979433,0.08513038998469011,0.08761207067577914,0.09018298821288037,0.09261044530535638,0.0951256539358341,0.0982865445809905,0.10119753018084167,0.5154507036912552,0.10374961245125253,0.10938428355749089,0.1121731250343592,0.4635988808364956,0.46646534950808594,0.47441363747765514,0.47941568487943087,0.48692422586339146,0.1060825674241214,0.08237420612758468,0.48227732474292817,0.49009910648170757,0.5539311566403338,0.5591076711143993,0.5626109817516779,0.5666786987214831,0.5720086993982799,0.5779435296984361,0.5811230520780607,0.5482228291153656,0.5838121963654155,0.5919247261276542,0.5977365143855317,0.6028459475746255,0.6026677992355424,0.6069743160595465,0.6118154443047381,0.6178951513275737,0.5892589110934383,0.48597274269722524,0.5441414013417335,0.5454656404548892,0.4933998968196011,0.49777379113187664,0.5029150451689663,0.502965913281782,0.5074482415537602,0.5131566809580261,0.5150891179338459,0.5409019026195145,0.5181587495279363,0.5211499517000177,0.5236092541584129,0.5270465230810378,0.5312817872131592,0.5340201737552861,0.535544199022512,0.5420732693194009,0.5213705450020494,0.07937406777881796,0.07600467281469614,0.07307842045742621,-0.017031589952702993,-0.011377069074824317,-0.007396612593202374,-0.040421701984612285,-0.037763264924273954,-0.03510133721321133,-0.03210893345411238,-0.01839359270432459,-0.029140587262155383,-0.02352495028685612,-0.020917594020293154,-0.018151211713280036,-0.01546890337939756,-0.012382300826902287,-0.009409772995701213,-0.006781425508934881,-0.026313012224051552,-0.004158381540856887,-0.0208867390542491,-0.02785200452621839,-0.0785759057455762,-0.07608704343125745,-0.07340699589719643,-0.06908229164079518,-0.06524289179980151,-0.061777650466573075,-0.05905544068183328,-0.024333694993917215,-0.0558295620556203,-0.05072830363935286,-0.04605457635363666,-0.04141884514268074,-0.03963423646671433,-0.03663676694430025,-0.03299255948079423,-0.03177656903710925,-0.05297814653675001,-0.0013912953654575775,0.001256094352126616,0.0037767241440944026,0.05591948283484775,0.058170588048418154,0.06258129000344083,0.06591870534749968,0.0677637196874063,0.0689751027269708,0.0731530211997346,0.05404667698862622,0.07601357142990008,0.05278234733357205,0.05540425484786822,0.058703378799811474,0.061852479640703444,0.06487358877826034,0.0676662972498555,2.621659763034732,0.0502259889658437,0.051018464708856424,0.04906831448064897,0.04594287640382955,0.006636706054060041,0.009541205833958023,0.012159398632092899,0.014624176735547676,0.017538695024278902,0.02039479496327791,0.009353780442703718,0.011790034832533894,0.014346844386054838,0.01828646464726644,0.022308022475080125,0.025521987381302916,0.028825708664619566,0.03219612596190581,0.03473877985809699,0.03771878582041202,0.042373360937526285,0.6207438964834302,0.6246863280195903,0.6313075500615134,0.6336295511018767,0.7853323169038163,0.789432603139093,0.7925275601794084,0.7959340216163253,0.7996564921442458,0.8003007829273944,0.8026031090063156,0.7813397059565269,0.805493506652103,0.812453001974371,0.8149659559554937,0.8188037721005429,0.8225430898331305,0.7880037650675131,0.7910414501609226,0.7940259166600875,0.8094217078168385,0.7972687209955334,0.7792762288519266,0.7711543742358976,0.7324031203500264,0.7352701994480858,0.7378307449312539,0.7406537576695738,0.7435769146027565,0.7464310935810688,0.7491763295509962,0.7750123989503576,0.7520070619253238,0.7575631986186342,0.7490576121277686,0.75219112872807,0.7553077559337374,0.7587898848039016,0.7630012205407414,0.767638539938156,0.7549099743188739,0.8014794177386556,0.8071483706781045,0.8113176605637822,1.851931860391815,1.8551308091823902,1.8588493091717233,1.8629445661073154,1.86575100386804,1.8684414254020763,1.8721904751781548,1.848803255903109,1.8753933411144867,1.882777937172656,1.8841767846883322,1.8873840016999737,1.8909426103294569,1.8950319274760965,1.8980160188745228,1.9018793072645017,1.879319951208298,1.8453178866477065,1.8415922767383384,1.8383564516803979,0.8163529212789865,0.8242504521132491,0.8233168993423909,0.8270393416701498,0.8336725992502256,0.8371983314735925,0.8395854602527949,0.8421714328655054,0.8382526044626168,0.8394745246935941,0.8429471161619216,0.8463701837855486,0.8477565480865865,0.8495053879481995,0.8539120184783445,0.8562851174007008,1.8354212289174778,0.7303272671413119,1.9090179937259126,0.7275554566831058,0.7218087642453703,0.7242142765585037,0.7336816150387454,0.7401642088673787,0.6084215919089454,0.6108413922823349,0.6137802487218091,0.6169005477630564,0.7222837811139813,0.6205537552742961,0.6287341513774949,0.6320598724438036,0.6370601748169687,0.6383476827499438,0.643779133881473,0.6484955583047347,0.6528444029388859,0.6248623314137802,0.6558183397031339,0.7147510421610281,0.6982220466398023,0.6229434641908862,0.6173518710304626,0.6218589946847624,0.6255965145890853,0.6302822386773715,0.6352560086087354,0.6409074503112638,0.7031130608012651,0.6464484507766772,0.6556139027087504,0.6617859622603509,0.6690539418817718,0.6757382743948622,0.6823969784715055,0.6889838184811697,0.69466550704439,0.6526297223140402,0.6585504342012198,0.6566539930186274,0.6581320044677275,0.688810332617358,0.691537395835936,0.6942695561436961,0.6969851283582791,0.6997239524485793,0.7024700925453041,0.7051898914698737,0.6860838538683721,0.6961921911682577,0.7017515966957567,0.7046127810551394,0.7074609390712915,0.7102590818925485,0.7131027243979481,0.7160350909867502,0.7190092334404378,0.6989538427820838,0.683403810880878,0.6806645584205915,0.6779222176045184,0.6615860809850519,0.6663594473460309,0.6684270569969252,0.6694517520937633,0.6744679322132567,0.6782204366755445,0.6480453432038648,0.6507554957688574,0.6534717437789055,0.6561847530540982,0.6589052555935085,0.6616139680981791,0.66432297491786,0.6670573396846371,0.6697614776404176,0.6724725124586642,0.6752035178380634,0.7246015403082576,2.6243310355361666],\"xaxis\":\"x\",\"y\":[-0.88281875873012,-0.7349836781728564,-0.7629880558006403,-0.7777620188067317,-0.7935662374904789,-0.8316655029298409,-0.8523730007483961,-0.7079571450667744,-0.8961055885675545,-0.8669251899385055,-0.8116038659823827,-0.6803440844286132,-1.0969570711489514,-0.628510817693452,-1.2274433608661197,-1.212515962621985,-1.1991353054854188,-1.1885308604049942,-1.17739468810073,-1.1645945260832713,-1.1541580345581035,-1.1420587201759236,-1.1306421940059195,-1.1212554976666105,-1.1092624013216084,-0.9154421408725006,-1.2396694882005828,-1.0842445476343145,-1.063770648357332,-1.0510194070280123,-1.0382029240894761,-1.234867973022552,-1.2213227621179685,-1.2085004964223114,-1.197448752453665,-1.1843160047497183,-1.1715745389279673,-1.157613360546803,-1.1426768577122106,-1.1267963611119178,-1.0725094812671092,-0.658277139167411,-1.2513148155314664,-1.2760146782680566,-0.5771543222208328,-1.2758809972607437,-1.264100627650617,-1.2522700999443566,-1.2401850426359076,-1.2281106370466295,-1.2160108974216803,-1.2042216157756462,-1.1917514274480954,-1.1788155991521816,-1.1672451796799852,-1.1552638819124392,-1.263392680934784,-1.1417230212621374,-1.1182452968519292,-1.106238885610585,-1.0943232933147382,-1.0814855779992585,-1.0683692738753363,-1.0553574966307606,-1.043798042230022,-1.031852078690166,-1.0184746864917502,-1.0064868264529117,-1.2992481474041537,-1.2877409903740569,-1.1305537515334023,-0.9437723084682561,-0.3738962384817618,-0.9762373512171415,-0.434824257836873,-0.40156472250550834,-0.3856857372687996,-1.258022042647684,-1.2467460386125557,-1.235531998220473,-0.467271778960742,-1.2241709847879871,-1.1965862700911736,-1.1844009359496692,-1.1708808109707018,-1.1569716499032388,-1.1456576103579745,-1.13295357919173,-1.2090255757772854,-0.48977506274470445,-0.5220322959007561,-0.5507256014774743,-0.8730211841419401,-1.1128663167667865,-0.8484649214941506,-0.8264001161129365,-0.8041785567777272,-0.7836589458291887,-0.7583727998456734,-0.727871979155579,-0.7092644387069166,-0.686059469271316,-0.6539182209752228,-0.6314902823802135,-0.6061558699263613,-0.583192552118806,-0.5773973459060898,-1.1217251238531174,-1.1095410678188495,-1.097620725040957,-1.086383195166988,-0.11127544888728116,0.0534608564177799,0.021383894139556235,0.007140932573420257,0.07374816292130573,0.12375723775936666,0.19150056161509588,0.220395516276072,0.25378460608475545,0.3378345468653094,0.31952665622539467,-1.0368642668283645,-1.0237351119935267,-1.0088440114134825,-0.9915322041710655,-0.14545606760994473,-0.9666976682051353,-0.21426788156577511,-0.28024036075189546,-1.0731581489283415,-1.0601915984538461,-1.0477702895031427,-1.0343587644178958,-1.0210755091198944,-1.0087312315536172,-0.9947250418778887,-0.980621574987674,-0.5976827675600129,-0.5764005014159166,-0.5514837718145232,-0.522259816202037,-0.49422619856619643,-0.4617624859927465,-0.3269083323455321,-0.2764853018264029,-1.0977620404674384,-0.7023650787263703,-1.0658297661208127,-0.622267756939565,-0.5910424405491473,-0.5585712640728973,-0.5381582421202894,-0.5120682947921591,-0.4721442492234611,-0.6486957472469017,-0.45140406683774587,-1.1946484363961756,-1.1791860842042767,-1.1633646233237476,-1.1478591803857021,-1.1316340868908759,-1.1155698696627565,-1.2112175785664265,-0.6530716846341224,-0.6765530315483935,-0.7185670564729285,-0.47577190648578654,-0.44442197888129537,-0.40968838270014896,-0.3884055988762656,-0.9731946120832785,-0.9547970110250795,-0.9362242323992351,-0.9090836751109389,-0.8847962780495862,-0.8628122056750605,-0.842257574003076,-0.8108044477466504,-0.7753988245286947,-0.763500639511634,-0.7468514109003147,-1.0997342974024726,-1.0838272369789974,-1.0704714371326234,-1.0558497287274722,-1.0821939175049564,-1.0623390099494188,-1.0478676306320622,-1.0333841305465177,-1.0152930291316946,-1.0011445532981884,-0.9828874848068847,-0.9663525455611089,-0.9556352000848999,-0.9390008439155122,-0.9222390621588451,-0.9036542867662628,-0.8894891534343536,-0.872398694579528,-0.8928044460719528,-1.0987902250204136,-0.5018927405036407,-1.113095748594114,-1.1416171138331088,-1.0398606986598702,-1.0204766364720623,-0.9992308165554943,-0.9848500261524546,-0.9761487967287997,-0.964933045623127,-0.9520333889777638,-0.9357119895399861,-0.9218511076218532,-0.9080111113071655,-0.8926465864460704,-0.8803124800258846,-1.1877549805974619,-1.174274102684302,-1.158762339380828,-1.1268479202364536,-1.0816945112050835,-0.5376460659689671,-0.5962209053764295,-1.0921012657059337,-1.0731541005098537,-1.0526733095267227,-1.0399334184603628,-1.0236005046158174,-1.014710905772219,-1.101638071744153,-1.0044215000775678,-0.9738728668352276,-0.9561810488547349,-0.9389993224320367,-0.923477872581251,-0.8997807211825235,-0.884095778820936,-0.9897288076464357,-1.1201103003372874,-1.1356503888690297,-1.1548483096026558,-1.0501242024479636,-1.0367222238181468,-1.0236324858386303,-1.0093868861531952,-0.9963047422449303,-0.9829424164926844,-0.9704549302571687,-0.9591145350112741,-0.9426338413720717,-0.925944816518668,-1.2250579214490116,-1.2128880557877415,-1.200232439168378,-1.1859027221243263,-1.17127385715572,-0.9633369808411968,-0.9435168574039909,-0.9238031831032985,-0.9013162537892432,-0.9550339922639886,-0.9356066405853296,-0.9150398169210787,-0.8923038800895028,-0.8708859033187911,-0.8474029125253141,-0.825247739458501,-0.7987314372643243,-0.7679145999611673,-0.7467055555136995,-0.7220924687863353,-0.6941816289320317,-0.6675735367016353,-0.6394921357797188,-0.6120300320026814,-0.4388706370808364,-0.5674047790350462,-0.4570157551554664,-0.5125219228402647,-0.8789345424458067,-0.85584479979503,-0.8333165000872325,-0.8065037229493718,-0.7765478438934045,-0.7549778133022663,-0.7329471885489297,-0.6986402093320672,-0.6833876021242697,-0.6590655409831615,-0.6324527034539041,-0.6214039271253737,-0.5955043057511571,-0.5664454537772867,-0.5346466376108115,-0.4903440469965434,-0.911005273051694,-0.5648538667496191,-0.6212723940371565,-0.07744568476034594,0.02334580780337118,0.2332454768382364,0.3625076645317065,0.4445526016167723,0.49656107577950737,0.19051697798795658,0.01923704665423498,-0.031156512265859665,0.20962637252989103,0.18108545043282206,0.08251263917175249,0.21413419052597135,0.5165274309771886,-1.3549363413566058,-1.343605256160872,0.12339999785710117,-1.3298091316161074,-0.159611140778949,-0.3940564853807841,-0.49886976151405027,-0.48945431538467027,-0.47926104662017593,-0.4702995912117318,-0.4605730666644424,-0.44531403391105395,-0.4321891973191776,-0.26876823200567584,-0.42213446324638115,-0.39744664349261,-0.3853628194397686,-0.6846107056421296,-0.6657073651691853,-0.6029164201671204,-0.5651226804333676,-0.5054517169002469,-0.4139496542960456,-0.5106306138963722,-1.310247214802678,-1.2662457592425707,-0.772550568224996,-0.7348555040457628,-0.7113339072624297,-0.682788890599958,-0.6432167896354223,-0.5982734811614245,-0.5767941255205582,-0.8146467701637805,-0.5593660434100651,-0.5005583444720151,-0.4558312209019661,-0.41699522244711246,-0.4234187071331122,-0.3912080068968839,-0.35425350323049176,-0.3065464267454904,-0.5180984638753161,-1.2901120539364928,-0.842609582390377,-0.9836639430966027,-1.249435388266694,-1.223378076396293,-1.1906955968905049,-1.2016736620101078,-1.1745484039615015,-1.1368366519842248,-1.1314913813490743,-0.8631910468796729,-1.116339640626661,-1.1130700181334834,-1.1032095850274781,-1.08499030544031,-1.0599532459898926,-1.047789979132241,-1.0460621734873239,-1.0014029556994204,-1.099958626388699,-0.5244745684158311,-0.5414891197628171,-0.5546986572386897,-0.2759885341316709,-0.23887315631331238,-0.21612131504842588,-0.6382185473537313,-0.6272740300825552,-0.6164097423314848,-0.6027912466493554,-0.27627358631988186,-0.5894165560665863,-0.5653690321944578,-0.5550087922050461,-0.543246046635579,-0.5321703605672636,-0.5175928931693337,-0.5039646652838271,-0.4932585292821635,-0.5772413102092946,-0.4825667369371334,-0.2862782000042841,-0.32317204565386265,-0.5730724719218583,-0.5633026070570827,-0.551909674542093,-0.5264041933222476,-0.5050592978101079,-0.48690404660085607,-0.47509626862546595,-0.3044467862467046,-0.45892898281153627,-0.4381617342291146,-0.4095914000802752,-0.38140280600572796,-0.3777503928174155,-0.3637136354786497,-0.3441127596532756,-0.3453087124704837,-0.4459583518061654,-0.47061677517538875,-0.45968287802089236,-0.44983121540459514,-0.3694554203030974,-0.36161094783355496,-0.3352038669526772,-0.3179985147903243,-0.31359804165902605,-0.3146348144323986,-0.29007048188547546,-0.3740336531665611,-0.2768024855503412,-0.6457161544642168,-0.6350618706811693,-0.618615907035466,-0.6034697031576878,-0.5894340878630634,-0.5773596193611895,-0.8512689660594904,-0.6558192014786689,-0.38851675961421356,-0.39373307056263845,-0.4090344166802659,-0.43705984945755844,-0.42390204750174953,-0.413200014958574,-0.4038144439097907,-0.390466458741955,-0.37761650703411354,-0.5956435111154023,-0.5863521021995828,-0.5760426826295094,-0.5538684343412082,-0.5309865527309905,-0.5150207483226241,-0.49825930116666844,-0.48089840844602055,-0.4706232600354927,-0.4565774292525717,-0.4281480029564694,-0.2864623521193352,-0.25688630365055987,-0.20438738349180155,-0.18861237951181686,-0.974235620651699,-0.9463590007259044,-0.9269372143771354,-0.9046717437691135,-0.8795875629626958,-0.8808661468307156,-0.867871536307392,-1.0010003522121098,-0.8497684281592033,-0.8032548541036799,-0.7881617303652799,-0.7609845564756806,-0.7344484538834943,-1.4288437236201958,-1.4144455968307863,-1.4004914165848454,-0.8227018279715328,-1.384302789339882,-1.0110530602380525,-1.0652313161772442,-1.2176598818635032,-1.2048552225034583,-1.1945809496695419,-1.1818895781994643,-1.1681668708192925,-1.1548874110465523,-1.1424248897409013,-1.0398962607776288,-1.1291472112732952,-1.1032035618890634,-1.2071554736240535,-1.1885973531793423,-1.1699626892107882,-1.1480026993094186,-1.119673472185316,-1.0876336387862937,-1.1151139686961922,-1.3597832765689537,-1.3227166510580262,-1.298500085223445,-0.9481431652207946,-0.92994285476218,-0.907248495934387,-0.8812797342134421,-0.8663121234828419,-0.8522724906429845,-0.8290631415146927,-0.965712866689993,-0.8104673388557934,-0.7646181756933453,-0.7612683013862213,-0.742315329611762,-0.7202545307716097,-0.6935619605766992,-0.6762840051296012,-0.6513912829490048,-0.7855687674891445,-0.9862976862359184,-1.0088866026323107,-1.0271867516620177,-1.2668211665476115,-1.2105419379405478,-1.2300683373741266,-1.2096001858320435,-1.1641241952830623,-1.1453182589239586,-1.1362758639396426,-1.1255179459433409,-1.1706068091778927,-1.1715514119811503,-1.153166244953897,-1.1352050238387588,-1.1347307272849956,-1.1311445460235776,-1.1048087444647736,-1.095919738420553,-1.042811496596331,-1.2236794428968145,-0.6064889554515678,-1.2357918024592969,-1.2623120715103966,1.232127739941933,1.333799668872429,1.410867020167841,-1.3327363546462694,-1.3228911430497088,-1.3085704446160316,-1.292656745327655,1.1957164700784175,-1.272104375743508,-1.2231981081366716,-1.2051471585625426,-1.1726445303163235,-1.1720005114648901,-1.1358179102985027,-1.1058491710692553,-1.079113689606347,-1.2458299032154567,-1.064229474601509,1.1117460143910907,0.9332289617044501,0.11886384694482424,0.07345031691414225,0.1162187191675008,0.15371911168545055,0.2004944651562305,0.25074061436877365,0.30764252520595764,0.9931801481329987,0.36451624276892897,0.4646624356811422,0.529765800663965,0.6051715960429023,0.6764012543265759,0.7483340781484307,0.8204429670215372,0.8855858740311181,0.42781502467563065,-1.051430113289581,-1.07833510204668,-1.076205535865595,-1.293587767061605,-1.2821021331133233,-1.2705718404229966,-1.2591830989314359,-1.2475938138573301,-1.235934520547285,-1.2245002326726195,-1.3050673736039986,-1.382687224063133,-1.3570110560340154,-1.3434953518356194,-1.330100925420868,-1.3171366700617093,-1.3037771425345068,-1.2896475349720207,-1.275185766225886,-1.3699968234127944,-1.3161475552489215,-1.3277359726558948,-1.3393522416200134,-1.057043344472913,-1.0265044203314873,-1.0191610326299398,-1.0207520456060135,-0.9880426700843719,-0.9661426036358877,-1.4646663840399496,-1.4533402739747119,-1.4419591585846223,-1.4306021878700401,-1.4191762497390488,-1.4078465246455893,-1.396509146773271,-1.3849505092690082,-1.3736505076939296,-1.362293281280005,-1.3507680927466261,-1.2496498211167613,-0.8377080556413053],\"yaxis\":\"y\",\"type\":\"scattergl\",\"textposition\":\"top center\"}],                        {\"template\":{\"data\":{\"histogram2dcontour\":[{\"type\":\"histogram2dcontour\",\"colorbar\":{\"outlinewidth\":0,\"ticks\":\"\"},\"colorscale\":[[0.0,\"#0d0887\"],[0.1111111111111111,\"#46039f\"],[0.2222222222222222,\"#7201a8\"],[0.3333333333333333,\"#9c179e\"],[0.4444444444444444,\"#bd3786\"],[0.5555555555555556,\"#d8576b\"],[0.6666666666666666,\"#ed7953\"],[0.7777777777777778,\"#fb9f3a\"],[0.8888888888888888,\"#fdca26\"],[1.0,\"#f0f921\"]]}],\"choropleth\":[{\"type\":\"choropleth\",\"colorbar\":{\"outlinewidth\":0,\"ticks\":\"\"}}],\"histogram2d\":[{\"type\":\"histogram2d\",\"colorbar\":{\"outlinewidth\":0,\"ticks\":\"\"},\"colorscale\":[[0.0,\"#0d0887\"],[0.1111111111111111,\"#46039f\"],[0.2222222222222222,\"#7201a8\"],[0.3333333333333333,\"#9c179e\"],[0.4444444444444444,\"#bd3786\"],[0.5555555555555556,\"#d8576b\"],[0.6666666666666666,\"#ed7953\"],[0.7777777777777778,\"#fb9f3a\"],[0.8888888888888888,\"#fdca26\"],[1.0,\"#f0f921\"]]}],\"heatmap\":[{\"type\":\"heatmap\",\"colorbar\":{\"outlinewidth\":0,\"ticks\":\"\"},\"colorscale\":[[0.0,\"#0d0887\"],[0.1111111111111111,\"#46039f\"],[0.2222222222222222,\"#7201a8\"],[0.3333333333333333,\"#9c179e\"],[0.4444444444444444,\"#bd3786\"],[0.5555555555555556,\"#d8576b\"],[0.6666666666666666,\"#ed7953\"],[0.7777777777777778,\"#fb9f3a\"],[0.8888888888888888,\"#fdca26\"],[1.0,\"#f0f921\"]]}],\"heatmapgl\":[{\"type\":\"heatmapgl\",\"colorbar\":{\"outlinewidth\":0,\"ticks\":\"\"},\"colorscale\":[[0.0,\"#0d0887\"],[0.1111111111111111,\"#46039f\"],[0.2222222222222222,\"#7201a8\"],[0.3333333333333333,\"#9c179e\"],[0.4444444444444444,\"#bd3786\"],[0.5555555555555556,\"#d8576b\"],[0.6666666666666666,\"#ed7953\"],[0.7777777777777778,\"#fb9f3a\"],[0.8888888888888888,\"#fdca26\"],[1.0,\"#f0f921\"]]}],\"contourcarpet\":[{\"type\":\"contourcarpet\",\"colorbar\":{\"outlinewidth\":0,\"ticks\":\"\"}}],\"contour\":[{\"type\":\"contour\",\"colorbar\":{\"outlinewidth\":0,\"ticks\":\"\"},\"colorscale\":[[0.0,\"#0d0887\"],[0.1111111111111111,\"#46039f\"],[0.2222222222222222,\"#7201a8\"],[0.3333333333333333,\"#9c179e\"],[0.4444444444444444,\"#bd3786\"],[0.5555555555555556,\"#d8576b\"],[0.6666666666666666,\"#ed7953\"],[0.7777777777777778,\"#fb9f3a\"],[0.8888888888888888,\"#fdca26\"],[1.0,\"#f0f921\"]]}],\"surface\":[{\"type\":\"surface\",\"colorbar\":{\"outlinewidth\":0,\"ticks\":\"\"},\"colorscale\":[[0.0,\"#0d0887\"],[0.1111111111111111,\"#46039f\"],[0.2222222222222222,\"#7201a8\"],[0.3333333333333333,\"#9c179e\"],[0.4444444444444444,\"#bd3786\"],[0.5555555555555556,\"#d8576b\"],[0.6666666666666666,\"#ed7953\"],[0.7777777777777778,\"#fb9f3a\"],[0.8888888888888888,\"#fdca26\"],[1.0,\"#f0f921\"]]}],\"mesh3d\":[{\"type\":\"mesh3d\",\"colorbar\":{\"outlinewidth\":0,\"ticks\":\"\"}}],\"scatter\":[{\"fillpattern\":{\"fillmode\":\"overlay\",\"size\":10,\"solidity\":0.2},\"type\":\"scatter\"}],\"parcoords\":[{\"type\":\"parcoords\",\"line\":{\"colorbar\":{\"outlinewidth\":0,\"ticks\":\"\"}}}],\"scatterpolargl\":[{\"type\":\"scatterpolargl\",\"marker\":{\"colorbar\":{\"outlinewidth\":0,\"ticks\":\"\"}}}],\"bar\":[{\"error_x\":{\"color\":\"#2a3f5f\"},\"error_y\":{\"color\":\"#2a3f5f\"},\"marker\":{\"line\":{\"color\":\"#E5ECF6\",\"width\":0.5},\"pattern\":{\"fillmode\":\"overlay\",\"size\":10,\"solidity\":0.2}},\"type\":\"bar\"}],\"scattergeo\":[{\"type\":\"scattergeo\",\"marker\":{\"colorbar\":{\"outlinewidth\":0,\"ticks\":\"\"}}}],\"scatterpolar\":[{\"type\":\"scatterpolar\",\"marker\":{\"colorbar\":{\"outlinewidth\":0,\"ticks\":\"\"}}}],\"histogram\":[{\"marker\":{\"pattern\":{\"fillmode\":\"overlay\",\"size\":10,\"solidity\":0.2}},\"type\":\"histogram\"}],\"scattergl\":[{\"type\":\"scattergl\",\"marker\":{\"colorbar\":{\"outlinewidth\":0,\"ticks\":\"\"}}}],\"scatter3d\":[{\"type\":\"scatter3d\",\"line\":{\"colorbar\":{\"outlinewidth\":0,\"ticks\":\"\"}},\"marker\":{\"colorbar\":{\"outlinewidth\":0,\"ticks\":\"\"}}}],\"scattermapbox\":[{\"type\":\"scattermapbox\",\"marker\":{\"colorbar\":{\"outlinewidth\":0,\"ticks\":\"\"}}}],\"scatterternary\":[{\"type\":\"scatterternary\",\"marker\":{\"colorbar\":{\"outlinewidth\":0,\"ticks\":\"\"}}}],\"scattercarpet\":[{\"type\":\"scattercarpet\",\"marker\":{\"colorbar\":{\"outlinewidth\":0,\"ticks\":\"\"}}}],\"carpet\":[{\"aaxis\":{\"endlinecolor\":\"#2a3f5f\",\"gridcolor\":\"white\",\"linecolor\":\"white\",\"minorgridcolor\":\"white\",\"startlinecolor\":\"#2a3f5f\"},\"baxis\":{\"endlinecolor\":\"#2a3f5f\",\"gridcolor\":\"white\",\"linecolor\":\"white\",\"minorgridcolor\":\"white\",\"startlinecolor\":\"#2a3f5f\"},\"type\":\"carpet\"}],\"table\":[{\"cells\":{\"fill\":{\"color\":\"#EBF0F8\"},\"line\":{\"color\":\"white\"}},\"header\":{\"fill\":{\"color\":\"#C8D4E3\"},\"line\":{\"color\":\"white\"}},\"type\":\"table\"}],\"barpolar\":[{\"marker\":{\"line\":{\"color\":\"#E5ECF6\",\"width\":0.5},\"pattern\":{\"fillmode\":\"overlay\",\"size\":10,\"solidity\":0.2}},\"type\":\"barpolar\"}],\"pie\":[{\"automargin\":true,\"type\":\"pie\"}]},\"layout\":{\"autotypenumbers\":\"strict\",\"colorway\":[\"#636efa\",\"#EF553B\",\"#00cc96\",\"#ab63fa\",\"#FFA15A\",\"#19d3f3\",\"#FF6692\",\"#B6E880\",\"#FF97FF\",\"#FECB52\"],\"font\":{\"color\":\"#2a3f5f\"},\"hovermode\":\"closest\",\"hoverlabel\":{\"align\":\"left\"},\"paper_bgcolor\":\"white\",\"plot_bgcolor\":\"#E5ECF6\",\"polar\":{\"bgcolor\":\"#E5ECF6\",\"angularaxis\":{\"gridcolor\":\"white\",\"linecolor\":\"white\",\"ticks\":\"\"},\"radialaxis\":{\"gridcolor\":\"white\",\"linecolor\":\"white\",\"ticks\":\"\"}},\"ternary\":{\"bgcolor\":\"#E5ECF6\",\"aaxis\":{\"gridcolor\":\"white\",\"linecolor\":\"white\",\"ticks\":\"\"},\"baxis\":{\"gridcolor\":\"white\",\"linecolor\":\"white\",\"ticks\":\"\"},\"caxis\":{\"gridcolor\":\"white\",\"linecolor\":\"white\",\"ticks\":\"\"}},\"coloraxis\":{\"colorbar\":{\"outlinewidth\":0,\"ticks\":\"\"}},\"colorscale\":{\"sequential\":[[0.0,\"#0d0887\"],[0.1111111111111111,\"#46039f\"],[0.2222222222222222,\"#7201a8\"],[0.3333333333333333,\"#9c179e\"],[0.4444444444444444,\"#bd3786\"],[0.5555555555555556,\"#d8576b\"],[0.6666666666666666,\"#ed7953\"],[0.7777777777777778,\"#fb9f3a\"],[0.8888888888888888,\"#fdca26\"],[1.0,\"#f0f921\"]],\"sequentialminus\":[[0.0,\"#0d0887\"],[0.1111111111111111,\"#46039f\"],[0.2222222222222222,\"#7201a8\"],[0.3333333333333333,\"#9c179e\"],[0.4444444444444444,\"#bd3786\"],[0.5555555555555556,\"#d8576b\"],[0.6666666666666666,\"#ed7953\"],[0.7777777777777778,\"#fb9f3a\"],[0.8888888888888888,\"#fdca26\"],[1.0,\"#f0f921\"]],\"diverging\":[[0,\"#8e0152\"],[0.1,\"#c51b7d\"],[0.2,\"#de77ae\"],[0.3,\"#f1b6da\"],[0.4,\"#fde0ef\"],[0.5,\"#f7f7f7\"],[0.6,\"#e6f5d0\"],[0.7,\"#b8e186\"],[0.8,\"#7fbc41\"],[0.9,\"#4d9221\"],[1,\"#276419\"]]},\"xaxis\":{\"gridcolor\":\"white\",\"linecolor\":\"white\",\"ticks\":\"\",\"title\":{\"standoff\":15},\"zerolinecolor\":\"white\",\"automargin\":true,\"zerolinewidth\":2},\"yaxis\":{\"gridcolor\":\"white\",\"linecolor\":\"white\",\"ticks\":\"\",\"title\":{\"standoff\":15},\"zerolinecolor\":\"white\",\"automargin\":true,\"zerolinewidth\":2},\"scene\":{\"xaxis\":{\"backgroundcolor\":\"#E5ECF6\",\"gridcolor\":\"white\",\"linecolor\":\"white\",\"showbackground\":true,\"ticks\":\"\",\"zerolinecolor\":\"white\",\"gridwidth\":2},\"yaxis\":{\"backgroundcolor\":\"#E5ECF6\",\"gridcolor\":\"white\",\"linecolor\":\"white\",\"showbackground\":true,\"ticks\":\"\",\"zerolinecolor\":\"white\",\"gridwidth\":2},\"zaxis\":{\"backgroundcolor\":\"#E5ECF6\",\"gridcolor\":\"white\",\"linecolor\":\"white\",\"showbackground\":true,\"ticks\":\"\",\"zerolinecolor\":\"white\",\"gridwidth\":2}},\"shapedefaults\":{\"line\":{\"color\":\"#2a3f5f\"}},\"annotationdefaults\":{\"arrowcolor\":\"#2a3f5f\",\"arrowhead\":0,\"arrowwidth\":1},\"geo\":{\"bgcolor\":\"white\",\"landcolor\":\"#E5ECF6\",\"subunitcolor\":\"white\",\"showland\":true,\"showlakes\":true,\"lakecolor\":\"white\"},\"title\":{\"x\":0.05},\"mapbox\":{\"style\":\"light\"}}},\"xaxis\":{\"anchor\":\"y\",\"domain\":[0.0,1.0],\"title\":{\"text\":\"PCA1\"}},\"yaxis\":{\"anchor\":\"x\",\"domain\":[0.0,1.0],\"title\":{\"text\":\"PCA2\"}},\"legend\":{\"title\":{\"text\":\"Cluster\"},\"tracegroupgap\":0},\"margin\":{\"t\":60},\"plot_bgcolor\":\"rgb(240,240,240)\",\"title\":{\"text\":\"2D Cluster PCA Plot\"},\"height\":600},                        {\"responsive\": true}                    ).then(function(){\n",
              "                            \n",
              "var gd = document.getElementById('f336e92b-e217-495f-a20b-f14e6ec512f7');\n",
              "var x = new MutationObserver(function (mutations, observer) {{\n",
              "        var display = window.getComputedStyle(gd).display;\n",
              "        if (!display || display === 'none') {{\n",
              "            console.log([gd, 'removed!']);\n",
              "            Plotly.purge(gd);\n",
              "            observer.disconnect();\n",
              "        }}\n",
              "}});\n",
              "\n",
              "// Listen for the removal of the full notebook cells\n",
              "var notebookContainer = gd.closest('#notebook-container');\n",
              "if (notebookContainer) {{\n",
              "    x.observe(notebookContainer, {childList: true});\n",
              "}}\n",
              "\n",
              "// Listen for the clearing of the current output cell\n",
              "var outputEl = gd.closest('.output');\n",
              "if (outputEl) {{\n",
              "    x.observe(outputEl, {childList: true});\n",
              "}}\n",
              "\n",
              "                        })                };                            </script>        </div>\n",
              "</body>\n",
              "</html>"
            ]
          },
          "metadata": {}
        }
      ]
    },
    {
      "cell_type": "code",
      "source": [
        "#Assign Cluster Labels\n",
        "kmeans_results = assign_model(kmeans)\n"
      ],
      "metadata": {
        "id": "GZLqXSmPTmBX"
      },
      "execution_count": 11,
      "outputs": []
    },
    {
      "cell_type": "code",
      "source": [
        "print(kmeans_results.head())\n"
      ],
      "metadata": {
        "colab": {
          "base_uri": "https://localhost:8080/"
        },
        "id": "kjj6jSFZVjxi",
        "outputId": "3a9ee8e3-e7e8-453f-b1b1-7a6661be099d"
      },
      "execution_count": 12,
      "outputs": [
        {
          "output_type": "stream",
          "name": "stdout",
          "text": [
            "   ID  Year Country    Continent  Population      GDP (USD)    Cluster\n",
            "0   1  2000  Uganda  East Africa     23303189  6.193247e+09  Cluster 1\n",
            "1   2  2001  Uganda  East Africa     24022603  5.840504e+09  Cluster 1\n",
            "2   3  2002  Uganda  East Africa     24781316  5.840504e+09  Cluster 1\n",
            "3   4  2003  Uganda  East Africa     25577246  6.606884e+09  Cluster 1\n",
            "4   5  2004  Uganda  East Africa     26403221  7.939488e+09  Cluster 1\n"
          ]
        }
      ]
    },
    {
      "cell_type": "code",
      "source": [
        "print(kmeans_results['Cluster'].value_counts())\n"
      ],
      "metadata": {
        "colab": {
          "base_uri": "https://localhost:8080/"
        },
        "id": "Ikf9r82WVzK4",
        "outputId": "3af43ab9-3c65-494c-c3e1-acc376ddd360"
      },
      "execution_count": 13,
      "outputs": [
        {
          "output_type": "stream",
          "name": "stdout",
          "text": [
            "Cluster 2    620\n",
            "Cluster 1    375\n",
            "Cluster 0    184\n",
            "Name: Cluster, dtype: int64\n"
          ]
        }
      ]
    },
    {
      "cell_type": "code",
      "source": [
        "cluster_characteristics = kmeans_results.groupby('Cluster').mean()\n",
        "print(cluster_characteristics)\n"
      ],
      "metadata": {
        "colab": {
          "base_uri": "https://localhost:8080/"
        },
        "id": "-gqw6DOBV_RS",
        "outputId": "aaf0a78f-d069-4e8c-a536-9a761b96aa25"
      },
      "execution_count": 14,
      "outputs": [
        {
          "output_type": "stream",
          "name": "stdout",
          "text": [
            "                   ID         Year   Population      GDP (USD)\n",
            "Cluster                                                       \n",
            "Cluster 0  650.250000  2011.000000  5.282297e+07  1.596930e+11\n",
            "Cluster 1  209.501333  2011.008000  2.054986e+07  1.568712e+10\n",
            "Cluster 2  962.845161  2011.017742  1.022570e+07  1.200069e+10\n"
          ]
        }
      ]
    },
    {
      "cell_type": "code",
      "source": [
        "plot_model(kmeans, plot='tsne')\n"
      ],
      "metadata": {
        "colab": {
          "base_uri": "https://localhost:8080/",
          "height": 817
        },
        "id": "D0EtsMBDWLUa",
        "outputId": "5e9a9b7b-5f01-4ae2-bc3e-5fbd87e5a7fb"
      },
      "execution_count": 15,
      "outputs": [
        {
          "output_type": "display_data",
          "data": {
            "text/plain": [
              "<IPython.core.display.HTML object>"
            ],
            "text/html": []
          },
          "metadata": {}
        },
        {
          "output_type": "display_data",
          "data": {
            "text/html": [
              "<html>\n",
              "<head><meta charset=\"utf-8\" /></head>\n",
              "<body>\n",
              "    <div>            <script src=\"https://cdnjs.cloudflare.com/ajax/libs/mathjax/2.7.5/MathJax.js?config=TeX-AMS-MML_SVG\"></script><script type=\"text/javascript\">if (window.MathJax && window.MathJax.Hub && window.MathJax.Hub.Config) {window.MathJax.Hub.Config({SVG: {font: \"STIX-Web\"}});}</script>                <script type=\"text/javascript\">window.PlotlyConfig = {MathJaxConfig: 'local'};</script>\n",
              "        <script charset=\"utf-8\" src=\"https://cdn.plot.ly/plotly-2.24.1.min.js\"></script>                <div id=\"30086075-a4dd-4c41-a5e2-78400a147cff\" class=\"plotly-graph-div\" style=\"height:800px; width:900px;\"></div>            <script type=\"text/javascript\">                                    window.PLOTLYENV=window.PLOTLYENV || {};                                    if (document.getElementById(\"30086075-a4dd-4c41-a5e2-78400a147cff\")) {                    Plotly.newPlot(                        \"30086075-a4dd-4c41-a5e2-78400a147cff\",                        [{\"customdata\":[[513],[528],[527],[526],[525],[524],[523],[522],[521],[520],[519],[518],[517],[516],[515],[514],[512],[511],[510],[509],[529],[508],[553],[555],[574],[573],[572],[571],[570],[569],[568],[567],[566],[565],[564],[563],[562],[561],[560],[559],[558],[557],[556],[554],[507],[506],[504],[479],[478],[477],[476],[475],[474],[473],[472],[471],[470],[469],[468],[467],[466],[465],[464],[463],[462],[461],[480],[481],[482],[483],[503],[502],[501],[500],[499],[498],[497],[496],[495],[575],[494],[492],[491],[490],[489],[488],[487],[486],[485],[484],[493],[576],[505],[578],[1220],[1221],[1222],[1223],[1224],[1225],[1226],[1227],[1228],[1229],[1230],[1231],[1232],[1233],[1234],[1235],[1236],[1237],[1238],[715],[1239],[716],[718],[577],[736],[735],[734],[733],[732],[731],[730],[729],[728],[727],[726],[725],[724],[723],[722],[721],[720],[719],[717],[1240],[714],[591],[599],[598],[596],[595],[594],[593],[592],[590],[589],[600],[588],[586],[585],[584],[583],[582],[581],[580],[1241],[579],[587],[601],[597],[602],[1242],[621],[620],[619],[618],[617],[616],[614],[613],[612],[615],[610],[603],[611],[605],[606],[604],[608],[609],[607]],\"hovertemplate\":\"Cluster=Cluster 0\\u003cbr\\u003e0=%{x}\\u003cbr\\u003e1=%{y}\\u003cbr\\u003e2=%{z}\\u003cbr\\u003eFeature=%{customdata[0]}\\u003cextra\\u003e\\u003c\\u002fextra\\u003e\",\"legendgroup\":\"Cluster 0\",\"marker\":{\"color\":\"#636efa\",\"opacity\":0.7,\"symbol\":\"circle\"},\"mode\":\"markers\",\"name\":\"Cluster 0\",\"scene\":\"scene\",\"showlegend\":true,\"x\":[6.1082244,5.6880503,5.724769,5.7864943,5.8436084,5.8660393,5.798405,5.809035,5.840365,5.8658094,5.8842854,5.9385095,5.9692388,6.0081105,6.0443454,6.0800295,6.132357,6.1493235,6.1551547,6.1592503,5.646228,6.158377,0.4483015,0.40716043,0.09306956,0.116237395,0.14314902,0.16973822,0.17875691,0.18941924,0.22982518,0.2922532,0.32948908,0.36118105,0.36089224,0.40699968,0.40852866,0.44065684,0.43466404,0.41548216,0.40114626,0.40236226,0.40774515,0.44074255,6.164736,3.3616867,3.3885713,7.00331,6.9049425,6.8836427,6.856925,6.849454,6.8433466,6.8376675,6.8476853,6.845936,6.8440394,6.849544,6.880798,6.921046,6.94433,6.9597874,6.975037,6.970009,6.9716115,6.9763575,7.0114336,7.018744,7.0111027,6.9949493,3.410779,3.4270258,3.4359996,3.4613535,3.48593,3.528579,3.55738,3.601361,3.6285582,0.077727474,3.5857987,3.6757054,3.678293,3.7024748,3.7309175,3.7570171,3.7964442,3.8154457,3.8299725,3.8424299,3.6224606,2.9720967,3.3788753,2.9558024,2.6621337,2.6547306,2.6372511,2.6258008,2.6003242,2.5673785,2.5144553,2.4724114,2.411322,2.4406493,2.3691006,2.319059,2.2698896,2.221966,2.1805642,2.228017,2.2816656,2.2926295,2.2496216,-2.0026202,2.2094357,-2.0013423,-1.8123387,2.9642372,-1.2753243,-1.2761552,-1.3901851,-1.3417001,-1.337748,-1.3856786,-1.5036585,-1.4845457,-1.4414881,-1.4232872,-1.3784947,-1.3467839,-1.4403464,-1.6278127,-1.6691206,-1.65868,-1.7192069,-1.7542653,-1.904118,2.2237473,-1.9924077,2.7490494,3.5693126,2.6598897,2.6760006,2.6918616,2.70122,2.7023222,2.7000544,2.7940962,2.8145506,3.5626106,2.7720783,2.9015944,2.8688378,2.9186661,2.8877177,2.8914056,2.9181643,2.9301312,2.209186,2.94311,2.8776875,3.5478444,2.6698022,3.5334203,2.1815515,3.2607534,3.2680995,3.2752216,3.2801492,3.2863212,3.3063831,3.3881912,3.43461,3.4341838,3.3546064,3.3552113,3.5197706,3.363868,3.4830947,3.4818282,3.5033588,3.4879746,3.4556835,3.4954333],\"y\":[8.374827,7.6566358,7.7183847,7.821831,7.9196606,7.9608345,7.8441916,7.8621545,7.9128284,7.957657,7.989567,8.086317,8.131039,8.201342,8.259169,8.330053,8.410028,8.434182,8.442683,8.447317,7.584917,8.445264,16.164974,16.145395,15.706242,15.715081,15.708683,15.714256,15.77287,15.816815,15.831711,15.806884,15.7778,15.778638,15.923994,15.854701,15.953021,15.891727,15.979869,16.031626,16.073725,16.102846,16.124414,16.14752,8.452995,12.682193,12.758814,14.584053,14.47372,14.515409,14.557441,14.578952,14.62847,14.67709,14.587044,14.61488,14.728671,14.713614,14.722613,14.745383,14.78827,14.800481,14.810592,14.830173,14.842866,14.855835,14.567144,14.555473,14.537247,14.511677,12.738152,12.747549,12.775522,12.829704,12.824125,12.73993,12.757296,12.757274,12.779224,15.688712,12.888519,12.877005,12.983695,13.02694,13.054508,13.089342,13.113965,13.135746,13.149386,13.160777,12.948518,11.716542,12.72102,11.704073,1.7363595,1.7464918,1.7697237,1.7850173,1.8192517,1.8643428,1.9365728,1.9941958,2.0757756,2.0364447,2.1329482,2.2024498,2.270568,2.336699,2.392671,2.328176,2.2536447,2.2381475,2.2973948,5.5522637,2.3532271,5.5521026,5.568254,11.710289,5.6091657,5.6102686,5.586785,5.6051846,5.60814,5.600992,5.579557,5.5872307,5.599347,5.6045012,5.610434,5.6202836,5.6135716,5.580404,5.578611,5.5810056,5.5758934,5.573155,5.559958,2.3323216,5.5535507,11.551083,16.636496,11.397039,11.427346,11.435307,11.44922,11.469657,11.524591,11.5694,11.584535,16.618935,11.628375,11.596881,11.646305,11.60774,11.645723,11.656726,11.715543,11.700242,2.3525777,11.699809,11.589886,16.598837,11.40892,16.580612,2.3904984,16.083467,16.10073,16.12097,16.139475,16.15766,16.208597,16.205025,16.203154,16.227013,16.188948,16.341963,16.5537,16.291885,16.51238,16.46907,16.533218,16.360033,16.327589,16.405209],\"z\":[4.284478,4.4975777,4.479988,4.4497013,4.4220996,4.4102635,4.443697,4.4386086,4.4234967,4.410996,4.4018726,4.3744516,4.359091,4.3381624,4.320051,4.299808,4.274268,4.266151,4.263567,4.2620225,4.517586,4.263282,2.0211396,2.0024476,1.7409897,1.74518,1.7692391,1.7740614,1.7779573,1.7610835,1.754737,1.7875462,1.8661745,1.900091,1.7773817,1.8990983,1.834771,1.957257,1.9192415,1.9328165,1.9456868,1.9617399,1.9840999,2.0128345,4.26035,5.544783,5.505542,1.6362643,1.6103058,1.5798106,1.5611571,1.5300463,1.5122514,1.4973412,1.4083779,1.3755156,1.3893007,1.3415533,1.3032528,1.2684894,1.2555122,1.2302282,1.2080094,1.1919032,1.171666,1.1517435,1.657236,1.6796921,1.7016495,1.7219999,5.5025563,5.492606,5.4911723,5.4690394,5.4525113,5.4971385,5.481148,5.4746685,5.446,1.7393347,5.3097134,5.3255863,5.294957,5.287233,5.2833104,5.2803674,5.273942,5.264562,5.258225,5.2518725,5.303248,-0.107516,5.5235987,-0.06778005,1.0366977,1.0489651,1.0767308,1.0944103,1.1341236,1.1864669,1.2714479,1.3389513,1.4358369,1.389367,1.5036724,1.5851128,1.665022,1.7423195,1.8080093,1.7323045,1.6451193,1.6271108,1.6967112,7.195147,1.7619472,7.194587,7.08465,-0.088660456,6.774306,6.77623,6.842502,6.8204145,6.8184566,6.8454676,6.902724,6.897645,6.872887,6.86659,6.8404336,6.824728,6.8758383,6.975669,6.9990215,6.994921,7.02844,7.0493026,7.1377034,1.7380023,7.189405,0.31730068,-1.842333,0.4360398,0.3958718,0.3849941,0.3681815,0.3486996,0.33470666,0.32742086,0.30732304,-1.8595414,0.2514178,0.21208489,0.17344986,0.1406465,0.080130905,0.03501931,0.006365299,-0.014133962,1.7613972,-0.040040724,0.25209048,-1.8651984,0.42763177,-1.866081,1.8059138,-2.054449,-2.0416448,-2.0320678,-2.014771,-1.9960605,-2.0274417,-1.9767025,-1.9312698,-1.8804369,-1.9823496,-1.8164761,-1.8596338,-1.8223219,-1.8776037,-1.8550532,-1.8628535,-1.8124977,-1.8004166,-1.8231858],\"type\":\"scatter3d\"},{\"customdata\":[[367],[375],[368],[369],[370],[371],[372],[373],[374],[376],[329],[378],[379],[380],[381],[382],[383],[384],[366],[385],[377],[365],[330],[363],[386],[331],[332],[333],[334],[335],[336],[337],[338],[364],[339],[341],[342],[343],[344],[345],[359],[360],[361],[362],[340],[387],[452],[389],[426],[427],[428],[429],[430],[431],[432],[433],[434],[425],[435],[437],[446],[447],[448],[449],[450],[451],[453],[328],[436],[424],[423],[422],[390],[391],[392],[393],[394],[395],[396],[397],[398],[399],[400],[401],[402],[403],[415],[416],[417],[418],[419],[420],[421],[388],[327],[1],[325],[102],[101],[100],[99],[98],[97],[96],[95],[94],[93],[92],[91],[90],[89],[88],[87],[86],[72],[73],[74],[75],[76],[77],[103],[78],[80],[81],[82],[83],[84],[85],[79],[71],[104],[106],[137],[136],[135],[134],[133],[132],[131],[130],[129],[128],[127],[126],[125],[124],[123],[122],[121],[107],[108],[109],[110],[111],[112],[105],[113],[115],[116],[117],[118],[119],[120],[114],[138],[70],[67],[32],[31],[30],[29],[28],[27],[26],[25],[24],[23],[22],[21],[20],[19],[18],[17],[16],[2],[3],[4],[5],[6],[7],[33],[8],[10],[11],[12],[13],[14],[15],[9],[69],[34],[36],[66],[65],[64],[63],[62],[61],[60],[59],[58],[57],[56],[55],[54],[53],[52],[51],[50],[37],[38],[39],[40],[41],[42],[35],[43],[45],[46],[47],[326],[48],[49],[44],[139],[68],[141],[313],[314],[315],[316],[317],[318],[319],[320],[321],[322],[323],[254],[253],[252],[251],[250],[249],[324],[235],[236],[238],[239],[240],[312],[241],[243],[244],[245],[246],[247],[248],[242],[311],[310],[309],[267],[266],[265],[264],[263],[262],[268],[261],[259],[258],[257],[256],[140],[255],[260],[234],[269],[271],[308],[307],[306],[305],[304],[303],[270],[302],[300],[276],[275],[274],[273],[272],[301],[233],[237],[231],[172],[171],[232],[169],[168],[167],[166],[165],[164],[163],[162],[161],[160],[159],[158],[157],[156],[142],[143],[144],[145],[146],[147],[173],[148],[150],[151],[152],[153],[154],[155],[149],[174],[170],[176],[194],[195],[175],[197],[198],[199],[193],[200],[202],[203],[204],[205],[206],[207],[201],[192],[196],[190],[177],[178],[179],[191],[181],[182],[183],[180],[189],[185],[186],[187],[184],[188]],\"hovertemplate\":\"Cluster=Cluster 1\\u003cbr\\u003e0=%{x}\\u003cbr\\u003e1=%{y}\\u003cbr\\u003e2=%{z}\\u003cbr\\u003eFeature=%{customdata[0]}\\u003cextra\\u003e\\u003c\\u002fextra\\u003e\",\"legendgroup\":\"Cluster 1\",\"marker\":{\"color\":\"#EF553B\",\"opacity\":0.7,\"symbol\":\"circle\"},\"mode\":\"markers\",\"name\":\"Cluster 1\",\"scene\":\"scene\",\"showlegend\":true,\"x\":[-9.080391,-10.735566,-9.080377,-10.828251,-10.815396,-10.801908,-10.787148,-10.774321,-10.756105,-10.711591,-12.537012,-10.6357155,-10.650572,-10.679747,-10.652838,-10.638205,-10.564954,-10.545736,-9.080497,-10.527834,-10.680973,-9.080917,-12.520759,-9.082858,-10.498385,-12.499732,-12.580436,-12.466172,-12.619488,-12.573322,-12.6035385,-12.434709,-12.450863,-9.0818405,-12.483002,-12.499491,-12.506739,-12.514174,-12.526654,-12.531946,-9.083531,-9.083592,-9.083623,-9.082814,-12.492829,-10.484266,-8.899389,-10.450165,-5.3715324,-5.3481817,-5.3368106,-5.3199277,-5.3095546,-5.2993126,-5.29342,-5.2880487,-5.2810745,-5.344412,-5.276131,-5.2681565,-8.898827,-8.898927,-8.899031,-8.89911,-8.899203,-8.899283,-8.89986,-12.549688,-5.2710257,-5.35391,-5.3546386,-5.354437,-10.43456,-10.420796,-8.772052,-8.77265,-8.7723875,-8.7732,-8.773811,-8.7745495,-8.774703,-8.774676,-8.774771,-8.77477,-8.77496,-8.774935,-5.3839245,-5.382873,-5.383112,-5.373931,-5.3681984,-5.356269,-5.353101,-10.468446,-12.570873,-6.900642,-12.574365,-4.3359604,-4.326622,-4.3327575,-4.311493,-4.3035283,-4.27421,-4.25998,-4.2487717,-4.2375965,-4.231916,-7.8265724,-7.8283978,-7.8278966,-7.8252883,-7.819309,-7.8178115,-7.8170505,-7.7652116,-7.7738786,-7.7625227,-7.765314,-7.7636595,-7.76068,-4.471936,-7.8432775,-7.7171288,-7.723325,-7.88713,-7.7312846,-7.8483343,-7.792401,-7.719167,-7.7663355,-4.498159,-4.4813185,-12.588755,-12.592746,-12.598183,-12.601514,-12.605245,-12.607268,-12.601737,-12.604004,-12.575132,-12.566699,-12.622573,-12.64395,-12.693109,-12.686383,-12.689302,-12.693964,-12.702049,-4.455424,-4.500554,-4.5245953,-4.502572,-4.474368,-4.486057,-4.509695,-4.490383,-4.501004,-12.741672,-12.730584,-12.720768,-12.712899,-12.705777,-4.4909625,-12.582784,-7.772678,-6.5011263,-3.3674958,-3.3550959,-3.335082,-3.3110378,-3.279724,-3.255746,-3.2368262,-3.2164986,-3.1980603,-7.034289,-7.0307884,-7.024665,-7.02291,-7.016479,-7.0143585,-7.004633,-7.00364,-6.907362,-6.911659,-6.914171,-6.922066,-6.9313474,-6.9508944,-3.3609216,-6.9543886,-6.959167,-6.881199,-7.056953,-7.0690613,-7.003894,-6.995931,-6.937448,-6.4944854,-3.4513583,-3.5591972,-6.5056415,-6.5033364,-6.5114083,-6.497747,-6.5402145,-6.4534397,-6.5823336,-6.4199743,-6.5660496,-6.4373937,-6.567196,-6.4363422,-6.4734116,-6.530201,-6.522304,-6.520511,-6.5162964,-3.5898514,-3.599462,-3.6149838,-3.6313822,-3.655155,-3.6725023,-3.4118586,-3.6912503,-3.710255,-3.7211049,-6.506608,-12.58323,-6.509968,-6.5126314,-3.707564,-6.646134,-6.4942656,-6.6727057,-11.488686,-11.493962,-11.541448,-11.582677,-11.618852,-11.634743,-11.665218,-11.6801605,-11.697442,-11.719231,-12.602369,-10.276347,-12.249383,-12.271911,-12.275326,-12.27593,-12.278963,-12.591946,-12.574806,-12.544037,-12.5264225,-12.498287,-12.465766,-11.488227,-12.353746,-12.307485,-12.310304,-12.313872,-12.300001,-12.279365,-12.279049,-12.324998,-11.468105,-11.453942,-11.435126,-10.184153,-10.126518,-10.125457,-10.1313925,-10.116956,-10.137307,-10.168398,-10.230445,-10.245341,-10.254513,-10.260332,-10.264302,-6.6536455,-10.270914,-10.2393875,-12.602706,-10.131929,-10.108532,-11.465913,-11.494829,-11.5049,-11.501384,-11.510155,-11.519584,-10.120377,-11.522954,-11.523628,-10.056873,-10.058357,-10.09454,-10.099854,-10.104149,-11.526211,-12.621621,-12.538041,-12.649904,-11.057987,-10.969161,-12.635144,-11.075278,-11.075504,-11.094991,-11.110252,-11.126005,-11.150814,-11.165586,-11.179498,-6.826387,-6.8270106,-6.8197427,-6.815521,-6.8132405,-6.8222556,-6.663469,-6.6779757,-6.7070384,-6.7313647,-6.752405,-6.7664614,-11.073925,-6.6411724,-6.7864666,-6.7523584,-6.8475103,-6.799237,-6.796687,-6.809765,-6.6579423,-11.045967,-11.010611,-10.880854,-6.2712283,-6.242697,-10.942151,-6.3315444,-6.3930116,-6.4191003,-6.2300706,-6.4092236,-6.408096,-6.4242034,-6.440276,-6.452863,-6.470821,-6.489297,-6.3989224,-6.1705914,-6.311255,-6.1018424,-10.88689,-10.885044,-10.863011,-6.1396585,-10.831796,-10.819251,-10.809159,-10.847757,-6.0864177,-6.0258517,-6.0452394,-6.060428,-10.797154,-6.0749745],\"y\":[-5.338931,7.5526757,-5.3389378,7.4911194,7.498668,7.5089335,7.516783,7.5270615,7.5425997,7.57556,-9.121053,7.604859,7.6281343,7.5943356,7.616609,7.720014,7.6796136,7.6983185,-5.338666,7.7037206,7.5908895,-5.3384795,-9.088736,-5.337511,7.7299924,-9.068581,-8.98877,-8.995386,-8.948546,-8.897854,-8.957765,-8.933621,-8.901395,-5.3376293,-8.883205,-8.851439,-8.839714,-8.833122,-8.823485,-8.816264,-5.338355,-5.3383346,-5.338294,-5.33751,-8.860111,7.7498493,-2.8932881,7.7829804,9.964531,9.942469,9.91978,9.901916,9.879738,9.858348,9.840317,9.825464,9.808388,9.997651,9.791074,9.755521,-2.8932602,-2.8932636,-2.8932633,-2.8932502,-2.8932543,-2.8932743,-2.8932629,-9.144808,9.777938,10.012891,10.03589,10.056206,7.7960234,7.808547,-9.269512,-9.269134,-9.269141,-9.2685375,-9.268595,-9.268373,-9.268275,-9.268372,-9.26836,-9.26832,-9.267836,-9.267895,10.151861,10.13916,10.125825,10.115063,10.101833,10.08645,10.072483,7.764657,-9.166348,5.7512646,-9.211006,-4.909662,-4.9904456,-5.0554857,-5.0589614,-5.061209,-5.0580783,-5.0534244,-5.054217,-5.0542984,-5.0468464,-1.9759413,-1.9575915,-1.9496801,-1.9390382,-1.9275278,-1.9148176,-1.903713,-1.5833349,-1.6067361,-1.6226239,-1.6454853,-1.6755569,-1.6836486,-4.972742,-1.7083553,-1.6868039,-1.7100375,-1.7429897,-1.7828578,-1.7925906,-1.8898157,-1.7572976,-1.5651882,-4.945443,-4.89939,7.163568,7.134961,7.11287,7.082967,7.0507984,7.017878,6.982971,6.9504337,6.9057803,6.854714,6.8046594,6.7748423,6.7564316,6.7178593,6.68198,6.650238,6.6202674,-4.894813,-4.985095,-4.9801035,-4.9625583,-4.953154,-4.940578,-4.9340763,-4.9323854,-4.92035,6.5017457,6.520168,6.5397797,6.5634813,6.585822,-4.9216533,7.1877937,-1.548936,-11.353903,-6.3637824,-6.4286923,-6.465847,-6.4779925,-6.483606,-6.4878254,-6.496818,-6.504214,-6.5136614,6.261936,6.240833,6.222274,6.2008014,6.1768265,6.15139,6.119789,6.107856,5.7668986,5.7798743,5.8126893,5.824801,5.8460097,5.8631263,-6.327437,5.8917866,5.98212,5.9979024,6.0240912,6.013848,6.002529,6.0758743,5.919272,-11.319883,-6.325243,-6.433719,-11.372729,-11.387951,-11.406909,-11.432052,-11.456938,-11.4595,-11.474541,-11.502484,-11.626357,-11.654519,-11.672529,-11.634055,-11.671919,-11.697945,-11.722749,-11.7445345,-11.763332,-6.362992,-6.371228,-6.339157,-6.2923827,-6.2838945,-6.261314,-6.324733,-6.2395144,-6.172849,-6.1545887,-11.821559,-9.187918,-11.801521,-11.782419,-6.223653,-10.623203,-11.33771,-10.589864,-4.953803,-4.9775634,-4.9564266,-4.935603,-4.9178877,-4.9082,-4.8915925,-4.87858,-4.8724957,-4.853556,-9.243774,1.0154729,-2.1444318,-2.1377778,-2.1248546,-2.11782,-2.1086586,-9.231732,-1.7891635,-1.803749,-1.8771132,-1.890139,-1.9582813,-4.934811,-1.8911633,-1.9538144,-2.0055246,-2.057608,-2.0730627,-2.066508,-2.089803,-1.911047,-4.9595227,-4.991864,-5.075593,1.0483582,1.0084136,0.99138385,0.97601646,1.0004958,1.0385484,1.1136537,1.0390995,1.0294081,1.0295541,1.0294808,1.0329312,-10.605697,1.0230119,1.0297425,-1.7777231,1.1207303,1.174705,-5.1402006,-5.1640425,-5.163821,-5.1725683,-5.176861,-5.1744084,1.1407758,-5.1898036,-5.204572,1.2694974,1.2539061,1.2531307,1.228421,1.206312,-5.196273,-1.7602925,-1.8406175,-1.7291608,-7.7230096,-7.6749964,-1.7424922,-7.768044,-7.7634063,-7.755678,-7.764277,-7.769281,-7.7746935,-7.783427,-7.7931523,-10.218522,-10.225897,-10.233471,-10.23702,-10.244498,-10.25475,-10.553995,-10.537444,-10.516339,-10.487687,-10.479532,-10.49606,-7.6106615,-10.4461975,-10.316842,-10.286941,-10.379551,-10.364731,-10.331175,-10.254551,-10.364146,-7.579098,-7.7449403,-7.6488023,0.56677306,0.47147897,-7.5417266,0.4542886,0.5079038,0.5415723,0.64817727,0.48260647,0.46161228,0.473512,0.48491743,0.48750275,0.48232594,0.47882354,0.46433944,0.6412331,0.47230336,0.6299924,-7.626596,-7.575935,-7.5577035,0.6356779,-7.526413,-7.5153275,-7.5023165,-7.5407567,0.6518741,0.6971468,0.68853986,0.6764864,-7.4909143,0.6687294],\"z\":[-2.6848075,-7.87582,-2.6847918,-7.987334,-7.9695816,-7.9525876,-7.9338293,-7.9135504,-7.8937488,-7.8623667,-4.7355704,-7.834842,-7.781642,-7.6767216,-7.6515393,-7.6660767,-7.6390185,-7.6222515,-2.6850486,-7.594752,-7.843488,-2.6855624,-4.725586,-2.6870253,-7.575666,-4.7007556,-4.6999383,-4.6618567,-4.6202283,-4.611819,-4.509867,-4.512041,-4.4774666,-2.686468,-4.443011,-4.3910575,-4.370656,-4.3468995,-4.326272,-4.30472,-2.6878102,-2.68768,-2.6875207,-2.687157,-4.418405,-7.559993,-6.3025618,-7.529363,-6.7880955,-6.7440534,-6.709115,-6.6699915,-6.633677,-6.5943246,-6.5642776,-6.5390863,-6.508412,-6.822586,-6.478741,-6.4195375,-6.3035736,-6.303433,-6.3032603,-6.30311,-6.3029375,-6.302744,-6.3024592,-4.749828,-6.454966,-6.853465,-6.8862457,-6.92046,-7.5123267,-7.493876,-8.381737,-8.3815155,-8.380994,-8.380925,-8.38048,-8.380382,-8.380121,-8.380006,-8.379901,-8.379828,-8.379801,-8.379613,-7.088233,-7.068315,-7.046892,-7.025421,-7.002216,-6.975356,-6.950336,-7.543812,-4.762524,-0.81347924,-4.791211,-5.3174706,-5.342626,-5.3643165,-5.385527,-5.4182363,-5.4345517,-5.458841,-5.4813504,-5.503151,-5.529931,1.141109,1.1569616,1.1792043,1.198576,1.2191988,1.2387587,1.2624462,1.631243,1.6154022,1.5921212,1.5741104,1.561305,1.532267,-5.3238306,1.5144321,1.3771935,1.3456231,1.3479953,1.2995162,1.2752763,1.2915152,1.4883487,1.6469661,-5.2964168,-5.205893,-2.4206803,-2.413838,-2.4110897,-2.404283,-2.3972406,-2.3925803,-2.3887687,-2.3706143,-2.3435235,-2.354467,-2.409757,-2.3852298,-2.3442223,-2.313533,-2.311039,-2.2954924,-2.281383,-5.150348,-5.108058,-5.085209,-5.0484395,-5.0075865,-4.9817233,-5.259717,-4.964285,-4.92298,-2.2434788,-2.2512233,-2.2618601,-2.2644453,-2.271997,-4.9416566,-2.4248707,1.6636448,2.2834888,0.95271564,0.9389216,0.926557,0.9349171,0.93619376,0.95204043,0.9683925,0.98043454,0.993812,-1.2792244,-1.264214,-1.2467247,-1.2310728,-1.2138425,-1.1984241,-1.19018,-1.1616206,-0.82823515,-0.8476048,-0.8608813,-0.8839667,-0.9001526,-0.9204675,0.876597,-0.9350178,-0.95632935,-1.0242518,-1.0086461,-1.0682207,-1.1570059,-1.1474159,-0.9612613,2.2533314,0.97467166,0.86962235,2.2966764,2.317368,2.3342965,2.3544161,2.373891,2.427068,2.4707377,2.4982626,2.4150908,2.4402504,2.4733105,2.57677,2.5870018,2.604266,2.6190786,2.6368177,2.6561272,0.9163762,0.8128336,0.7900889,0.79511416,0.77278316,0.7691325,0.78759575,0.76434577,0.7408074,0.7264783,2.702639,-4.774229,2.6892967,2.6738532,0.75979275,-3.6667502,2.2679574,-3.64304,-8.48357,-8.420498,-8.40353,-8.393415,-8.385163,-8.368432,-8.363479,-8.351426,-8.336462,-8.333126,-4.8190947,-8.850269,-3.0578966,-3.067245,-3.087606,-3.1162403,-3.1437588,-4.8016915,-3.3649557,-3.3647923,-3.3627753,-3.3472128,-3.3919828,-8.550026,-3.3636446,-3.3306587,-3.3163762,-3.2885551,-3.2515707,-3.200838,-3.1675959,-3.3432188,-8.57724,-8.604484,-8.589147,-8.4182205,-8.464309,-8.502466,-8.543705,-8.601955,-8.655143,-8.403582,-8.667415,-8.725924,-8.753115,-8.780115,-8.807007,-3.6530244,-8.828814,-8.696491,-3.365349,-8.3797655,-8.346275,-8.604694,-8.643901,-8.687626,-8.717935,-8.750394,-8.785371,-8.359077,-8.806911,-8.853453,-8.262375,-8.280425,-8.301468,-8.317777,-8.333053,-8.832514,-3.3686006,-3.3631957,-3.3931932,1.1063391,1.2652466,-3.3800354,1.2245941,1.2724127,1.30378,1.3255292,1.3477261,1.3613526,1.3787488,1.3954656,-3.1600902,-3.183459,-3.2037244,-3.228552,-3.252318,-3.2726216,-3.626404,-3.611329,-3.6042187,-3.59738,-3.5722277,-3.5219426,1.1090261,-3.459056,-3.4972687,-3.4558346,-3.368685,-3.3114607,-3.289402,-3.3066134,-3.4815667,1.0977424,1.2457844,1.0670859,-4.2470336,-4.2023053,1.14703,-4.186182,-4.1634145,-4.113449,-4.214616,-4.0706005,-3.9891129,-3.9617937,-3.937014,-3.915364,-3.9007618,-3.8868356,-4.0220604,-4.2091064,-4.215307,-4.232679,1.0238632,0.9997429,0.99076897,-4.228499,0.97255117,0.95894325,0.94445825,0.98123753,-4.2484875,-4.3316727,-4.3207526,-4.3059497,0.9309984,-4.2852077],\"type\":\"scatter3d\"},{\"customdata\":[[1045],[1053],[1052],[1051],[1050],[1048],[1047],[1054],[1044],[1046],[1049],[1055],[1099],[1057],[1088],[1089],[1090],[1091],[1092],[1093],[1094],[1095],[1096],[1097],[1098],[1043],[1087],[1100],[1102],[1103],[1104],[1128],[1129],[1130],[1131],[1132],[1133],[1134],[1135],[1136],[1101],[1056],[1086],[1084],[1058],[1059],[1060],[1061],[1062],[1063],[1064],[1065],[1066],[1067],[1068],[1069],[1085],[1070],[1072],[1073],[1074],[1075],[1076],[1077],[1078],[1079],[1080],[1081],[1082],[1083],[1071],[1042],[1019],[1040],[987],[988],[989],[990],[991],[992],[986],[993],[995],[996],[997],[998],[999],[1000],[994],[985],[984],[983],[969],[1137],[970],[971],[972],[973],[974],[975],[976],[977],[978],[979],[980],[981],[982],[1001],[1002],[1003],[1004],[1025],[1026],[1027],[1028],[1029],[1030],[1031],[1032],[1033],[1034],[1035],[1036],[1037],[1038],[1039],[1024],[1041],[1023],[1021],[1005],[1006],[1007],[1008],[1009],[1010],[1011],[1012],[1013],[1014],[1015],[1016],[1017],[1018],[1020],[1022],[1138],[1278],[1140],[1282],[1283],[1284],[1285],[1286],[1287],[1281],[1288],[1290],[1291],[1292],[1293],[1294],[1295],[1289],[1280],[1279],[1277],[1216],[1217],[1218],[1219],[1266],[1267],[1268],[1269],[1270],[1271],[1272],[1273],[1274],[1275],[1276],[1296],[1297],[1298],[1299],[1319],[1320],[1321],[1322],[1323],[1324],[1325],[1326],[1327],[1328],[1329],[1330],[1331],[1332],[968],[1318],[1215],[1317],[1315],[1300],[1301],[1302],[1303],[1304],[1305],[1306],[1307],[1308],[1309],[1310],[1311],[1312],[1313],[1314],[1316],[1139],[1214],[1212],[1160],[1161],[1162],[1163],[1164],[1165],[1159],[1166],[1168],[1169],[1170],[1171],[1172],[1173],[1167],[1158],[1157],[1156],[1141],[1142],[1143],[1144],[1145],[1146],[1147],[1148],[1149],[1150],[1151],[1152],[1153],[1154],[1155],[1174],[1175],[1176],[1177],[1197],[1198],[1199],[1200],[1201],[1202],[1203],[1204],[1205],[1206],[1207],[1208],[1209],[1210],[1211],[1196],[1213],[1195],[1193],[1178],[1179],[1180],[1181],[1182],[1183],[1184],[1185],[1186],[1187],[1188],[1189],[1190],[1191],[1192],[1194],[967],[698],[965],[746],[747],[748],[749],[750],[751],[752],[745],[753],[755],[756],[757],[758],[759],[760],[761],[754],[762],[744],[742],[703],[704],[705],[706],[707],[708],[709],[743],[710],[712],[713],[737],[738],[739],[740],[741],[711],[702],[763],[765],[786],[787],[788],[789],[790],[791],[792],[785],[793],[795],[796],[797],[798],[799],[800],[801],[794],[764],[784],[782],[766],[767],[768],[769],[770],[771],[772],[783],[773],[775],[776],[777],[778],[779],[780],[781],[774],[701],[700],[699],[642],[643],[644],[645],[646],[647],[648],[641],[649],[651],[652],[653],[654],[655],[656],[657],[650],[658],[640],[638],[622],[623],[624],[625],[626],[627],[628],[639],[629],[631],[632],[633],[634],[635],[636],[637],[630],[659],[660],[661],[683],[684],[685],[686],[687],[688],[689],[682],[690],[692],[693],[694],[695],[696],[697],[1333],[691],[681],[680],[679],[662],[663],[664],[665],[666],[667],[668],[669],[670],[671],[672],[673],[674],[675],[676],[677],[678],[802],[803],[804],[805],[908],[909],[910],[911],[912],[913],[914],[907],[915],[917],[918],[919],[920],[921],[922],[923],[916],[924],[906],[904],[888],[889],[890],[891],[892],[893],[894],[905],[895],[897],[898],[899],[900],[901],[902],[903],[896],[925],[926],[927],[949],[950],[951],[952],[953],[954],[955],[948],[956],[958],[959],[960],[961],[962],[963],[964],[957],[947],[946],[945],[928],[929],[930],[931],[932],[933],[934],[935],[936],[937],[938],[939],[940],[941],[942],[943],[944],[887],[966],[886],[884],[826],[827],[828],[829],[830],[831],[832],[825],[833],[835],[836],[837],[838],[839],[840],[841],[834],[842],[824],[822],[806],[807],[808],[809],[810],[811],[812],[823],[813],[815],[816],[817],[818],[819],[820],[821],[814],[843],[844],[845],[868],[869],[870],[871],[872],[873],[874],[867],[875],[877],[878],[879],[880],[881],[882],[883],[876],[866],[865],[864],[846],[847],[848],[849],[850],[851],[853],[854],[855],[856],[857],[858],[859],[860],[861],[862],[863],[885],[1334]],\"hovertemplate\":\"Cluster=Cluster 2\\u003cbr\\u003e0=%{x}\\u003cbr\\u003e1=%{y}\\u003cbr\\u003e2=%{z}\\u003cbr\\u003eFeature=%{customdata[0]}\\u003cextra\\u003e\\u003c\\u002fextra\\u003e\",\"legendgroup\":\"Cluster 2\",\"marker\":{\"color\":\"#00cc96\",\"opacity\":0.7,\"symbol\":\"circle\"},\"mode\":\"markers\",\"name\":\"Cluster 2\",\"scene\":\"scene\",\"showlegend\":true,\"x\":[5.517872,5.446996,5.4600797,5.4577928,5.486155,5.4215627,5.604965,5.418381,5.5196047,5.6131563,5.406655,5.404834,9.230517,5.374184,9.541569,9.525766,9.521095,9.506795,9.362384,9.340169,9.345961,9.313347,9.260077,9.250756,9.239611,5.5382724,9.56914,9.207972,9.164656,9.144746,9.123578,12.358849,12.35338,12.348294,12.330644,12.3220825,12.304774,12.325211,12.332117,12.404445,9.185496,5.3894725,9.589026,9.630586,5.3581424,2.7511377,2.7746956,2.7988098,2.8255198,2.852877,2.8793826,2.8946533,2.9174194,2.9099684,2.9801822,2.9937,9.609474,3.033994,3.0666575,3.1600492,3.1837456,3.2137387,3.2389262,3.2551253,3.2707114,3.2860706,3.3021133,3.3200188,9.672133,9.648925,3.1355057,5.558217,8.164489,5.633395,8.162978,8.1655655,8.169397,8.974847,8.969685,8.964591,8.16059,8.958743,8.938208,8.954318,8.966383,9.018898,9.018844,8.885855,8.950367,8.152789,8.141035,8.133939,8.093992,12.4405985,8.101904,8.101194,8.091471,8.087384,8.08208,8.086008,8.017328,8.17149,8.16454,8.223499,8.045096,8.11703,8.144763,9.0581665,8.860452,8.869957,8.932882,8.253868,8.098379,8.155437,8.181691,8.167912,8.160847,8.149377,8.162174,8.160936,8.151528,8.153272,5.6473207,5.641585,5.6344433,5.6306753,8.187427,5.6039157,8.245927,8.143481,8.949223,8.932685,8.941038,8.945619,8.948942,8.953962,8.956736,8.95825,8.164023,8.179696,8.180277,8.180338,8.174883,8.174501,8.169224,8.2344265,12.272848,8.07398,12.274276,8.012825,8.014841,8.015957,8.0147085,8.016631,8.015724,8.010345,8.012002,11.495389,11.492018,11.491187,11.484557,11.491233,11.504342,11.4975815,8.006136,7.9531646,8.067622,13.14273,13.146703,13.147497,13.152016,7.891611,7.894622,7.8994074,7.905677,7.9139996,7.9271717,7.9459715,7.9512806,7.988708,7.869639,7.86082,11.518665,11.4641485,11.5992155,11.433244,13.625521,13.601102,13.607482,13.61277,13.578177,13.519696,13.409038,13.391642,13.379874,13.368375,13.345759,13.33998,13.323239,13.310108,8.09458,13.662122,13.134794,13.692699,13.723332,11.500256,11.611038,11.552519,11.523255,11.492418,11.493363,11.49547,11.506915,11.510935,11.514071,11.521383,11.525008,13.792983,13.773417,13.749696,13.703178,12.427384,13.125746,13.142174,5.178132,5.1886864,5.0944347,5.2250967,5.1818643,5.199728,5.0436482,5.2519608,5.296648,5.3093567,5.3253694,5.338838,5.352423,5.3648696,5.276126,5.0515804,5.0440154,5.0034223,12.365594,12.384965,12.361021,12.346531,12.3502655,12.364797,12.381875,12.39173,12.402795,12.402703,4.922462,4.938508,4.9593205,4.9739256,4.99079,7.0570354,7.080717,7.105899,7.1312003,13.139276,13.133377,13.131773,13.126919,13.119002,13.114949,13.1226,13.139826,13.156944,13.137077,13.028322,13.025519,13.148256,13.104,13.188744,7.726112,13.118405,7.7040825,7.6590447,7.1594887,7.186701,7.2169785,7.2495193,7.275563,7.307721,7.350192,7.407595,7.4547544,7.4707146,7.5042105,7.5454526,7.580294,7.6102443,7.6346555,7.681487,8.092582,-10.859816,2.794546,4.014309,4.0010023,4.0048146,4.0248785,4.053518,4.0718017,4.1009345,3.969061,4.122196,4.144388,4.1564603,4.170868,4.186965,4.198604,0.80295795,0.7876261,4.128091,0.77392244,3.948912,3.9075246,-11.006616,-11.012423,-11.004336,-11.057241,-11.093622,-11.117991,-11.146453,3.931033,-11.163507,-11.19491,-11.224455,3.8204796,3.8301086,3.8486247,3.862693,3.8841035,-11.174126,-10.914466,0.7523455,0.7155475,4.3804607,4.371994,4.3554816,4.3490176,4.32754,4.2959843,4.264472,4.3859677,4.3928547,4.256248,4.2076554,4.252249,4.24979,4.2323484,4.230826,4.223522,4.4049573,0.7351615,4.397118,0.2733291,0.6931678,0.68692726,0.69334054,0.6511165,0.62186015,0.5935781,0.5892824,4.405667,0.55623746,0.41929263,0.40055165,0.3864394,0.35933995,0.33758718,0.3150695,0.29274705,0.44498754,-10.888291,-10.865253,-10.922883,-7.075997,-7.0820093,-7.0811086,-9.626614,-9.645144,-9.666532,-9.687452,-7.0587535,-9.708882,-9.759583,-9.786332,-9.836695,-9.846775,-9.85318,-9.891173,-9.8955,-9.73213,-9.927462,-7.044357,-7.0042353,-6.6625323,-6.6777935,-6.6949854,-6.7066917,-6.723168,-6.7471747,-6.761988,-7.0244017,-6.7831974,-6.896404,-6.914845,-6.9319606,-6.958139,-6.949704,-6.95015,-6.9673815,-6.8215394,-9.976519,-10.05391,-10.078565,-7.3280997,-7.36551,-7.393027,-7.418109,-7.434487,-7.448907,-7.4644146,-7.290942,-7.462427,-10.739046,-10.752032,-10.769209,-10.788264,-10.808372,-10.851431,13.289032,-10.725351,-7.366274,-7.331891,-7.2800875,-10.101667,-10.127647,-10.148202,-10.153801,-10.173471,-10.205449,-7.0202837,-7.0329375,-7.0415,-7.057956,-7.0748687,-7.09445,-7.114032,-7.1372395,-7.1851106,-7.155501,-7.1813684,4.21619,4.210213,4.203932,4.195557,7.7027745,7.6761465,7.694624,7.6719766,7.684105,7.689512,7.6851463,7.749974,7.673185,7.6467953,7.6213055,7.614794,7.60472,0.9488351,0.9369418,0.92751986,7.660351,0.9073482,7.8134565,7.9002576,5.360405,5.384746,5.4417267,5.4198813,5.3989334,5.386764,5.3769608,7.876022,5.370634,5.3543863,8.010553,7.9928436,7.9769664,7.959025,7.9368706,7.9209723,5.362785,0.8953246,0.8852075,0.87446094,2.9873304,2.984689,2.9668553,2.9453588,2.8589213,2.8768165,2.896827,2.983379,2.9921875,2.8687139,2.89164,2.8867617,2.867658,2.849215,2.826468,2.8061614,2.7963758,2.976773,2.973252,2.9707584,0.86565506,0.82547444,0.8900462,0.90150046,0.8683376,0.85530573,0.7496511,0.70796233,0.69980854,0.6780874,0.66125876,0.6385104,0.6196215,0.6071792,0.59193444,0.5772025,2.9734583,5.377208,2.7823284,5.3971977,5.510832,9.505079,9.494874,9.487328,1.1777753,1.1953326,1.2117968,1.2253029,9.511692,1.2388686,1.2729633,1.2906188,1.3473727,1.4052465,1.3841548,1.4344068,1.4186898,1.2590998,1.5129966,9.522284,9.536477,9.70282,9.69461,9.6873865,9.682446,9.675891,9.6710005,9.666552,9.530462,9.659269,9.627241,9.606949,9.583785,9.571606,9.56608,9.539797,9.538004,9.643699,1.5078976,1.4474524,1.4669585,2.3654673,2.3511515,2.3401945,2.328428,2.3161047,2.3023164,2.2908258,2.3793495,5.6183963,5.617523,5.603493,5.5916533,5.5753284,5.563486,5.5458665,5.545793,5.6305876,2.3939812,2.4101992,2.4269145,1.4926639,1.5027978,1.5157715,1.5263278,1.5358132,1.5439348,2.577099,2.5652924,2.5535572,2.5413923,2.529217,2.5159056,2.5047653,2.4912863,2.4764216,2.4595976,2.4437768,5.402677,13.273262],\"y\":[0.29582956,0.092349045,0.124072835,0.16043414,0.19827887,0.3018784,0.2434207,0.07852736,0.34448105,0.26294696,0.25572124,0.05797348,-2.9903374,0.020200344,-2.8455522,-2.9026513,-2.9051235,-2.9191413,-2.8506851,-2.8233047,-2.9997337,-3.0096927,-2.9555223,-2.951142,-2.9688628,0.40044665,-2.8324854,-3.0092766,-3.0425532,-3.0562074,-3.0652053,-0.14985332,-0.17282918,-0.20168039,-0.22957814,-0.2558452,-0.28498664,-0.31327358,-0.34170562,-0.3683487,-3.02788,0.037882537,-2.8306706,-2.8214233,-0.0008523696,-1.7475953,-1.7424015,-1.7336237,-1.7268251,-1.7162514,-1.7007588,-1.6883528,-1.6975857,-1.6286545,-1.7315841,-1.5487535,-2.8299773,-1.5337331,-1.5901055,-1.6536529,-1.6038079,-1.5763073,-1.5653057,-1.554007,-1.5452837,-1.538905,-1.5336137,-1.5259455,-2.8119297,-2.819609,-1.6751205,0.4246295,2.862254,0.47103766,6.552831,6.574356,6.5945992,3.4563549,3.4402168,3.4242642,6.5317535,3.4037502,3.3656068,3.364713,3.3702998,3.3841803,3.3946118,3.3864837,3.3881125,6.512288,6.491886,6.4658422,6.0757065,-0.40553713,6.094241,6.1123323,6.135793,6.1575584,6.19063,6.1859827,6.2619877,6.226333,6.3652935,6.3562737,6.405634,6.395567,6.4330883,3.3026464,3.2508638,3.2908797,3.2765403,2.938866,2.9196806,2.9730556,2.9728646,2.9866338,2.9838574,2.984071,2.9993408,3.0044994,3.0138993,3.0208902,0.547122,0.5303281,0.51483184,0.49447292,3.0025902,0.4243242,2.8582442,2.8656273,3.207246,3.195838,3.187325,3.184255,3.1815057,3.1814895,3.175483,3.17127,2.7988842,2.8116696,2.8168576,2.8252017,2.8319285,2.8496168,2.8671257,2.9203703,-0.45165607,-10.381801,-0.5420887,-10.259432,-10.248977,-10.243504,-10.243006,-10.244612,-10.240126,-10.282274,-10.224894,-8.7997675,-8.776241,-8.754366,-8.731909,-8.707499,-8.686418,-8.821833,-10.279953,-10.415625,-10.402473,-1.700216,-1.6974168,-1.7001184,-1.7071934,-10.568503,-10.552998,-10.537263,-10.51512,-10.494443,-10.476743,-10.460005,-10.445471,-10.479219,-10.394428,-10.378373,-8.655657,-8.622328,-8.579807,-8.5162,-6.84786,-6.8578844,-6.816218,-6.6768994,-6.7339153,-6.646045,-6.7700844,-6.7071843,-6.682624,-6.644995,-6.6532397,-6.6314297,-6.6162043,-6.600085,6.059301,-6.8417134,-1.6796939,-6.84664,-6.885062,-8.5362625,-8.4781685,-8.40902,-8.376361,-8.365417,-8.333753,-8.294032,-8.275412,-8.24498,-8.221842,-8.200713,-8.1774235,-6.9157286,-6.9044538,-6.8957806,-6.853071,-0.49563187,-1.6754876,-1.6614305,-6.7251983,-6.681834,-6.548767,-6.608923,-6.531046,-6.4965215,-6.6693654,-6.4855156,-6.443626,-6.420463,-6.4023743,-6.383484,-6.365135,-6.334982,-6.4640117,-6.7199807,-6.75249,-6.7536235,-0.577965,-0.59722835,-0.6475482,-0.6771706,-0.7026519,-0.72495764,-0.75101787,-0.77399445,-0.7966411,-0.8194487,-6.853787,-6.836553,-6.8211317,-6.799398,-6.7791023,-3.9655893,-3.968218,-3.970538,-3.9723165,-1.4916265,-1.4962791,-1.5041013,-1.5150857,-1.5214815,-1.542833,-1.5785091,-1.6065918,-1.6364274,-1.5195351,-1.6118841,-1.6568639,-1.7018265,-1.5617833,-1.607829,-4.033393,-1.6732116,-4.0331235,-4.0292716,-3.9739366,-3.9698346,-3.9803092,-3.9792778,-3.9813292,-4.005918,-3.9645944,-3.8921978,-3.9282074,-4.088061,-4.0791497,-4.0485325,-4.0326834,-4.0224776,-4.0262227,-4.030146,6.04021,4.944862,4.403101,-12.789401,-12.8338175,-12.974909,-13.0128145,-13.022648,-13.024571,-12.900884,-12.874389,-12.828834,-12.915964,-12.916291,-12.906899,-12.938069,-12.986601,-7.863458,-7.856051,-12.884751,-7.8484683,-12.767147,-12.742151,4.942331,4.9064054,4.7727623,4.793235,4.7953935,4.7835712,4.771617,-12.759639,4.7414565,4.7194715,4.7077737,-12.7257185,-12.72022,-12.736919,-12.73681,-12.730401,4.7201777,4.9124184,-7.8356237,-7.8160634,-7.5703545,-7.569993,-7.5696154,-7.571293,-7.555316,-7.5294676,-7.603611,-7.569731,-7.527246,-7.460536,-7.5246615,-7.548934,-7.514786,-7.5533385,-7.558942,-7.5614824,-7.568225,-7.8252845,-7.570119,-7.701621,-7.801919,-7.794943,-7.777486,-7.678122,-7.6352925,-7.624682,-7.658938,-7.5752273,-7.719737,-7.699981,-7.712792,-7.7216883,-7.7163367,-7.7128944,-7.7065516,-7.705074,-7.6665235,4.8019223,4.833685,4.9790235,2.1477911,2.1226757,2.0854325,3.9365306,3.9385939,3.9430656,3.9420547,2.1655982,3.9409244,3.9471078,3.9516087,4.0097337,3.856286,4.0470657,4.051153,3.881434,3.9461222,3.9704344,2.1869473,2.2243435,2.613225,2.5972579,2.5821135,2.561493,2.5409167,2.5142865,2.4928463,2.2058315,2.4740677,2.4597278,2.417828,2.4121437,2.3849978,2.329934,2.2528574,2.2322445,2.447055,3.8938396,3.9809716,3.935274,7.3033686,7.3106666,7.3168435,7.3261847,7.338275,7.3501005,7.359328,7.2746243,7.398766,5.014368,5.0031366,4.9924016,4.9814925,4.9697027,4.9569793,-6.585205,5.0229645,7.239355,7.2864757,7.3176847,3.9256835,3.9259322,3.9318268,3.9443648,3.9582348,3.9304957,7.1366305,7.1462994,7.158108,7.166299,7.1752872,7.180706,7.191577,7.2116547,7.1432776,7.1709137,7.1739845,-7.5664835,-7.576148,-7.5824747,-7.576826,-3.6959565,-3.6831717,-3.709347,-3.5721889,-3.5490615,-3.5311012,-3.5375595,-3.6797285,-3.5339153,-3.507013,-3.5006084,-3.490667,-3.4766366,-3.2066438,-3.1979296,-3.1830812,-3.5216424,-3.1569853,-3.7260208,-3.71008,-1.5864527,-1.5238944,-1.5122994,-1.4845376,-1.4803791,-1.4480302,-1.4296395,-3.7072632,-1.4135168,-1.3721806,-3.7790174,-3.7709053,-3.7580392,-3.748699,-3.735385,-3.7239807,-1.3883107,-3.1410127,-3.123099,-3.1052523,4.851993,4.829367,4.811485,4.7541895,4.7413783,4.754458,4.718408,4.8791633,4.609985,4.5446754,4.527432,4.5042977,4.482335,4.460989,4.4401193,4.4227004,4.6155286,4.906588,4.929863,4.953149,-3.1012871,-3.1254864,-3.0583694,-2.9864962,-3.0066166,-2.9436882,-3.0145373,-2.981639,-2.9001467,-2.8774784,-2.8616505,-2.8472538,-2.8278139,-2.8126779,-2.7965949,-2.7822857,4.9758954,-1.6726671,4.3851943,-1.7078089,-1.7317705,-10.397877,-10.404193,-10.4134865,-3.1480777,-3.1357825,-3.1219199,-3.1074162,-10.387668,-3.0958495,-3.0455942,-3.0288014,-3.036375,-3.0371513,-3.0021698,-2.9890025,-2.940463,-3.064106,-2.908671,-10.372994,-10.354803,-10.161893,-10.169009,-10.179727,-10.188602,-10.198889,-10.209784,-10.218185,-10.374303,-10.224091,-10.246127,-10.295782,-10.323832,-10.325256,-10.299311,-10.328913,-10.347657,-10.241132,-2.8563502,-2.7926483,-2.762056,3.8057826,3.8015246,3.7892063,3.7759976,3.771865,3.7619796,3.7595391,3.8148444,-1.8202999,-1.7775342,-1.7625309,-1.74758,-1.7360408,-1.7208554,-1.7118529,-1.7234722,-1.7960185,3.8232946,3.8319378,3.845481,-2.7429852,-2.7201385,-2.6992247,-2.6781678,-2.6559703,-2.6343563,3.9613965,3.9447503,3.9392505,3.934261,3.925929,3.9162395,3.906407,3.8950205,3.8811104,3.8699095,3.8683157,-1.7150135,-6.57312],\"z\":[-7.5260606,-7.743625,-7.7448616,-7.738039,-7.750302,-7.70095,-7.676252,-7.754319,-7.530746,-7.634822,-7.6969843,-7.763445,-12.817323,-7.776042,-13.015462,-13.02355,-12.951509,-12.897767,-13.029205,-12.959054,-13.013735,-12.981616,-12.949325,-12.880394,-12.844461,-7.5617847,-13.013918,-12.814135,-12.806244,-12.801505,-12.796872,-7.777643,-7.775083,-7.7604656,-7.7503543,-7.7441516,-7.7527347,-7.770646,-7.761531,-7.717646,-12.808823,-7.768225,-13.039354,-13.0696,-7.7807674,-13.388122,-13.392449,-13.393739,-13.394162,-13.39303,-13.394214,-13.422593,-13.455855,-13.508037,-13.533237,-13.456903,-13.060663,-13.46131,-13.622382,-13.579849,-13.579093,-13.569238,-13.575284,-13.59822,-13.620083,-13.641449,-13.659764,-13.672185,-13.092568,-13.08968,-13.455651,-7.552187,-1.9637094,-7.563262,-7.119293,-7.1069508,-7.09578,-12.8009615,-12.817972,-12.835606,-7.1334295,-12.851989,-12.890327,-12.92818,-12.965321,-13.016622,-13.064382,-13.096255,-12.87082,-7.149956,-7.1657662,-7.1843586,-7.4468646,-7.714634,-7.433295,-7.4158163,-7.400631,-7.3803062,-7.367502,-7.295158,-7.321688,-7.2353773,-7.3733134,-7.3047028,-7.2636223,-7.1906114,-7.192646,-13.105103,-13.116483,-13.179234,-13.222166,-1.7454737,-1.680476,-1.6655058,-1.6372681,-1.6061691,-1.5729642,-1.5417931,-1.5169361,-1.4915338,-1.4647318,-1.4473622,-7.4989614,-7.514772,-7.5316925,-7.545764,-1.8092927,-7.5309324,-1.8089167,-1.8924319,-13.223647,-13.2528925,-13.279284,-13.313177,-13.339841,-13.367785,-13.391577,-13.415073,-2.1063156,-2.0863647,-2.0646322,-2.0422964,-2.0187283,-1.9965436,-1.9301952,-1.8732439,-7.681237,-3.8289535,-7.784536,-3.7182643,-3.6812954,-3.6506174,-3.6215794,-3.595752,-3.5698693,-3.7395804,-3.5448666,-9.187315,-9.178785,-9.165883,-9.150619,-9.13378,-9.113949,-9.196725,-3.7802866,-3.7337892,-3.859984,0.5964426,0.6219651,0.64564365,0.66822183,-4.12409,-4.1067543,-4.0894194,-4.0745425,-4.0585027,-4.0406933,-4.0209,-3.994797,-3.9403603,-3.9170103,-3.8743114,-9.109847,-9.095764,-9.108516,-9.157925,-3.8855112,-3.8280766,-3.7666342,-3.8431854,-3.7323332,-3.8571155,-3.804826,-3.8320582,-3.7945373,-3.773115,-3.7521796,-3.72085,-3.7078276,-3.692286,-7.4638085,-3.8994405,0.5542553,-3.9023645,-3.9428818,-8.982899,-9.049857,-9.13463,-9.104324,-9.016049,-9.012671,-9.000644,-8.98125,-8.985097,-8.983978,-8.979729,-8.976819,-3.9522445,-3.9470098,-3.9435937,-3.9212613,-7.8185034,0.5239745,0.4646392,-9.48107,-9.379764,-9.376363,-9.36946,-9.54344,-9.52918,-9.472531,-9.487034,-9.449191,-9.452658,-9.457292,-9.46089,-9.462798,-9.452132,-9.473888,-9.457971,-9.437933,-9.4331455,-7.82135,-7.658459,-7.750295,-7.7366877,-7.7171392,-7.692324,-7.6913223,-7.690837,-7.689207,-7.662769,-9.443655,-9.4450245,-9.442483,-9.4383,-9.435537,-3.459374,-3.4578006,-3.4591486,-3.4645371,0.011823829,0.035002723,0.05725418,0.07827814,0.09660165,0.11903163,0.14167078,0.17022403,0.19973889,0.27164447,0.28827924,0.3157084,0.3342396,0.42119977,0.4435466,-3.362473,0.49275178,-3.3736393,-3.3938162,-3.4758623,-3.479048,-3.4558618,-3.466791,-3.4092739,-3.3391929,-3.327095,-3.4085815,-3.4849231,-3.4629962,-3.4084554,-3.4062142,-3.4105663,-3.4213047,-3.4058309,-3.3833544,-7.475751,8.847395,-11.362476,9.592657,9.542872,9.534097,9.504725,9.476167,9.441198,9.408685,9.628008,9.389361,9.341577,9.314765,9.292898,9.277776,9.256577,13.459058,13.442911,9.357483,13.423886,9.63217,9.685523,9.005035,9.036854,9.00475,9.021216,9.030896,9.040726,9.040852,9.665406,9.071262,9.094043,9.084088,9.802364,9.780072,9.764361,9.740693,9.717027,9.08098,9.022355,13.418298,13.383746,9.419021,9.39719,9.373909,9.347117,9.322105,9.29604,9.263844,9.452913,9.183642,9.143981,9.1154375,9.057018,9.02669,8.990128,8.961207,8.934667,9.137143,13.398651,9.474281,13.085107,13.372059,13.3302555,13.260927,13.300756,13.285147,13.262836,13.181558,9.494238,13.136374,13.2097845,13.172272,13.137381,13.130841,13.118236,13.107725,13.097582,13.251312,8.8932085,8.8797035,8.863149,10.223262,10.214569,10.182809,13.865961,13.85251,13.841595,13.829389,10.224521,13.81713,13.79645,13.78228,13.791624,13.741304,13.673472,13.659695,13.590426,13.8053255,13.568039,10.226564,10.230687,10.300694,10.302414,10.3019285,10.299925,10.281223,10.2828,10.273567,10.22611,10.244528,10.324855,10.338231,10.164329,10.163672,10.15317,10.278602,10.242061,10.335416,13.577001,13.632309,13.615553,11.215024,11.21859,11.23052,11.239403,11.253947,11.272131,11.286913,11.217764,11.302274,8.768282,8.7843275,8.797711,8.810061,8.821702,8.818522,-3.6868756,8.750359,11.089159,11.04052,11.019424,13.599088,13.578637,13.562162,13.5306,13.526128,13.534576,10.8725605,10.890322,10.912799,10.928682,10.9448805,10.963249,10.979002,10.992652,11.034477,11.112992,11.142129,8.910088,8.886378,8.862413,8.839803,9.5999365,9.573416,9.479788,9.537559,9.480714,9.438015,9.390364,9.630627,9.361541,9.324847,9.308998,9.287473,9.27111,16.08481,16.064877,16.049232,9.34097,16.045061,9.602372,9.632721,13.737089,13.72636,13.645096,13.639351,13.604851,13.586997,13.574001,9.61146,13.558006,13.541043,9.71501,9.70221,9.689145,9.674477,9.665601,9.646976,13.553779,16.028711,16.011103,15.989684,-11.554738,-11.535561,-11.510117,-11.5699415,-11.560013,-11.413706,-11.378473,-11.569033,-11.458167,-11.507171,-11.425324,-11.399843,-11.386256,-11.378167,-11.378127,-11.370858,-11.48617,-11.579642,-11.60866,-11.618617,15.950658,15.8963785,15.84252,15.840024,15.7764,15.789343,15.747137,15.7571535,15.79413,15.789813,15.769726,15.762533,15.73017,15.7222805,15.715168,15.703368,-11.624744,13.700517,-11.354107,13.710292,13.732147,5.7260065,5.7011647,5.6773343,9.934286,9.943296,9.953154,9.967445,5.748212,9.9803,10.008344,10.031087,10.060147,10.089852,10.170254,10.171129,10.195373,9.989392,10.0719595,5.772464,5.8459563,6.331438,6.3148003,6.2943277,6.271757,6.249029,6.220482,6.1923556,5.8047466,6.152566,6.0937033,6.067992,6.037832,5.994511,5.9382744,5.9127812,5.8782063,6.1263556,10.074492,10.137879,10.121606,15.726952,15.704907,15.685399,15.667815,15.64859,15.629147,15.610134,15.749316,13.984608,13.943909,13.929439,13.912867,13.894404,13.872435,13.847056,13.778922,13.969164,15.772947,15.798276,15.824399,10.12871,10.134864,10.139617,10.143531,10.147278,10.151908,16.064423,16.046993,16.028704,16.009823,15.989933,15.970457,15.949294,15.927068,15.904876,15.879883,15.851979,13.758035,-3.6750822],\"type\":\"scatter3d\"}],                        {\"template\":{\"data\":{\"histogram2dcontour\":[{\"type\":\"histogram2dcontour\",\"colorbar\":{\"outlinewidth\":0,\"ticks\":\"\"},\"colorscale\":[[0.0,\"#0d0887\"],[0.1111111111111111,\"#46039f\"],[0.2222222222222222,\"#7201a8\"],[0.3333333333333333,\"#9c179e\"],[0.4444444444444444,\"#bd3786\"],[0.5555555555555556,\"#d8576b\"],[0.6666666666666666,\"#ed7953\"],[0.7777777777777778,\"#fb9f3a\"],[0.8888888888888888,\"#fdca26\"],[1.0,\"#f0f921\"]]}],\"choropleth\":[{\"type\":\"choropleth\",\"colorbar\":{\"outlinewidth\":0,\"ticks\":\"\"}}],\"histogram2d\":[{\"type\":\"histogram2d\",\"colorbar\":{\"outlinewidth\":0,\"ticks\":\"\"},\"colorscale\":[[0.0,\"#0d0887\"],[0.1111111111111111,\"#46039f\"],[0.2222222222222222,\"#7201a8\"],[0.3333333333333333,\"#9c179e\"],[0.4444444444444444,\"#bd3786\"],[0.5555555555555556,\"#d8576b\"],[0.6666666666666666,\"#ed7953\"],[0.7777777777777778,\"#fb9f3a\"],[0.8888888888888888,\"#fdca26\"],[1.0,\"#f0f921\"]]}],\"heatmap\":[{\"type\":\"heatmap\",\"colorbar\":{\"outlinewidth\":0,\"ticks\":\"\"},\"colorscale\":[[0.0,\"#0d0887\"],[0.1111111111111111,\"#46039f\"],[0.2222222222222222,\"#7201a8\"],[0.3333333333333333,\"#9c179e\"],[0.4444444444444444,\"#bd3786\"],[0.5555555555555556,\"#d8576b\"],[0.6666666666666666,\"#ed7953\"],[0.7777777777777778,\"#fb9f3a\"],[0.8888888888888888,\"#fdca26\"],[1.0,\"#f0f921\"]]}],\"heatmapgl\":[{\"type\":\"heatmapgl\",\"colorbar\":{\"outlinewidth\":0,\"ticks\":\"\"},\"colorscale\":[[0.0,\"#0d0887\"],[0.1111111111111111,\"#46039f\"],[0.2222222222222222,\"#7201a8\"],[0.3333333333333333,\"#9c179e\"],[0.4444444444444444,\"#bd3786\"],[0.5555555555555556,\"#d8576b\"],[0.6666666666666666,\"#ed7953\"],[0.7777777777777778,\"#fb9f3a\"],[0.8888888888888888,\"#fdca26\"],[1.0,\"#f0f921\"]]}],\"contourcarpet\":[{\"type\":\"contourcarpet\",\"colorbar\":{\"outlinewidth\":0,\"ticks\":\"\"}}],\"contour\":[{\"type\":\"contour\",\"colorbar\":{\"outlinewidth\":0,\"ticks\":\"\"},\"colorscale\":[[0.0,\"#0d0887\"],[0.1111111111111111,\"#46039f\"],[0.2222222222222222,\"#7201a8\"],[0.3333333333333333,\"#9c179e\"],[0.4444444444444444,\"#bd3786\"],[0.5555555555555556,\"#d8576b\"],[0.6666666666666666,\"#ed7953\"],[0.7777777777777778,\"#fb9f3a\"],[0.8888888888888888,\"#fdca26\"],[1.0,\"#f0f921\"]]}],\"surface\":[{\"type\":\"surface\",\"colorbar\":{\"outlinewidth\":0,\"ticks\":\"\"},\"colorscale\":[[0.0,\"#0d0887\"],[0.1111111111111111,\"#46039f\"],[0.2222222222222222,\"#7201a8\"],[0.3333333333333333,\"#9c179e\"],[0.4444444444444444,\"#bd3786\"],[0.5555555555555556,\"#d8576b\"],[0.6666666666666666,\"#ed7953\"],[0.7777777777777778,\"#fb9f3a\"],[0.8888888888888888,\"#fdca26\"],[1.0,\"#f0f921\"]]}],\"mesh3d\":[{\"type\":\"mesh3d\",\"colorbar\":{\"outlinewidth\":0,\"ticks\":\"\"}}],\"scatter\":[{\"fillpattern\":{\"fillmode\":\"overlay\",\"size\":10,\"solidity\":0.2},\"type\":\"scatter\"}],\"parcoords\":[{\"type\":\"parcoords\",\"line\":{\"colorbar\":{\"outlinewidth\":0,\"ticks\":\"\"}}}],\"scatterpolargl\":[{\"type\":\"scatterpolargl\",\"marker\":{\"colorbar\":{\"outlinewidth\":0,\"ticks\":\"\"}}}],\"bar\":[{\"error_x\":{\"color\":\"#2a3f5f\"},\"error_y\":{\"color\":\"#2a3f5f\"},\"marker\":{\"line\":{\"color\":\"#E5ECF6\",\"width\":0.5},\"pattern\":{\"fillmode\":\"overlay\",\"size\":10,\"solidity\":0.2}},\"type\":\"bar\"}],\"scattergeo\":[{\"type\":\"scattergeo\",\"marker\":{\"colorbar\":{\"outlinewidth\":0,\"ticks\":\"\"}}}],\"scatterpolar\":[{\"type\":\"scatterpolar\",\"marker\":{\"colorbar\":{\"outlinewidth\":0,\"ticks\":\"\"}}}],\"histogram\":[{\"marker\":{\"pattern\":{\"fillmode\":\"overlay\",\"size\":10,\"solidity\":0.2}},\"type\":\"histogram\"}],\"scattergl\":[{\"type\":\"scattergl\",\"marker\":{\"colorbar\":{\"outlinewidth\":0,\"ticks\":\"\"}}}],\"scatter3d\":[{\"type\":\"scatter3d\",\"line\":{\"colorbar\":{\"outlinewidth\":0,\"ticks\":\"\"}},\"marker\":{\"colorbar\":{\"outlinewidth\":0,\"ticks\":\"\"}}}],\"scattermapbox\":[{\"type\":\"scattermapbox\",\"marker\":{\"colorbar\":{\"outlinewidth\":0,\"ticks\":\"\"}}}],\"scatterternary\":[{\"type\":\"scatterternary\",\"marker\":{\"colorbar\":{\"outlinewidth\":0,\"ticks\":\"\"}}}],\"scattercarpet\":[{\"type\":\"scattercarpet\",\"marker\":{\"colorbar\":{\"outlinewidth\":0,\"ticks\":\"\"}}}],\"carpet\":[{\"aaxis\":{\"endlinecolor\":\"#2a3f5f\",\"gridcolor\":\"white\",\"linecolor\":\"white\",\"minorgridcolor\":\"white\",\"startlinecolor\":\"#2a3f5f\"},\"baxis\":{\"endlinecolor\":\"#2a3f5f\",\"gridcolor\":\"white\",\"linecolor\":\"white\",\"minorgridcolor\":\"white\",\"startlinecolor\":\"#2a3f5f\"},\"type\":\"carpet\"}],\"table\":[{\"cells\":{\"fill\":{\"color\":\"#EBF0F8\"},\"line\":{\"color\":\"white\"}},\"header\":{\"fill\":{\"color\":\"#C8D4E3\"},\"line\":{\"color\":\"white\"}},\"type\":\"table\"}],\"barpolar\":[{\"marker\":{\"line\":{\"color\":\"#E5ECF6\",\"width\":0.5},\"pattern\":{\"fillmode\":\"overlay\",\"size\":10,\"solidity\":0.2}},\"type\":\"barpolar\"}],\"pie\":[{\"automargin\":true,\"type\":\"pie\"}]},\"layout\":{\"autotypenumbers\":\"strict\",\"colorway\":[\"#636efa\",\"#EF553B\",\"#00cc96\",\"#ab63fa\",\"#FFA15A\",\"#19d3f3\",\"#FF6692\",\"#B6E880\",\"#FF97FF\",\"#FECB52\"],\"font\":{\"color\":\"#2a3f5f\"},\"hovermode\":\"closest\",\"hoverlabel\":{\"align\":\"left\"},\"paper_bgcolor\":\"white\",\"plot_bgcolor\":\"#E5ECF6\",\"polar\":{\"bgcolor\":\"#E5ECF6\",\"angularaxis\":{\"gridcolor\":\"white\",\"linecolor\":\"white\",\"ticks\":\"\"},\"radialaxis\":{\"gridcolor\":\"white\",\"linecolor\":\"white\",\"ticks\":\"\"}},\"ternary\":{\"bgcolor\":\"#E5ECF6\",\"aaxis\":{\"gridcolor\":\"white\",\"linecolor\":\"white\",\"ticks\":\"\"},\"baxis\":{\"gridcolor\":\"white\",\"linecolor\":\"white\",\"ticks\":\"\"},\"caxis\":{\"gridcolor\":\"white\",\"linecolor\":\"white\",\"ticks\":\"\"}},\"coloraxis\":{\"colorbar\":{\"outlinewidth\":0,\"ticks\":\"\"}},\"colorscale\":{\"sequential\":[[0.0,\"#0d0887\"],[0.1111111111111111,\"#46039f\"],[0.2222222222222222,\"#7201a8\"],[0.3333333333333333,\"#9c179e\"],[0.4444444444444444,\"#bd3786\"],[0.5555555555555556,\"#d8576b\"],[0.6666666666666666,\"#ed7953\"],[0.7777777777777778,\"#fb9f3a\"],[0.8888888888888888,\"#fdca26\"],[1.0,\"#f0f921\"]],\"sequentialminus\":[[0.0,\"#0d0887\"],[0.1111111111111111,\"#46039f\"],[0.2222222222222222,\"#7201a8\"],[0.3333333333333333,\"#9c179e\"],[0.4444444444444444,\"#bd3786\"],[0.5555555555555556,\"#d8576b\"],[0.6666666666666666,\"#ed7953\"],[0.7777777777777778,\"#fb9f3a\"],[0.8888888888888888,\"#fdca26\"],[1.0,\"#f0f921\"]],\"diverging\":[[0,\"#8e0152\"],[0.1,\"#c51b7d\"],[0.2,\"#de77ae\"],[0.3,\"#f1b6da\"],[0.4,\"#fde0ef\"],[0.5,\"#f7f7f7\"],[0.6,\"#e6f5d0\"],[0.7,\"#b8e186\"],[0.8,\"#7fbc41\"],[0.9,\"#4d9221\"],[1,\"#276419\"]]},\"xaxis\":{\"gridcolor\":\"white\",\"linecolor\":\"white\",\"ticks\":\"\",\"title\":{\"standoff\":15},\"zerolinecolor\":\"white\",\"automargin\":true,\"zerolinewidth\":2},\"yaxis\":{\"gridcolor\":\"white\",\"linecolor\":\"white\",\"ticks\":\"\",\"title\":{\"standoff\":15},\"zerolinecolor\":\"white\",\"automargin\":true,\"zerolinewidth\":2},\"scene\":{\"xaxis\":{\"backgroundcolor\":\"#E5ECF6\",\"gridcolor\":\"white\",\"linecolor\":\"white\",\"showbackground\":true,\"ticks\":\"\",\"zerolinecolor\":\"white\",\"gridwidth\":2},\"yaxis\":{\"backgroundcolor\":\"#E5ECF6\",\"gridcolor\":\"white\",\"linecolor\":\"white\",\"showbackground\":true,\"ticks\":\"\",\"zerolinecolor\":\"white\",\"gridwidth\":2},\"zaxis\":{\"backgroundcolor\":\"#E5ECF6\",\"gridcolor\":\"white\",\"linecolor\":\"white\",\"showbackground\":true,\"ticks\":\"\",\"zerolinecolor\":\"white\",\"gridwidth\":2}},\"shapedefaults\":{\"line\":{\"color\":\"#2a3f5f\"}},\"annotationdefaults\":{\"arrowcolor\":\"#2a3f5f\",\"arrowhead\":0,\"arrowwidth\":1},\"geo\":{\"bgcolor\":\"white\",\"landcolor\":\"#E5ECF6\",\"subunitcolor\":\"white\",\"showland\":true,\"showlakes\":true,\"lakecolor\":\"white\"},\"title\":{\"x\":0.05},\"mapbox\":{\"style\":\"light\"}}},\"scene\":{\"domain\":{\"x\":[0.0,1.0],\"y\":[0.0,1.0]},\"xaxis\":{\"title\":{\"text\":\"0\"}},\"yaxis\":{\"title\":{\"text\":\"1\"}},\"zaxis\":{\"title\":{\"text\":\"2\"}}},\"legend\":{\"title\":{\"text\":\"Cluster\"},\"tracegroupgap\":0},\"title\":{\"text\":\"3d TSNE Plot for Clusters\"},\"height\":800,\"width\":900},                        {\"responsive\": true}                    ).then(function(){\n",
              "                            \n",
              "var gd = document.getElementById('30086075-a4dd-4c41-a5e2-78400a147cff');\n",
              "var x = new MutationObserver(function (mutations, observer) {{\n",
              "        var display = window.getComputedStyle(gd).display;\n",
              "        if (!display || display === 'none') {{\n",
              "            console.log([gd, 'removed!']);\n",
              "            Plotly.purge(gd);\n",
              "            observer.disconnect();\n",
              "        }}\n",
              "}});\n",
              "\n",
              "// Listen for the removal of the full notebook cells\n",
              "var notebookContainer = gd.closest('#notebook-container');\n",
              "if (notebookContainer) {{\n",
              "    x.observe(notebookContainer, {childList: true});\n",
              "}}\n",
              "\n",
              "// Listen for the clearing of the current output cell\n",
              "var outputEl = gd.closest('.output');\n",
              "if (outputEl) {{\n",
              "    x.observe(outputEl, {childList: true});\n",
              "}}\n",
              "\n",
              "                        })                };                            </script>        </div>\n",
              "</body>\n",
              "</html>"
            ]
          },
          "metadata": {}
        }
      ]
    }
  ]
}