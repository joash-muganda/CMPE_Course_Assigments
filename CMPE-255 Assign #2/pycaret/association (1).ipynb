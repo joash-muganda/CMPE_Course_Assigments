{
  "nbformat": 4,
  "nbformat_minor": 0,
  "metadata": {
    "colab": {
      "provenance": [],
      "gpuType": "T4"
    },
    "kernelspec": {
      "name": "python3",
      "display_name": "Python 3"
    },
    "language_info": {
      "name": "python"
    },
    "accelerator": "GPU"
  },
  "cells": [
    {
      "cell_type": "markdown",
      "source": [
        "# **Association Rule Mining**"
      ],
      "metadata": {
        "id": "biMsIU4g7Oae"
      }
    },
    {
      "cell_type": "markdown",
      "source": [
        "# Lots of of help from chatGPT"
      ],
      "metadata": {
        "id": "9qdo_mnO-Cli"
      }
    },
    {
      "cell_type": "code",
      "source": [
        "!pip install mlxtend\n"
      ],
      "metadata": {
        "id": "_wFw9OZ_9xYK"
      },
      "execution_count": null,
      "outputs": []
    },
    {
      "cell_type": "code",
      "source": [
        "import pandas as pd"
      ],
      "metadata": {
        "id": "yb5Yacxze2jw"
      },
      "execution_count": null,
      "outputs": []
    },
    {
      "cell_type": "code",
      "source": [
        "!pip install Faker\n"
      ],
      "metadata": {
        "id": "hElX9k6KfrQN"
      },
      "execution_count": null,
      "outputs": []
    },
    {
      "cell_type": "code",
      "source": [
        "from mlxtend.frequent_patterns import apriori\n",
        "\n",
        "\n"
      ],
      "metadata": {
        "id": "bSJFxZ3V-7Jg"
      },
      "execution_count": 7,
      "outputs": []
    },
    {
      "cell_type": "markdown",
      "source": [
        "# **Creating fake data:**"
      ],
      "metadata": {
        "id": "KhIYZ6eTedFv"
      }
    },
    {
      "cell_type": "code",
      "source": [
        "\n",
        "\n",
        "# Create the DataFrame with the data- fake data\n",
        "data = pd.DataFrame({\n",
        "    \"Transaction ID\": [1, 1, 1, 2, 2, 3, 3, 4, 4, 4, 5, 5, 5],\n",
        "    \"Product\": [\"Item A\", \"Item B\", \"Item C\", \"Item A\", \"Item C\", \"Item B\", \"Item D\", \"Item A\", \"Item C\", \"Item D\", \"Item B\", \"Item C\", \"Item E\"]\n",
        "})\n",
        "\n",
        "# Save the DataFrame as a CSV file\n",
        "data.to_csv(\"association_rule_data.csv\", index=False)"
      ],
      "metadata": {
        "id": "jdyKeOYWeT7B"
      },
      "execution_count": null,
      "outputs": []
    },
    {
      "cell_type": "code",
      "source": [
        "import pandas as pd\n",
        "\n",
        "# Load the transaction data\n",
        "data = pd.read_csv(\"association_rule_data.csv\")\n",
        "\n",
        "# Perform one-hot encoding\n",
        "transaction_encoded = pd.get_dummies(data, columns=[\"Product\"], prefix=\"\", prefix_sep=\"\")\n",
        "\n",
        "# grouping by Id\n",
        "transaction_encoded = transaction_encoded.groupby(\"Transaction ID\").sum()\n"
      ],
      "metadata": {
        "id": "wpLmwbHjkMNH"
      },
      "execution_count": null,
      "outputs": []
    },
    {
      "cell_type": "code",
      "source": [
        "from mlxtend.frequent_patterns import apriori\n",
        "\n",
        "# min support\n",
        "min_support = 0.2\n",
        "\n",
        "# Frequent items\n",
        "frequent_itemsets = apriori(transaction_encoded, min_support=min_support, use_colnames=True)\n"
      ],
      "metadata": {
        "id": "IZa9yVs-kcZc"
      },
      "execution_count": null,
      "outputs": []
    },
    {
      "cell_type": "code",
      "source": [
        "from mlxtend.frequent_patterns import association_rules\n",
        "\n",
        "# min threshhold\n",
        "min_threshold = 0.5\n",
        "\n",
        "#  rules\n",
        "rules = association_rules(frequent_itemsets, metric=\"lift\", min_threshold=min_threshold)\n"
      ],
      "metadata": {
        "id": "PYwfGKwUkoxU"
      },
      "execution_count": null,
      "outputs": []
    },
    {
      "cell_type": "code",
      "source": [
        "top_rules = rules.sort_values(by=[\"lift\", \"confidence\"], ascending=[False, False])\n",
        "print(top_rules.head())\n"
      ],
      "metadata": {
        "id": "UGW5TKLblBST"
      },
      "execution_count": null,
      "outputs": []
    },
    {
      "cell_type": "code",
      "source": [
        "#be add justed(values)\n",
        "min_confidence = 0.5\n",
        "min_support = 0.01\n",
        "min_lift = 1.5\n",
        "filtered_rules = rules[(rules[\"lift\"] >= min_lift) & (rules[\"confidence\"] >= min_confidence) & (rules[\"support\"] >= min_support)]\n"
      ],
      "metadata": {
        "id": "QaHzbZT2lJ6k"
      },
      "execution_count": null,
      "outputs": []
    },
    {
      "cell_type": "code",
      "source": [
        "import matplotlib.pyplot as plt\n",
        "import networkx as nx\n",
        "\n",
        "# association graph\n",
        "G = nx.DiGraph()\n",
        "\n",
        "for i, row in filtered_rules.iterrows():\n",
        "    G.add_edge(row[\"antecedents\"], row[\"consequents\"], weight=row[\"lift\"])\n",
        "\n",
        "# Plot association graph\n",
        "pos = nx.spring_layout(G, seed=42)\n",
        "labels = {node: node for node in G.nodes()}\n",
        "nx.draw(G, pos, with_labels=True, labels=labels, font_size=8, node_size=2000, node_color=\"skyblue\")\n",
        "plt.show()\n"
      ],
      "metadata": {
        "colab": {
          "base_uri": "https://localhost:8080/",
          "height": 571
        },
        "id": "WWjSInzqmFLp",
        "outputId": "9ecb19a6-21b2-496d-9a43-3ae9011c21a9"
      },
      "execution_count": 33,
      "outputs": [
        {
          "output_type": "stream",
          "name": "stderr",
          "text": [
            "/usr/local/lib/python3.10/dist-packages/ipykernel/ipkernel.py:283: DeprecationWarning: `should_run_async` will not call `transform_cell` automatically in the future. Please pass the result to `transformed_cell` argument and any exception that happen during thetransform in `preprocessing_exc_tuple` in IPython 7.17 and above.\n",
            "  and should_run_async(code)\n"
          ]
        },
        {
          "output_type": "display_data",
          "data": {
            "text/plain": [
              "<Figure size 640x480 with 1 Axes>"
            ],
            "image/png": "[encoded data removed]"
          },
          "metadata": {}
        }
      ]
    }
  ]
}